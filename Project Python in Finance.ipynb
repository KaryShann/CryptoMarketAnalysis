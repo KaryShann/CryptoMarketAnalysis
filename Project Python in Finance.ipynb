{
 "cells": [
  {
   "cell_type": "markdown",
   "id": "55a2e895",
   "metadata": {},
   "source": [
    "# Importing libraries that we will use"
   ]
  },
  {
   "cell_type": "code",
   "execution_count": 92,
   "id": "8f6fcf4c",
   "metadata": {},
   "outputs": [],
   "source": [
    "import pandas as pd\n",
    "import matplotlib.pyplot as plt\n",
    "import numpy as np\n",
    "import seaborn as sns\n",
    "import datetime as dt\n",
    "#import pandas_datareader.data as reader"
   ]
  },
  {
   "cell_type": "markdown",
   "id": "52cd86ae",
   "metadata": {},
   "source": [
    "# Load the CSV file into a pandas DataFrame using the read_csv() function.\n",
    "Importing data from csv that contain the Bitcoin data."
   ]
  },
  {
   "cell_type": "code",
   "execution_count": 2,
   "id": "a4c4ed27",
   "metadata": {},
   "outputs": [],
   "source": [
    "bitcoin = pd.read_csv('./Documents/UCD python for finance/project/data/Bitcoin - Bitcoin.csv')"
   ]
  },
  {
   "cell_type": "code",
   "execution_count": 3,
   "id": "5ef7532a",
   "metadata": {
    "scrolled": true
   },
   "outputs": [
    {
     "name": "stdout",
     "output_type": "stream",
     "text": [
      "              Date       Open*        High         Low     Close**  \\\n",
      "0     feb 28, 2023  $23,521.84  $23,585.38  $23,077.65  $23,147.35   \n",
      "1     feb 27, 2023  $23,561.45  $23,857.89  $23,205.88  $23,522.87   \n",
      "2     feb 26, 2023  $23,174.15  $23,654.37  $23,084.22  $23,561.21   \n",
      "3     feb 25, 2023  $23,200.13  $23,210.21  $22,861.56  $23,175.38   \n",
      "4     feb 24, 2023  $23,946.01  $24,103.70  $23,007.07  $23,198.13   \n",
      "...            ...         ...         ...         ...         ...   \n",
      "3589  may 02, 2013     $116.38     $125.60      $92.28     $105.21   \n",
      "3590  may 01, 2013     $139.00     $139.89     $107.72     $116.99   \n",
      "3591  Apr 30, 2013     $144.00     $146.93     $134.05     $139.00   \n",
      "3592  Apr 29, 2013     $134.44     $147.49     $134.00     $144.54   \n",
      "3593  Apr 28, 2013     $135.30     $135.98     $132.10     $134.21   \n",
      "\n",
      "               Volume        Market Cap  \n",
      "0     $20,535,363,434  $446,846,764,116  \n",
      "1     $22,660,763,494  $454,075,216,420  \n",
      "2     $16,644,534,842  $454,795,165,823  \n",
      "3     $16,100,721,565  $447,323,985,683  \n",
      "4     $26,811,744,928  $447,747,058,644  \n",
      "...               ...               ...  \n",
      "3589               $0    $1,168,517,495  \n",
      "3590               $0    $1,298,954,594  \n",
      "3591               $0    $1,542,813,125  \n",
      "3592               $0    $1,603,768,865  \n",
      "3593               $0    $1,488,566,728  \n",
      "\n",
      "[3594 rows x 7 columns]\n"
     ]
    }
   ],
   "source": [
    "print(bitcoin)"
   ]
  },
  {
   "cell_type": "markdown",
   "id": "90613e01",
   "metadata": {},
   "source": [
    "For to be sure that the contents of the DataFrame reflect the meaning of my data, we need to clean and inspect the data."
   ]
  },
  {
   "cell_type": "markdown",
   "id": "c920a24f",
   "metadata": {},
   "source": [
    "### We will use the .head() method which displays the first 5 rows"
   ]
  },
  {
   "cell_type": "code",
   "execution_count": 4,
   "id": "d585b929",
   "metadata": {},
   "outputs": [
    {
     "name": "stdout",
     "output_type": "stream",
     "text": [
      "           Date       Open*        High         Low     Close**  \\\n",
      "0  feb 28, 2023  $23,521.84  $23,585.38  $23,077.65  $23,147.35   \n",
      "1  feb 27, 2023  $23,561.45  $23,857.89  $23,205.88  $23,522.87   \n",
      "2  feb 26, 2023  $23,174.15  $23,654.37  $23,084.22  $23,561.21   \n",
      "3  feb 25, 2023  $23,200.13  $23,210.21  $22,861.56  $23,175.38   \n",
      "4  feb 24, 2023  $23,946.01  $24,103.70  $23,007.07  $23,198.13   \n",
      "\n",
      "            Volume        Market Cap  \n",
      "0  $20,535,363,434  $446,846,764,116  \n",
      "1  $22,660,763,494  $454,075,216,420  \n",
      "2  $16,644,534,842  $454,795,165,823  \n",
      "3  $16,100,721,565  $447,323,985,683  \n",
      "4  $26,811,744,928  $447,747,058,644  \n"
     ]
    }
   ],
   "source": [
    "print(bitcoin.head())"
   ]
  },
  {
   "cell_type": "markdown",
   "id": "6901fb90",
   "metadata": {},
   "source": [
    "# Replace missing values"
   ]
  },
  {
   "cell_type": "markdown",
   "id": "90db6c5e",
   "metadata": {},
   "source": [
    "Some important questions to answer that will help to clean the data are:\n",
    "\n",
    "Which data type would you expect pandas to assign to each column?\n",
    "What symbol is used to represent a missing value?"
   ]
  },
  {
   "cell_type": "markdown",
   "id": "df67ca31",
   "metadata": {},
   "source": [
    "Looking the data we will expect 6 columns type float64 and 1 column type datetime64.\n",
    "\n",
    "We can see missing values from the first printing at the end of the data, we can print the last 5 rows to check, we will use .tail() function to display the last 5 rows."
   ]
  },
  {
   "cell_type": "code",
   "execution_count": 5,
   "id": "9225a381",
   "metadata": {
    "scrolled": true
   },
   "outputs": [
    {
     "name": "stdout",
     "output_type": "stream",
     "text": [
      "              Date    Open*     High      Low  Close** Volume      Market Cap\n",
      "3589  may 02, 2013  $116.38  $125.60   $92.28  $105.21     $0  $1,168,517,495\n",
      "3590  may 01, 2013  $139.00  $139.89  $107.72  $116.99     $0  $1,298,954,594\n",
      "3591  Apr 30, 2013  $144.00  $146.93  $134.05  $139.00     $0  $1,542,813,125\n",
      "3592  Apr 29, 2013  $134.44  $147.49  $134.00  $144.54     $0  $1,603,768,865\n",
      "3593  Apr 28, 2013  $135.30  $135.98  $132.10  $134.21     $0  $1,488,566,728\n"
     ]
    }
   ],
   "source": [
    "print(bitcoin.tail())"
   ]
  },
  {
   "cell_type": "markdown",
   "id": "25931119",
   "metadata": {},
   "source": [
    "The DataFrame show some values in cero in the column 'volume' at the last rows, are represented with value '0', in case that we need it in future analysis we will extract the column and see until what date we have data. In this analysis we will need some of this data, closing prices since 2013, this is the reason we are not removing this rows. In other case, we can use the method of pandas dropna(), to remove missing values."
   ]
  },
  {
   "cell_type": "markdown",
   "id": "82b16652",
   "metadata": {},
   "source": [
    "# Inspect the data\n",
    "I will use the .info() to identify dtype mismatches in the DataFrame summary, see the content and the missing values."
   ]
  },
  {
   "cell_type": "code",
   "execution_count": 6,
   "id": "fafdf42c",
   "metadata": {},
   "outputs": [
    {
     "name": "stdout",
     "output_type": "stream",
     "text": [
      "<class 'pandas.core.frame.DataFrame'>\n",
      "RangeIndex: 3594 entries, 0 to 3593\n",
      "Data columns (total 7 columns):\n",
      " #   Column      Non-Null Count  Dtype \n",
      "---  ------      --------------  ----- \n",
      " 0   Date        3594 non-null   object\n",
      " 1   Open*       3594 non-null   object\n",
      " 2   High        3594 non-null   object\n",
      " 3   Low         3594 non-null   object\n",
      " 4   Close**     3594 non-null   object\n",
      " 5   Volume      3594 non-null   object\n",
      " 6   Market Cap  3594 non-null   object\n",
      "dtypes: object(7)\n",
      "memory usage: 196.7+ KB\n"
     ]
    }
   ],
   "source": [
    "bitcoin.info()"
   ]
  },
  {
   "cell_type": "markdown",
   "id": "cc40c105",
   "metadata": {},
   "source": [
    "This Dataframe has 3594 entries, in other words has 3594 rows and 7 columns \n",
    "as we can see the dtypes are all object, this is one thing that we need to change, then we will be able to work with the data as we want to manipulate numbers, that will help to get some results in our analysis. \n",
    "\n",
    "This DataFrame don't show any missing values, but we will use the na_values parameter to replace any missing values\n",
    "\n",
    "We will use parse_dates parameter to turn things into real datetime types. parse_dates takes a list of columns, in case you want to parse multiple columns into datetimes."
   ]
  },
  {
   "cell_type": "code",
   "execution_count": 7,
   "id": "ca6f190f",
   "metadata": {},
   "outputs": [],
   "source": [
    "bitcoin = pd.read_csv('./Documents/UCD python for finance/project/data/Bitcoin - Bitcoin.csv', na_values='n/a', parse_dates =['Date'])"
   ]
  },
  {
   "cell_type": "code",
   "execution_count": 8,
   "id": "a0b4fa0f",
   "metadata": {
    "scrolled": false
   },
   "outputs": [
    {
     "name": "stdout",
     "output_type": "stream",
     "text": [
      "        Date       Open*        High         Low     Close**           Volume  \\\n",
      "0 2023-02-28  $23,521.84  $23,585.38  $23,077.65  $23,147.35  $20,535,363,434   \n",
      "1 2023-02-27  $23,561.45  $23,857.89  $23,205.88  $23,522.87  $22,660,763,494   \n",
      "2 2023-02-26  $23,174.15  $23,654.37  $23,084.22  $23,561.21  $16,644,534,842   \n",
      "3 2023-02-25  $23,200.13  $23,210.21  $22,861.56  $23,175.38  $16,100,721,565   \n",
      "4 2023-02-24  $23,946.01  $24,103.70  $23,007.07  $23,198.13  $26,811,744,928   \n",
      "\n",
      "         Market Cap  \n",
      "0  $446,846,764,116  \n",
      "1  $454,075,216,420  \n",
      "2  $454,795,165,823  \n",
      "3  $447,323,985,683  \n",
      "4  $447,747,058,644  \n"
     ]
    }
   ],
   "source": [
    "print(bitcoin.head())"
   ]
  },
  {
   "cell_type": "markdown",
   "id": "a0e1ce37",
   "metadata": {},
   "source": [
    "# Inspecting the data and changing dtypes."
   ]
  },
  {
   "cell_type": "code",
   "execution_count": 9,
   "id": "66d2c2e5",
   "metadata": {
    "scrolled": false
   },
   "outputs": [
    {
     "name": "stdout",
     "output_type": "stream",
     "text": [
      "<class 'pandas.core.frame.DataFrame'>\n",
      "RangeIndex: 3594 entries, 0 to 3593\n",
      "Data columns (total 7 columns):\n",
      " #   Column      Non-Null Count  Dtype         \n",
      "---  ------      --------------  -----         \n",
      " 0   Date        3594 non-null   datetime64[ns]\n",
      " 1   Open*       3594 non-null   object        \n",
      " 2   High        3594 non-null   object        \n",
      " 3   Low         3594 non-null   object        \n",
      " 4   Close**     3594 non-null   object        \n",
      " 5   Volume      3594 non-null   object        \n",
      " 6   Market Cap  3594 non-null   object        \n",
      "dtypes: datetime64[ns](1), object(6)\n",
      "memory usage: 196.7+ KB\n"
     ]
    }
   ],
   "source": [
    "bitcoin.info()"
   ]
  },
  {
   "cell_type": "code",
   "execution_count": 54,
   "id": "b8f61e26",
   "metadata": {},
   "outputs": [
    {
     "name": "stdout",
     "output_type": "stream",
     "text": [
      "The dataframe does not contain any missing values.\n"
     ]
    }
   ],
   "source": [
    "# Check for missing values\n",
    "if bitcoin.isnull().values.any():\n",
    "    print(\"The dataframe contains missing values.\")\n",
    "else:\n",
    "    print(\"The dataframe does not contain any missing values.\")"
   ]
  },
  {
   "cell_type": "markdown",
   "id": "223f2777",
   "metadata": {},
   "source": [
    "We use the isnull() method to check for missing values in the dataframe. The values attribute returns a numpy array of boolean values indicating whether each element is missing or not"
   ]
  },
  {
   "cell_type": "markdown",
   "id": "e689454a",
   "metadata": {},
   "source": [
    "We use the any() method to check whether there is at least one missing value in the dataframe. If there are missing values, we print a message that the dataframe contains missing values. Otherwise, print that does not contain any missing values."
   ]
  },
  {
   "cell_type": "markdown",
   "id": "73914253",
   "metadata": {},
   "source": [
    "We can see that using this parameters, na_values and parse_dates, the column Date has changed to dtype like datetime64 and we are sure that we don't have any missing values"
   ]
  },
  {
   "cell_type": "markdown",
   "id": "7de4301f",
   "metadata": {},
   "source": [
    "Change the other 6 columns dtypes to float"
   ]
  },
  {
   "cell_type": "markdown",
   "id": "e7fea365",
   "metadata": {},
   "source": [
    "Convert multiple columns by passing a list of column names to the astype method.\n",
    "\n",
    "bitcoin[['Open*', 'High','Low','Close**','Volume','Market Cap']] = bitcoin[['Open*', 'High','Low','Close**','Volume','Market Cap']].astype(float)\n",
    "\n",
    "This wasn't working because there are non numeric symbols like '$' and ','."
   ]
  },
  {
   "cell_type": "markdown",
   "id": "bfa8a8e8",
   "metadata": {},
   "source": [
    "# Removing the non-numeric characters from the colums"
   ]
  },
  {
   "cell_type": "code",
   "execution_count": 10,
   "id": "ccea6b31",
   "metadata": {},
   "outputs": [],
   "source": [
    "bitcoin['Open*'] = bitcoin['Open*'].str.replace('[^\\d\\.]', '', regex=True)"
   ]
  },
  {
   "cell_type": "markdown",
   "id": "c1224879",
   "metadata": {},
   "source": [
    "Checking if the non numeric characters are gone from the Open* column "
   ]
  },
  {
   "cell_type": "code",
   "execution_count": 11,
   "id": "9ef4d59d",
   "metadata": {},
   "outputs": [
    {
     "name": "stdout",
     "output_type": "stream",
     "text": [
      "        Date     Open*        High         Low     Close**           Volume  \\\n",
      "0 2023-02-28  23521.84  $23,585.38  $23,077.65  $23,147.35  $20,535,363,434   \n",
      "1 2023-02-27  23561.45  $23,857.89  $23,205.88  $23,522.87  $22,660,763,494   \n",
      "2 2023-02-26  23174.15  $23,654.37  $23,084.22  $23,561.21  $16,644,534,842   \n",
      "3 2023-02-25  23200.13  $23,210.21  $22,861.56  $23,175.38  $16,100,721,565   \n",
      "4 2023-02-24  23946.01  $24,103.70  $23,007.07  $23,198.13  $26,811,744,928   \n",
      "\n",
      "         Market Cap  \n",
      "0  $446,846,764,116  \n",
      "1  $454,075,216,420  \n",
      "2  $454,795,165,823  \n",
      "3  $447,323,985,683  \n",
      "4  $447,747,058,644  \n"
     ]
    }
   ],
   "source": [
    "print(bitcoin.head())"
   ]
  },
  {
   "cell_type": "markdown",
   "id": "c9fc9eee",
   "metadata": {},
   "source": [
    "We will remove the non-numerical characters of the rest of the columns"
   ]
  },
  {
   "cell_type": "code",
   "execution_count": 12,
   "id": "32f494e9",
   "metadata": {},
   "outputs": [],
   "source": [
    "bitcoin['High'] = bitcoin['High'].str.replace('[^\\d\\.]', '', regex=True)"
   ]
  },
  {
   "cell_type": "code",
   "execution_count": 13,
   "id": "23dd69cf",
   "metadata": {},
   "outputs": [],
   "source": [
    "bitcoin['Low'] = bitcoin['Low'].str.replace('[^\\d\\.]', '', regex=True)"
   ]
  },
  {
   "cell_type": "code",
   "execution_count": 14,
   "id": "e92213ff",
   "metadata": {},
   "outputs": [],
   "source": [
    "bitcoin['Close**'] = bitcoin['Close**'].str.replace('[^\\d\\.]', '', regex=True)"
   ]
  },
  {
   "cell_type": "code",
   "execution_count": 15,
   "id": "f03191fc",
   "metadata": {},
   "outputs": [],
   "source": [
    "bitcoin['Volume'] = bitcoin['Volume'].str.replace('[^\\d\\.]', '', regex=True)"
   ]
  },
  {
   "cell_type": "code",
   "execution_count": 16,
   "id": "9cb6bb16",
   "metadata": {},
   "outputs": [],
   "source": [
    "bitcoin['Market Cap'] = bitcoin['Market Cap'].str.replace('[^\\d\\.]', '', regex=True)"
   ]
  },
  {
   "cell_type": "markdown",
   "id": "30b7a5c8",
   "metadata": {},
   "source": [
    "Printing the first 5 rows of the DataFrame, checking if the non-numerical characters are gone in the rest of the columns"
   ]
  },
  {
   "cell_type": "code",
   "execution_count": 17,
   "id": "2c07a1f4",
   "metadata": {},
   "outputs": [
    {
     "name": "stdout",
     "output_type": "stream",
     "text": [
      "        Date     Open*      High       Low   Close**       Volume  \\\n",
      "0 2023-02-28  23521.84  23585.38  23077.65  23147.35  20535363434   \n",
      "1 2023-02-27  23561.45  23857.89  23205.88  23522.87  22660763494   \n",
      "2 2023-02-26  23174.15  23654.37  23084.22  23561.21  16644534842   \n",
      "3 2023-02-25  23200.13  23210.21  22861.56  23175.38  16100721565   \n",
      "4 2023-02-24  23946.01  24103.70  23007.07  23198.13  26811744928   \n",
      "\n",
      "     Market Cap  \n",
      "0  446846764116  \n",
      "1  454075216420  \n",
      "2  454795165823  \n",
      "3  447323985683  \n",
      "4  447747058644  \n"
     ]
    }
   ],
   "source": [
    "print(bitcoin.head())"
   ]
  },
  {
   "cell_type": "markdown",
   "id": "524b3e77",
   "metadata": {},
   "source": [
    "# Change the dtype from object to float64"
   ]
  },
  {
   "cell_type": "code",
   "execution_count": 18,
   "id": "b0a5c2a0",
   "metadata": {},
   "outputs": [],
   "source": [
    "bitcoin[['Open*', 'High','Low','Close**','Volume','Market Cap']] = bitcoin[['Open*', 'High','Low','Close**','Volume','Market Cap']].astype(float)"
   ]
  },
  {
   "cell_type": "markdown",
   "id": "81504b42",
   "metadata": {},
   "source": [
    "Inspect the data .info() and see if the dtypes changed in all the columns."
   ]
  },
  {
   "cell_type": "code",
   "execution_count": 19,
   "id": "b120d09f",
   "metadata": {},
   "outputs": [
    {
     "name": "stdout",
     "output_type": "stream",
     "text": [
      "<class 'pandas.core.frame.DataFrame'>\n",
      "RangeIndex: 3594 entries, 0 to 3593\n",
      "Data columns (total 7 columns):\n",
      " #   Column      Non-Null Count  Dtype         \n",
      "---  ------      --------------  -----         \n",
      " 0   Date        3594 non-null   datetime64[ns]\n",
      " 1   Open*       3594 non-null   float64       \n",
      " 2   High        3594 non-null   float64       \n",
      " 3   Low         3594 non-null   float64       \n",
      " 4   Close**     3594 non-null   float64       \n",
      " 5   Volume      3594 non-null   float64       \n",
      " 6   Market Cap  3594 non-null   float64       \n",
      "dtypes: datetime64[ns](1), float64(6)\n",
      "memory usage: 196.7 KB\n"
     ]
    }
   ],
   "source": [
    "bitcoin.info()"
   ]
  },
  {
   "cell_type": "markdown",
   "id": "75b660bb",
   "metadata": {},
   "source": [
    "As we can see the dtypes of the 6 columns changed to float64 and we have one column with datetime64 that represents the Dates.\n",
    "\n",
    "This change will help if we want to use the data and we want to compare different numbers to analize the prices sensibility."
   ]
  },
  {
   "cell_type": "markdown",
   "id": "17e8f4ed",
   "metadata": {},
   "source": [
    "# Drop duplicates Dates in the DataFrame.\n",
    "\n",
    "We use the duplicated() method with the subset parameter set to 'Date' to check for duplicates in that column. The duplicated() method returns a boolean series where True indicates that the row is a duplicated and False indicates that it is not."
   ]
  },
  {
   "cell_type": "code",
   "execution_count": 20,
   "id": "f49eba15",
   "metadata": {
    "scrolled": true
   },
   "outputs": [
    {
     "name": "stdout",
     "output_type": "stream",
     "text": [
      "There are no duplicated Dates.\n"
     ]
    }
   ],
   "source": [
    "# check for duplicates\n",
    "duplicates = bitcoin.duplicated(subset=['Date'])\n",
    "\n",
    "# get only the duplicated rows\n",
    "duplicated_rows = bitcoin[duplicates]\n",
    "\n",
    "# print out the duplicated row using the 'empty' attribute\n",
    "if duplicated_rows.empty:\n",
    "    print(\"There are no duplicated Dates.\")\n",
    "else:\n",
    "    print(duplicated_rows)"
   ]
  },
  {
   "cell_type": "markdown",
   "id": "aed6fd55",
   "metadata": {},
   "source": [
    "We use boolean indexing to get only the rows where duplicates is True. This gives us a new dataframe called duplicated_rows that contains only the rows with duplicate Date values."
   ]
  },
  {
   "cell_type": "markdown",
   "id": "8e25a12c",
   "metadata": {},
   "source": [
    "# Indexing the column 'Date'"
   ]
  },
  {
   "cell_type": "code",
   "execution_count": 21,
   "id": "6245f70b",
   "metadata": {},
   "outputs": [],
   "source": [
    "bitcoin.set_index('Date', inplace=True)"
   ]
  },
  {
   "cell_type": "markdown",
   "id": "5da1d59f",
   "metadata": {},
   "source": [
    "Use the set_index() method to set the 'Date' column as the index of the DataFrame.\n",
    "\n",
    "Use the inplace=True parameter to modify the DataFrame in place, no creating a new one."
   ]
  },
  {
   "cell_type": "code",
   "execution_count": 22,
   "id": "4d05a273",
   "metadata": {},
   "outputs": [
    {
     "name": "stdout",
     "output_type": "stream",
     "text": [
      "               Open*      High       Low   Close**        Volume    Market Cap\n",
      "Date                                                                          \n",
      "2023-02-28  23521.84  23585.38  23077.65  23147.35  2.053536e+10  4.468468e+11\n",
      "2023-02-27  23561.45  23857.89  23205.88  23522.87  2.266076e+10  4.540752e+11\n",
      "2023-02-26  23174.15  23654.37  23084.22  23561.21  1.664453e+10  4.547952e+11\n",
      "2023-02-25  23200.13  23210.21  22861.56  23175.38  1.610072e+10  4.473240e+11\n",
      "2023-02-24  23946.01  24103.70  23007.07  23198.13  2.681174e+10  4.477471e+11\n"
     ]
    }
   ],
   "source": [
    "print(bitcoin.head())"
   ]
  },
  {
   "cell_type": "code",
   "execution_count": 23,
   "id": "7c6c8a59",
   "metadata": {},
   "outputs": [
    {
     "name": "stdout",
     "output_type": "stream",
     "text": [
      "<class 'pandas.core.frame.DataFrame'>\n",
      "DatetimeIndex: 3594 entries, 2023-02-28 to 2013-04-28\n",
      "Data columns (total 6 columns):\n",
      " #   Column      Non-Null Count  Dtype  \n",
      "---  ------      --------------  -----  \n",
      " 0   Open*       3594 non-null   float64\n",
      " 1   High        3594 non-null   float64\n",
      " 2   Low         3594 non-null   float64\n",
      " 3   Close**     3594 non-null   float64\n",
      " 4   Volume      3594 non-null   float64\n",
      " 5   Market Cap  3594 non-null   float64\n",
      "dtypes: float64(6)\n",
      "memory usage: 196.5 KB\n"
     ]
    }
   ],
   "source": [
    "bitcoin.info()"
   ]
  },
  {
   "cell_type": "markdown",
   "id": "3d5f6eca",
   "metadata": {},
   "source": [
    "The DataFrame has a DatetimeIndex with 3594 entries, contain one row for each day of trading days. \n",
    "Starting on 28/02/2023 until 28/04/2013.\n",
    "\n",
    "There are 6 columns, the first 4 columns summarize the price distribution for the days, the first price, highest price, the lowest price, the last price and the last 2 columns represent the Volume and the Market Cap. "
   ]
  },
  {
   "cell_type": "markdown",
   "id": "33feba51",
   "metadata": {},
   "source": [
    "# Sorting by Date"
   ]
  },
  {
   "cell_type": "code",
   "execution_count": 24,
   "id": "30f0ab5b",
   "metadata": {},
   "outputs": [],
   "source": [
    "bitcoin_df = bitcoin.sort_values(by=\"Date\", ascending=True)"
   ]
  },
  {
   "cell_type": "code",
   "execution_count": 25,
   "id": "6711f8be",
   "metadata": {},
   "outputs": [
    {
     "name": "stdout",
     "output_type": "stream",
     "text": [
      "             Open*    High     Low  Close**  Volume    Market Cap\n",
      "Date                                                             \n",
      "2013-04-28  135.30  135.98  132.10   134.21     0.0  1.488567e+09\n",
      "2013-04-29  134.44  147.49  134.00   144.54     0.0  1.603769e+09\n",
      "2013-04-30  144.00  146.93  134.05   139.00     0.0  1.542813e+09\n",
      "2013-05-01  139.00  139.89  107.72   116.99     0.0  1.298955e+09\n",
      "2013-05-02  116.38  125.60   92.28   105.21     0.0  1.168517e+09\n"
     ]
    }
   ],
   "source": [
    "print(bitcoin_df.head())"
   ]
  },
  {
   "cell_type": "markdown",
   "id": "7ca6e428",
   "metadata": {},
   "source": [
    "The sort_values( ) function is used to sort by the values along either axis. In this case we use 2 parameters, by= that indicate the column reference, that we want to sort the data and ascending=True allow to get the sorting in ascending order.\n",
    "\n",
    "We have cleaned and ready our DataFrame(bitcoin) for start the analysis."
   ]
  },
  {
   "cell_type": "markdown",
   "id": "43d54fc6",
   "metadata": {},
   "source": [
    "# Importing data from CSV for Ethereum"
   ]
  },
  {
   "cell_type": "code",
   "execution_count": 26,
   "id": "40d1f442",
   "metadata": {},
   "outputs": [],
   "source": [
    "Ethereum = pd.read_csv('./Documents/UCD python for finance/project/data/Ethereum - Ethereum.csv', na_values='n/a', parse_dates =['Date'])"
   ]
  },
  {
   "cell_type": "markdown",
   "id": "2b4188fc",
   "metadata": {},
   "source": [
    "We will use the parameters 'na_values' for missing values and parse_dates to change the column 'Date', Dtype from object to datetime64.   "
   ]
  },
  {
   "cell_type": "code",
   "execution_count": 27,
   "id": "5186537f",
   "metadata": {
    "scrolled": true
   },
   "outputs": [
    {
     "name": "stdout",
     "output_type": "stream",
     "text": [
      "           Date      Open*       High        Low    Close**          Volume  \\\n",
      "0    2023-02-28  $1,634.50  $1,644.44  $1,602.43  $1,605.90  $6,323,676,957   \n",
      "1    2023-02-27  $1,640.76  $1,662.58  $1,615.39  $1,634.33  $7,239,824,677   \n",
      "2    2023-02-26  $1,594.76  $1,645.27  $1,590.39  $1,640.82  $5,727,967,432   \n",
      "3    2023-02-25  $1,608.66  $1,608.87  $1,567.63  $1,594.91  $5,657,686,235   \n",
      "4    2023-02-24  $1,650.90  $1,661.09  $1,583.15  $1,608.37  $8,909,129,423   \n",
      "...         ...        ...        ...        ...        ...             ...   \n",
      "2758 2015-08-11    $0.7081      $1.13    $0.6632      $1.07      $1,463,100   \n",
      "2759 2015-08-10     $0.714    $0.7299    $0.6365    $0.7084        $405,283   \n",
      "2760 2015-08-09    $0.7061    $0.8798    $0.6292    $0.7019        $532,170   \n",
      "2761 2015-08-08      $2.79      $2.80    $0.7147    $0.7533        $674,188   \n",
      "2762 2015-08-07      $2.83      $3.54      $2.52      $2.77        $164,329   \n",
      "\n",
      "            Market Cap  \n",
      "0     $196,519,595,896  \n",
      "1     $199,998,836,364  \n",
      "2     $200,793,139,093  \n",
      "3     $195,175,909,086  \n",
      "4     $196,822,841,716  \n",
      "...                ...  \n",
      "2758       $64,569,288  \n",
      "2759       $42,818,364  \n",
      "2760       $42,399,573  \n",
      "2761       $45,486,894  \n",
      "2762      $166,610,555  \n",
      "\n",
      "[2763 rows x 7 columns]\n"
     ]
    }
   ],
   "source": [
    "print(Ethereum)"
   ]
  },
  {
   "cell_type": "markdown",
   "id": "42309096",
   "metadata": {},
   "source": [
    "# Clean the data  "
   ]
  },
  {
   "cell_type": "markdown",
   "id": "35c3254b",
   "metadata": {},
   "source": [
    "## Display and Inspect the data"
   ]
  },
  {
   "cell_type": "code",
   "execution_count": 28,
   "id": "41af719c",
   "metadata": {},
   "outputs": [
    {
     "name": "stdout",
     "output_type": "stream",
     "text": [
      "        Date      Open*       High        Low    Close**          Volume  \\\n",
      "0 2023-02-28  $1,634.50  $1,644.44  $1,602.43  $1,605.90  $6,323,676,957   \n",
      "1 2023-02-27  $1,640.76  $1,662.58  $1,615.39  $1,634.33  $7,239,824,677   \n",
      "2 2023-02-26  $1,594.76  $1,645.27  $1,590.39  $1,640.82  $5,727,967,432   \n",
      "3 2023-02-25  $1,608.66  $1,608.87  $1,567.63  $1,594.91  $5,657,686,235   \n",
      "4 2023-02-24  $1,650.90  $1,661.09  $1,583.15  $1,608.37  $8,909,129,423   \n",
      "\n",
      "         Market Cap  \n",
      "0  $196,519,595,896  \n",
      "1  $199,998,836,364  \n",
      "2  $200,793,139,093  \n",
      "3  $195,175,909,086  \n",
      "4  $196,822,841,716  \n"
     ]
    }
   ],
   "source": [
    "print(Ethereum.head())"
   ]
  },
  {
   "cell_type": "code",
   "execution_count": 29,
   "id": "598b7981",
   "metadata": {},
   "outputs": [
    {
     "name": "stdout",
     "output_type": "stream",
     "text": [
      "<class 'pandas.core.frame.DataFrame'>\n",
      "RangeIndex: 2763 entries, 0 to 2762\n",
      "Data columns (total 7 columns):\n",
      " #   Column      Non-Null Count  Dtype         \n",
      "---  ------      --------------  -----         \n",
      " 0   Date        2763 non-null   datetime64[ns]\n",
      " 1   Open*       2763 non-null   object        \n",
      " 2   High        2763 non-null   object        \n",
      " 3   Low         2763 non-null   object        \n",
      " 4   Close**     2763 non-null   object        \n",
      " 5   Volume      2763 non-null   object        \n",
      " 6   Market Cap  2763 non-null   object        \n",
      "dtypes: datetime64[ns](1), object(6)\n",
      "memory usage: 151.2+ KB\n"
     ]
    }
   ],
   "source": [
    "Ethereum.info()"
   ]
  },
  {
   "cell_type": "markdown",
   "id": "c8f4e036",
   "metadata": {},
   "source": [
    "As we can see we need to change the Dtype from object to float64 for the last 6 columns. We have 2763 entries(rows) and 7 columns. The columns names are Date, Open*, High, Low, Close**, Volume, Market Cap.\n",
    "\n",
    "### We don't have any missing values but we will check."
   ]
  },
  {
   "cell_type": "code",
   "execution_count": 55,
   "id": "9d110df7",
   "metadata": {
    "scrolled": true
   },
   "outputs": [
    {
     "name": "stdout",
     "output_type": "stream",
     "text": [
      "The dataframe does not contain any missing values.\n"
     ]
    }
   ],
   "source": [
    "# Check for missing values\n",
    "if Ethereum.isnull().values.any():\n",
    "    print(\"The dataframe contains missing values.\")\n",
    "else:\n",
    "    print(\"The dataframe does not contain any missing values.\")"
   ]
  },
  {
   "cell_type": "markdown",
   "id": "6fd99258",
   "metadata": {},
   "source": [
    "# Removing the non-numeric characters from the colums"
   ]
  },
  {
   "cell_type": "code",
   "execution_count": 30,
   "id": "de3977d1",
   "metadata": {},
   "outputs": [],
   "source": [
    "Ethereum['Open*'] = Ethereum['Open*'].str.replace('[^\\d\\.]', '', regex=True)\n",
    "Ethereum['High'] = Ethereum['High'].str.replace('[^\\d\\.]', '', regex=True)\n",
    "Ethereum['Low'] = Ethereum['Low'].str.replace('[^\\d\\.]', '', regex=True)\n",
    "Ethereum['Close**'] = Ethereum['Close**'].str.replace('[^\\d\\.]', '', regex=True)\n",
    "Ethereum['Volume'] = Ethereum['Volume'].str.replace('[^\\d\\.]', '', regex=True)\n",
    "Ethereum['Market Cap'] = Ethereum['Market Cap'].str.replace('[^\\d\\.]', '', regex=True)"
   ]
  },
  {
   "cell_type": "code",
   "execution_count": 31,
   "id": "f040e183",
   "metadata": {},
   "outputs": [
    {
     "name": "stdout",
     "output_type": "stream",
     "text": [
      "        Date    Open*     High      Low  Close**      Volume    Market Cap\n",
      "0 2023-02-28  1634.50  1644.44  1602.43  1605.90  6323676957  196519595896\n",
      "1 2023-02-27  1640.76  1662.58  1615.39  1634.33  7239824677  199998836364\n",
      "2 2023-02-26  1594.76  1645.27  1590.39  1640.82  5727967432  200793139093\n",
      "3 2023-02-25  1608.66  1608.87  1567.63  1594.91  5657686235  195175909086\n",
      "4 2023-02-24  1650.90  1661.09  1583.15  1608.37  8909129423  196822841716\n"
     ]
    }
   ],
   "source": [
    "print(Ethereum.head())"
   ]
  },
  {
   "cell_type": "markdown",
   "id": "4eae2527",
   "metadata": {},
   "source": [
    "# Change the dtype from object to float64"
   ]
  },
  {
   "cell_type": "code",
   "execution_count": 32,
   "id": "9ec10f39",
   "metadata": {},
   "outputs": [],
   "source": [
    "Ethereum[['Open*', 'High','Low','Close**','Volume','Market Cap']] = Ethereum[['Open*', 'High','Low','Close**','Volume','Market Cap']].astype(float)"
   ]
  },
  {
   "cell_type": "code",
   "execution_count": 33,
   "id": "bb2f3f40",
   "metadata": {},
   "outputs": [
    {
     "name": "stdout",
     "output_type": "stream",
     "text": [
      "<class 'pandas.core.frame.DataFrame'>\n",
      "RangeIndex: 2763 entries, 0 to 2762\n",
      "Data columns (total 7 columns):\n",
      " #   Column      Non-Null Count  Dtype         \n",
      "---  ------      --------------  -----         \n",
      " 0   Date        2763 non-null   datetime64[ns]\n",
      " 1   Open*       2763 non-null   float64       \n",
      " 2   High        2763 non-null   float64       \n",
      " 3   Low         2763 non-null   float64       \n",
      " 4   Close**     2763 non-null   float64       \n",
      " 5   Volume      2763 non-null   float64       \n",
      " 6   Market Cap  2763 non-null   float64       \n",
      "dtypes: datetime64[ns](1), float64(6)\n",
      "memory usage: 151.2 KB\n"
     ]
    }
   ],
   "source": [
    "Ethereum.info()"
   ]
  },
  {
   "cell_type": "markdown",
   "id": "1752bac9",
   "metadata": {},
   "source": [
    "We changed the Dtype to float64."
   ]
  },
  {
   "cell_type": "markdown",
   "id": "f8661c39",
   "metadata": {},
   "source": [
    "# Drop duplicates Dates in the DataFrame."
   ]
  },
  {
   "cell_type": "code",
   "execution_count": 34,
   "id": "f0f16600",
   "metadata": {},
   "outputs": [
    {
     "name": "stdout",
     "output_type": "stream",
     "text": [
      "There are no duplicated Dates.\n"
     ]
    }
   ],
   "source": [
    "# check for duplicates\n",
    "duplicates = Ethereum.duplicated(subset=['Date'])\n",
    "\n",
    "# get only the duplicated rows\n",
    "duplicated_rows = Ethereum[duplicates]\n",
    "\n",
    "# print out the duplicated row using the 'empty' attribute\n",
    "if duplicated_rows.empty:\n",
    "    print(\"There are no duplicated Dates.\")\n",
    "else:\n",
    "    print(duplicated_rows)"
   ]
  },
  {
   "cell_type": "markdown",
   "id": "a3e1819b",
   "metadata": {},
   "source": [
    "# Indexing the column 'Date'"
   ]
  },
  {
   "cell_type": "code",
   "execution_count": 35,
   "id": "18c0b247",
   "metadata": {},
   "outputs": [],
   "source": [
    "Ethereum.set_index('Date', inplace=True)"
   ]
  },
  {
   "cell_type": "code",
   "execution_count": 36,
   "id": "d8bfaf94",
   "metadata": {},
   "outputs": [
    {
     "name": "stdout",
     "output_type": "stream",
     "text": [
      "              Open*     High      Low  Close**        Volume    Market Cap\n",
      "Date                                                                      \n",
      "2023-02-28  1634.50  1644.44  1602.43  1605.90  6.323677e+09  1.965196e+11\n",
      "2023-02-27  1640.76  1662.58  1615.39  1634.33  7.239825e+09  1.999988e+11\n",
      "2023-02-26  1594.76  1645.27  1590.39  1640.82  5.727967e+09  2.007931e+11\n",
      "2023-02-25  1608.66  1608.87  1567.63  1594.91  5.657686e+09  1.951759e+11\n",
      "2023-02-24  1650.90  1661.09  1583.15  1608.37  8.909129e+09  1.968228e+11\n"
     ]
    }
   ],
   "source": [
    "print(Ethereum.head())"
   ]
  },
  {
   "cell_type": "code",
   "execution_count": 37,
   "id": "89733a5b",
   "metadata": {},
   "outputs": [
    {
     "name": "stdout",
     "output_type": "stream",
     "text": [
      "<class 'pandas.core.frame.DataFrame'>\n",
      "DatetimeIndex: 2763 entries, 2023-02-28 to 2015-08-07\n",
      "Data columns (total 6 columns):\n",
      " #   Column      Non-Null Count  Dtype  \n",
      "---  ------      --------------  -----  \n",
      " 0   Open*       2763 non-null   float64\n",
      " 1   High        2763 non-null   float64\n",
      " 2   Low         2763 non-null   float64\n",
      " 3   Close**     2763 non-null   float64\n",
      " 4   Volume      2763 non-null   float64\n",
      " 5   Market Cap  2763 non-null   float64\n",
      "dtypes: float64(6)\n",
      "memory usage: 151.1 KB\n"
     ]
    }
   ],
   "source": [
    "Ethereum.info()"
   ]
  },
  {
   "cell_type": "markdown",
   "id": "86e8e676",
   "metadata": {},
   "source": [
    "The Datetime Index = have 2763 entries(rows), the Dates are 28/02/2023 until 07/08/2015."
   ]
  },
  {
   "cell_type": "markdown",
   "id": "08484c9b",
   "metadata": {},
   "source": [
    "# Sorting by Date"
   ]
  },
  {
   "cell_type": "code",
   "execution_count": 42,
   "id": "38b4a5db",
   "metadata": {},
   "outputs": [],
   "source": [
    "Ethereum_df = Ethereum.sort_values(by=\"Date\", ascending=True)"
   ]
  },
  {
   "cell_type": "code",
   "execution_count": 44,
   "id": "c56af002",
   "metadata": {},
   "outputs": [
    {
     "name": "stdout",
     "output_type": "stream",
     "text": [
      "             Open*    High     Low  Close**     Volume   Market Cap\n",
      "Date                                                               \n",
      "2015-08-07  2.8300  3.5400  2.5200   2.7700   164329.0  166610555.0\n",
      "2015-08-08  2.7900  2.8000  0.7147   0.7533   674188.0   45486894.0\n",
      "2015-08-09  0.7061  0.8798  0.6292   0.7019   532170.0   42399573.0\n",
      "2015-08-10  0.7140  0.7299  0.6365   0.7084   405283.0   42818364.0\n",
      "2015-08-11  0.7081  1.1300  0.6632   1.0700  1463100.0   64569288.0\n"
     ]
    }
   ],
   "source": [
    "print(Ethereum_df.head())"
   ]
  },
  {
   "cell_type": "markdown",
   "id": "419c10f1",
   "metadata": {},
   "source": [
    "We have cleaned and ready our DataFrame(Ethereum) for start the analysis."
   ]
  },
  {
   "cell_type": "markdown",
   "id": "013f1d63",
   "metadata": {},
   "source": [
    "# Importing data from CSV for BNB (Binance Coin)"
   ]
  },
  {
   "cell_type": "markdown",
   "id": "084f911a",
   "metadata": {},
   "source": [
    "Using the function read_csv() to import the data with 2 parameters, na_values for missing values and parse_dates to change the Dtype of the dates to datetime64."
   ]
  },
  {
   "cell_type": "code",
   "execution_count": 46,
   "id": "6d34cead",
   "metadata": {},
   "outputs": [],
   "source": [
    "BNB = pd.read_csv('./Documents/UCD python for finance/project/data/BNB - BNB.csv', na_values='n/a', parse_dates =['Date'])"
   ]
  },
  {
   "cell_type": "code",
   "execution_count": 47,
   "id": "a8328f5c",
   "metadata": {},
   "outputs": [
    {
     "name": "stdout",
     "output_type": "stream",
     "text": [
      "           Date    Open*     High       Low  Close**        Volume  \\\n",
      "0    2023-02-28  $304.85  $305.63   $300.57  $301.47  $337,673,265   \n",
      "1    2023-02-27  $308.99  $309.33   $300.94  $304.86  $404,806,423   \n",
      "2    2023-02-26  $302.37  $309.59   $300.97  $309.00  $312,320,211   \n",
      "3    2023-02-25  $302.10  $303.03   $297.22  $302.38  $310,503,640   \n",
      "4    2023-02-24  $308.46  $311.80   $300.06  $302.05  $479,926,281   \n",
      "...         ...      ...      ...       ...      ...           ...   \n",
      "2040 2017-07-29  $0.1048  $0.1113   $0.1011  $0.1078      $340,218   \n",
      "2041 2017-07-28  $0.1076   $0.109   $0.1015  $0.1041      $342,568   \n",
      "2042 2017-07-27  $0.1051  $0.1085   $0.1009  $0.1077      $344,499   \n",
      "2043 2017-07-26  $0.1059   $0.109  $0.09927  $0.1051      $200,395   \n",
      "2044 2017-07-25  $0.1152  $0.1158   $0.1015  $0.1059      $145,269   \n",
      "\n",
      "           Market Cap  \n",
      "0     $47,601,444,433  \n",
      "1     $48,135,374,451  \n",
      "2     $48,789,334,459  \n",
      "3     $47,745,317,304  \n",
      "4     $47,693,139,026  \n",
      "...               ...  \n",
      "2040      $10,781,100  \n",
      "2041      $10,406,700  \n",
      "2042      $10,773,700  \n",
      "2043      $10,513,800  \n",
      "2044      $10,587,000  \n",
      "\n",
      "[2045 rows x 7 columns]\n"
     ]
    }
   ],
   "source": [
    "print(BNB)"
   ]
  },
  {
   "cell_type": "markdown",
   "id": "838b74d7",
   "metadata": {},
   "source": [
    "# Clean the data. Display and Inspect"
   ]
  },
  {
   "cell_type": "code",
   "execution_count": 49,
   "id": "d3c012b4",
   "metadata": {},
   "outputs": [
    {
     "name": "stdout",
     "output_type": "stream",
     "text": [
      "        Date    Open*     High      Low  Close**        Volume  \\\n",
      "0 2023-02-28  $304.85  $305.63  $300.57  $301.47  $337,673,265   \n",
      "1 2023-02-27  $308.99  $309.33  $300.94  $304.86  $404,806,423   \n",
      "2 2023-02-26  $302.37  $309.59  $300.97  $309.00  $312,320,211   \n",
      "3 2023-02-25  $302.10  $303.03  $297.22  $302.38  $310,503,640   \n",
      "4 2023-02-24  $308.46  $311.80  $300.06  $302.05  $479,926,281   \n",
      "\n",
      "        Market Cap  \n",
      "0  $47,601,444,433  \n",
      "1  $48,135,374,451  \n",
      "2  $48,789,334,459  \n",
      "3  $47,745,317,304  \n",
      "4  $47,693,139,026  \n"
     ]
    }
   ],
   "source": [
    "print(BNB.head())"
   ]
  },
  {
   "cell_type": "markdown",
   "id": "fb459ed6",
   "metadata": {},
   "source": [
    "The method info() prints information about the DataFrame, the index dtype and columns, non-null values and memory usage."
   ]
  },
  {
   "cell_type": "code",
   "execution_count": 50,
   "id": "f96558de",
   "metadata": {
    "scrolled": false
   },
   "outputs": [
    {
     "name": "stdout",
     "output_type": "stream",
     "text": [
      "<class 'pandas.core.frame.DataFrame'>\n",
      "RangeIndex: 2045 entries, 0 to 2044\n",
      "Data columns (total 7 columns):\n",
      " #   Column      Non-Null Count  Dtype         \n",
      "---  ------      --------------  -----         \n",
      " 0   Date        2045 non-null   datetime64[ns]\n",
      " 1   Open*       2045 non-null   object        \n",
      " 2   High        2045 non-null   object        \n",
      " 3   Low         2045 non-null   object        \n",
      " 4   Close**     2045 non-null   object        \n",
      " 5   Volume      2045 non-null   object        \n",
      " 6   Market Cap  2045 non-null   object        \n",
      "dtypes: datetime64[ns](1), object(6)\n",
      "memory usage: 112.0+ KB\n"
     ]
    }
   ],
   "source": [
    "BNB.info()"
   ]
  },
  {
   "cell_type": "markdown",
   "id": "edc78d4a",
   "metadata": {},
   "source": [
    "We have 2045 entries and 7 columns with the Date with the correct Dtype(datetime64) and we need to change the rest of the columns Data types for to manipulate the data."
   ]
  },
  {
   "cell_type": "markdown",
   "id": "5962a354",
   "metadata": {},
   "source": [
    "### The DataFrame don't have any missing values, but we will check."
   ]
  },
  {
   "cell_type": "code",
   "execution_count": 53,
   "id": "6c8f5aea",
   "metadata": {},
   "outputs": [
    {
     "name": "stdout",
     "output_type": "stream",
     "text": [
      "The dataframe does not contain any missing values.\n"
     ]
    }
   ],
   "source": [
    "# Check for missing values\n",
    "if BNB.isnull().values.any():\n",
    "    print(\"The dataframe contains missing values.\")\n",
    "else:\n",
    "    print(\"The dataframe does not contain any missing values.\")"
   ]
  },
  {
   "cell_type": "markdown",
   "id": "58dfd15d",
   "metadata": {},
   "source": [
    "# Removing the non-numeric characters from the colums"
   ]
  },
  {
   "cell_type": "code",
   "execution_count": 56,
   "id": "10f2f337",
   "metadata": {},
   "outputs": [],
   "source": [
    "BNB['Open*'] = BNB['Open*'].str.replace('[^\\d\\.]', '', regex=True)\n",
    "BNB['High'] = BNB['High'].str.replace('[^\\d\\.]', '', regex=True)\n",
    "BNB['Low'] = BNB['Low'].str.replace('[^\\d\\.]', '', regex=True)\n",
    "BNB['Close**'] = BNB['Close**'].str.replace('[^\\d\\.]', '', regex=True)\n",
    "BNB['Volume'] = BNB['Volume'].str.replace('[^\\d\\.]', '', regex=True)\n",
    "BNB['Market Cap'] = BNB['Market Cap'].str.replace('[^\\d\\.]', '', regex=True)"
   ]
  },
  {
   "cell_type": "code",
   "execution_count": 57,
   "id": "54c74ce9",
   "metadata": {},
   "outputs": [
    {
     "name": "stdout",
     "output_type": "stream",
     "text": [
      "        Date   Open*    High     Low Close**     Volume   Market Cap\n",
      "0 2023-02-28  304.85  305.63  300.57  301.47  337673265  47601444433\n",
      "1 2023-02-27  308.99  309.33  300.94  304.86  404806423  48135374451\n",
      "2 2023-02-26  302.37  309.59  300.97  309.00  312320211  48789334459\n",
      "3 2023-02-25  302.10  303.03  297.22  302.38  310503640  47745317304\n",
      "4 2023-02-24  308.46  311.80  300.06  302.05  479926281  47693139026\n"
     ]
    }
   ],
   "source": [
    "print(BNB.head())"
   ]
  },
  {
   "cell_type": "markdown",
   "id": "b627ceac",
   "metadata": {},
   "source": [
    "# Change the dtype from object to float64"
   ]
  },
  {
   "cell_type": "code",
   "execution_count": 58,
   "id": "7b498520",
   "metadata": {},
   "outputs": [],
   "source": [
    "BNB[['Open*', 'High','Low','Close**','Volume','Market Cap']] = BNB[['Open*', 'High','Low','Close**','Volume','Market Cap']].astype(float)"
   ]
  },
  {
   "cell_type": "code",
   "execution_count": 59,
   "id": "063b266b",
   "metadata": {},
   "outputs": [
    {
     "name": "stdout",
     "output_type": "stream",
     "text": [
      "<class 'pandas.core.frame.DataFrame'>\n",
      "RangeIndex: 2045 entries, 0 to 2044\n",
      "Data columns (total 7 columns):\n",
      " #   Column      Non-Null Count  Dtype         \n",
      "---  ------      --------------  -----         \n",
      " 0   Date        2045 non-null   datetime64[ns]\n",
      " 1   Open*       2045 non-null   float64       \n",
      " 2   High        2045 non-null   float64       \n",
      " 3   Low         2045 non-null   float64       \n",
      " 4   Close**     2045 non-null   float64       \n",
      " 5   Volume      2045 non-null   float64       \n",
      " 6   Market Cap  2045 non-null   float64       \n",
      "dtypes: datetime64[ns](1), float64(6)\n",
      "memory usage: 112.0 KB\n"
     ]
    }
   ],
   "source": [
    "BNB.info()"
   ]
  },
  {
   "cell_type": "markdown",
   "id": "10455c40",
   "metadata": {},
   "source": [
    "As we can see, all the Dtypes are correct now, 1 datetime64 and 6 float64."
   ]
  },
  {
   "cell_type": "markdown",
   "id": "3a228836",
   "metadata": {},
   "source": [
    "# Drop duplicates Dates in the DataFrame."
   ]
  },
  {
   "cell_type": "code",
   "execution_count": 60,
   "id": "4d5bf6a5",
   "metadata": {},
   "outputs": [
    {
     "name": "stdout",
     "output_type": "stream",
     "text": [
      "There are no duplicated Dates.\n"
     ]
    }
   ],
   "source": [
    "# check for duplicates\n",
    "duplicates = BNB.duplicated(subset=['Date'])\n",
    "\n",
    "# get only the duplicated rows\n",
    "duplicated_rows = BNB[duplicates]\n",
    "\n",
    "# print out the duplicated row using the 'empty' attribute\n",
    "if duplicated_rows.empty:\n",
    "    print(\"There are no duplicated Dates.\")\n",
    "else:\n",
    "    print(duplicated_rows)"
   ]
  },
  {
   "cell_type": "markdown",
   "id": "b4987faa",
   "metadata": {},
   "source": [
    "# Indexing the column 'Date'"
   ]
  },
  {
   "cell_type": "code",
   "execution_count": 61,
   "id": "9ffdac9d",
   "metadata": {},
   "outputs": [],
   "source": [
    "BNB.set_index('Date', inplace=True)"
   ]
  },
  {
   "cell_type": "code",
   "execution_count": 62,
   "id": "e79d24ff",
   "metadata": {},
   "outputs": [
    {
     "name": "stdout",
     "output_type": "stream",
     "text": [
      "             Open*    High     Low  Close**       Volume    Market Cap\n",
      "Date                                                                  \n",
      "2023-02-28  304.85  305.63  300.57   301.47  337673265.0  4.760144e+10\n",
      "2023-02-27  308.99  309.33  300.94   304.86  404806423.0  4.813537e+10\n",
      "2023-02-26  302.37  309.59  300.97   309.00  312320211.0  4.878933e+10\n",
      "2023-02-25  302.10  303.03  297.22   302.38  310503640.0  4.774532e+10\n",
      "2023-02-24  308.46  311.80  300.06   302.05  479926281.0  4.769314e+10\n"
     ]
    }
   ],
   "source": [
    "print(BNB.head())"
   ]
  },
  {
   "cell_type": "code",
   "execution_count": 63,
   "id": "30564846",
   "metadata": {},
   "outputs": [
    {
     "name": "stdout",
     "output_type": "stream",
     "text": [
      "<class 'pandas.core.frame.DataFrame'>\n",
      "DatetimeIndex: 2045 entries, 2023-02-28 to 2017-07-25\n",
      "Data columns (total 6 columns):\n",
      " #   Column      Non-Null Count  Dtype  \n",
      "---  ------      --------------  -----  \n",
      " 0   Open*       2045 non-null   float64\n",
      " 1   High        2045 non-null   float64\n",
      " 2   Low         2045 non-null   float64\n",
      " 3   Close**     2045 non-null   float64\n",
      " 4   Volume      2045 non-null   float64\n",
      " 5   Market Cap  2045 non-null   float64\n",
      "dtypes: float64(6)\n",
      "memory usage: 111.8 KB\n"
     ]
    }
   ],
   "source": [
    "BNB.info()"
   ]
  },
  {
   "cell_type": "markdown",
   "id": "e89d36fc",
   "metadata": {},
   "source": [
    "The Datetime Index = have 2045 entries(rows), the Dates are 28/02/2023 until 25/07/2017."
   ]
  },
  {
   "cell_type": "markdown",
   "id": "d432a1e9",
   "metadata": {},
   "source": [
    "# Sorting by Date"
   ]
  },
  {
   "cell_type": "code",
   "execution_count": 65,
   "id": "0591f3b7",
   "metadata": {},
   "outputs": [],
   "source": [
    "BNB_df = BNB.sort_values(by=\"Date\", ascending=True)"
   ]
  },
  {
   "cell_type": "code",
   "execution_count": 66,
   "id": "0451cdbe",
   "metadata": {},
   "outputs": [
    {
     "name": "stdout",
     "output_type": "stream",
     "text": [
      "             Open*    High      Low  Close**    Volume  Market Cap\n",
      "Date                                                              \n",
      "2017-07-25  0.1152  0.1158  0.10150   0.1059  145269.0  10587000.0\n",
      "2017-07-26  0.1059  0.1090  0.09927   0.1051  200395.0  10513800.0\n",
      "2017-07-27  0.1051  0.1085  0.10090   0.1077  344499.0  10773700.0\n",
      "2017-07-28  0.1076  0.1090  0.10150   0.1041  342568.0  10406700.0\n",
      "2017-07-29  0.1048  0.1113  0.10110   0.1078  340218.0  10781100.0\n"
     ]
    }
   ],
   "source": [
    "print(BNB_df.head())"
   ]
  },
  {
   "cell_type": "markdown",
   "id": "07c3b3a5",
   "metadata": {},
   "source": [
    "We have cleaned and ready our DataFrame(BNB) for start the analysis."
   ]
  },
  {
   "cell_type": "markdown",
   "id": "aabc74e9",
   "metadata": {},
   "source": [
    "# Importing data from CSV for Dogecoin"
   ]
  },
  {
   "cell_type": "markdown",
   "id": "17c80221",
   "metadata": {},
   "source": [
    "Using the function read_csv() to import the data with 2 parameters, na_values for missing values and parse_dates to change the Dtype of the dates to datetime64."
   ]
  },
  {
   "cell_type": "code",
   "execution_count": 69,
   "id": "32fad0e0",
   "metadata": {},
   "outputs": [],
   "source": [
    "Dogecoin = pd.read_csv('./Documents/UCD python for finance/project/data/Dogecoin - Dogecoin.csv', na_values='n/a', parse_dates =['Date'])"
   ]
  },
  {
   "cell_type": "code",
   "execution_count": 70,
   "id": "62ed4ac8",
   "metadata": {},
   "outputs": [
    {
     "name": "stdout",
     "output_type": "stream",
     "text": [
      "           Date       Open*        High         Low     Close**        Volume  \\\n",
      "0    2023-02-28    $0.08136    $0.08274     $0.0802    $0.08075  $370,709,700   \n",
      "1    2023-02-27     $0.0822     $0.0822     $0.0802    $0.08135  $267,030,813   \n",
      "2    2023-02-26    $0.08078    $0.08247    $0.08058     $0.0822  $218,231,642   \n",
      "3    2023-02-25    $0.08091    $0.08178    $0.07906    $0.08079  $316,321,963   \n",
      "4    2023-02-24    $0.08429     $0.0849    $0.07989     $0.0809  $449,138,535   \n",
      "...         ...         ...         ...         ...         ...           ...   \n",
      "3341 2014-01-05  $0.0003005  $0.0003121  $0.0002466  $0.0002707      $245,107   \n",
      "3342 2014-01-04  $0.0003046  $0.0003205   $0.000256  $0.0003008      $313,907   \n",
      "3343 2014-01-03  $0.0003533  $0.0003763  $0.0002926  $0.0003029      $303,106   \n",
      "3344 2014-01-02  $0.0004486  $0.0004486  $0.0003306  $0.0003531      $318,037   \n",
      "3345 2014-01-01  $0.0004228  $0.0004509  $0.0004228  $0.0004397      $307,917   \n",
      "\n",
      "           Market Cap  \n",
      "0     $10,713,046,353  \n",
      "1     $10,793,363,610  \n",
      "2     $10,905,805,148  \n",
      "3     $10,717,881,956  \n",
      "4     $10,733,124,752  \n",
      "...               ...  \n",
      "3341       $5,883,644  \n",
      "3342       $6,323,972  \n",
      "3343       $6,162,990  \n",
      "3344       $6,935,467  \n",
      "3345       $8,335,005  \n",
      "\n",
      "[3346 rows x 7 columns]\n"
     ]
    }
   ],
   "source": [
    "print(Dogecoin)"
   ]
  },
  {
   "cell_type": "markdown",
   "id": "647fcd8c",
   "metadata": {},
   "source": [
    "# Clean the data. Display and Inspect"
   ]
  },
  {
   "cell_type": "code",
   "execution_count": 71,
   "id": "411344ce",
   "metadata": {},
   "outputs": [
    {
     "name": "stdout",
     "output_type": "stream",
     "text": [
      "        Date     Open*      High       Low   Close**        Volume  \\\n",
      "0 2023-02-28  $0.08136  $0.08274   $0.0802  $0.08075  $370,709,700   \n",
      "1 2023-02-27   $0.0822   $0.0822   $0.0802  $0.08135  $267,030,813   \n",
      "2 2023-02-26  $0.08078  $0.08247  $0.08058   $0.0822  $218,231,642   \n",
      "3 2023-02-25  $0.08091  $0.08178  $0.07906  $0.08079  $316,321,963   \n",
      "4 2023-02-24  $0.08429   $0.0849  $0.07989   $0.0809  $449,138,535   \n",
      "\n",
      "        Market Cap  \n",
      "0  $10,713,046,353  \n",
      "1  $10,793,363,610  \n",
      "2  $10,905,805,148  \n",
      "3  $10,717,881,956  \n",
      "4  $10,733,124,752  \n"
     ]
    }
   ],
   "source": [
    "print(Dogecoin.head())"
   ]
  },
  {
   "cell_type": "code",
   "execution_count": 73,
   "id": "a1c80cb4",
   "metadata": {},
   "outputs": [
    {
     "name": "stdout",
     "output_type": "stream",
     "text": [
      "<class 'pandas.core.frame.DataFrame'>\n",
      "RangeIndex: 3346 entries, 0 to 3345\n",
      "Data columns (total 7 columns):\n",
      " #   Column      Non-Null Count  Dtype         \n",
      "---  ------      --------------  -----         \n",
      " 0   Date        3346 non-null   datetime64[ns]\n",
      " 1   Open*       3346 non-null   object        \n",
      " 2   High        3346 non-null   object        \n",
      " 3   Low         3346 non-null   object        \n",
      " 4   Close**     3346 non-null   object        \n",
      " 5   Volume      3346 non-null   object        \n",
      " 6   Market Cap  3346 non-null   object        \n",
      "dtypes: datetime64[ns](1), object(6)\n",
      "memory usage: 183.1+ KB\n"
     ]
    }
   ],
   "source": [
    "Dogecoin.info()"
   ]
  },
  {
   "cell_type": "markdown",
   "id": "743efdd3",
   "metadata": {},
   "source": [
    "We have 3346 entries and 7 columns. The Date with the correct Dtype(datetime64) and we need to change the rest of the columns Data types."
   ]
  },
  {
   "cell_type": "markdown",
   "id": "c2272b37",
   "metadata": {},
   "source": [
    "### With the info() we can see that the DataFrame don't have any missing values, but we will check."
   ]
  },
  {
   "cell_type": "code",
   "execution_count": 75,
   "id": "41ae1330",
   "metadata": {},
   "outputs": [
    {
     "name": "stdout",
     "output_type": "stream",
     "text": [
      "The dataframe does not contain any missing values.\n"
     ]
    }
   ],
   "source": [
    "# Check for missing values\n",
    "if Dogecoin.isnull().values.any():\n",
    "    print(\"The dataframe contains missing values.\")\n",
    "else:\n",
    "    print(\"The dataframe does not contain any missing values.\")"
   ]
  },
  {
   "cell_type": "markdown",
   "id": "ca249820",
   "metadata": {},
   "source": [
    "# Removing the non-numeric characters from the colums"
   ]
  },
  {
   "cell_type": "code",
   "execution_count": 76,
   "id": "f586d14d",
   "metadata": {},
   "outputs": [],
   "source": [
    "Dogecoin['Open*'] = Dogecoin['Open*'].str.replace('[^\\d\\.]', '', regex=True)\n",
    "Dogecoin['High'] = Dogecoin['High'].str.replace('[^\\d\\.]', '', regex=True)\n",
    "Dogecoin['Low'] = Dogecoin['Low'].str.replace('[^\\d\\.]', '', regex=True)\n",
    "Dogecoin['Close**'] = Dogecoin['Close**'].str.replace('[^\\d\\.]', '', regex=True)\n",
    "Dogecoin['Volume'] = Dogecoin['Volume'].str.replace('[^\\d\\.]', '', regex=True)\n",
    "Dogecoin['Market Cap'] = Dogecoin['Market Cap'].str.replace('[^\\d\\.]', '', regex=True)"
   ]
  },
  {
   "cell_type": "code",
   "execution_count": 77,
   "id": "46cb22a5",
   "metadata": {},
   "outputs": [
    {
     "name": "stdout",
     "output_type": "stream",
     "text": [
      "        Date    Open*     High      Low  Close**     Volume   Market Cap\n",
      "0 2023-02-28  0.08136  0.08274   0.0802  0.08075  370709700  10713046353\n",
      "1 2023-02-27   0.0822   0.0822   0.0802  0.08135  267030813  10793363610\n",
      "2 2023-02-26  0.08078  0.08247  0.08058   0.0822  218231642  10905805148\n",
      "3 2023-02-25  0.08091  0.08178  0.07906  0.08079  316321963  10717881956\n",
      "4 2023-02-24  0.08429   0.0849  0.07989   0.0809  449138535  10733124752\n"
     ]
    }
   ],
   "source": [
    "print(Dogecoin.head())"
   ]
  },
  {
   "cell_type": "markdown",
   "id": "ab3a3708",
   "metadata": {},
   "source": [
    "We removed the non-numeric characters then we can change the Dtype."
   ]
  },
  {
   "cell_type": "markdown",
   "id": "968b98eb",
   "metadata": {},
   "source": [
    "# Change the dtype from object to float64"
   ]
  },
  {
   "cell_type": "code",
   "execution_count": 78,
   "id": "9199c9f2",
   "metadata": {},
   "outputs": [],
   "source": [
    "Dogecoin[['Open*', 'High','Low','Close**','Volume','Market Cap']] = Dogecoin[['Open*', 'High','Low','Close**','Volume','Market Cap']].astype(float)"
   ]
  },
  {
   "cell_type": "code",
   "execution_count": 79,
   "id": "f9d0d1e1",
   "metadata": {},
   "outputs": [
    {
     "name": "stdout",
     "output_type": "stream",
     "text": [
      "<class 'pandas.core.frame.DataFrame'>\n",
      "RangeIndex: 3346 entries, 0 to 3345\n",
      "Data columns (total 7 columns):\n",
      " #   Column      Non-Null Count  Dtype         \n",
      "---  ------      --------------  -----         \n",
      " 0   Date        3346 non-null   datetime64[ns]\n",
      " 1   Open*       3346 non-null   float64       \n",
      " 2   High        3346 non-null   float64       \n",
      " 3   Low         3346 non-null   float64       \n",
      " 4   Close**     3346 non-null   float64       \n",
      " 5   Volume      3346 non-null   float64       \n",
      " 6   Market Cap  3346 non-null   float64       \n",
      "dtypes: datetime64[ns](1), float64(6)\n",
      "memory usage: 183.1 KB\n"
     ]
    }
   ],
   "source": [
    "Dogecoin.info()"
   ]
  },
  {
   "cell_type": "markdown",
   "id": "96afb68e",
   "metadata": {},
   "source": [
    "As we can see, all the Dtypes are correct now, 1 datetime64 and 6 float64."
   ]
  },
  {
   "cell_type": "markdown",
   "id": "cca0dc10",
   "metadata": {},
   "source": [
    "# Drop duplicates Dates in the DataFrame."
   ]
  },
  {
   "cell_type": "code",
   "execution_count": 80,
   "id": "9a07f650",
   "metadata": {},
   "outputs": [
    {
     "name": "stdout",
     "output_type": "stream",
     "text": [
      "There are no duplicated Dates.\n"
     ]
    }
   ],
   "source": [
    "# check for duplicates\n",
    "duplicates = Dogecoin.duplicated(subset=['Date'])\n",
    "\n",
    "# get only the duplicated rows\n",
    "duplicated_rows = Dogecoin[duplicates]\n",
    "\n",
    "# print out the duplicated row using the 'empty' attribute\n",
    "if duplicated_rows.empty:\n",
    "    print(\"There are no duplicated Dates.\")\n",
    "else:\n",
    "    print(duplicated_rows)"
   ]
  },
  {
   "cell_type": "markdown",
   "id": "2a0d64fe",
   "metadata": {},
   "source": [
    "# Indexing the column 'Date'"
   ]
  },
  {
   "cell_type": "code",
   "execution_count": 81,
   "id": "8768dd8c",
   "metadata": {},
   "outputs": [],
   "source": [
    "Dogecoin.set_index('Date', inplace=True)"
   ]
  },
  {
   "cell_type": "markdown",
   "id": "df2d1bed",
   "metadata": {},
   "source": [
    "Use the set_index() method to set the 'Date' column as the index of the DataFrame.\n",
    "Use the inplace=True parameter to modify the DataFrame in place, no creating a new one."
   ]
  },
  {
   "cell_type": "code",
   "execution_count": 83,
   "id": "d0eb6024",
   "metadata": {},
   "outputs": [
    {
     "name": "stdout",
     "output_type": "stream",
     "text": [
      "              Open*     High      Low  Close**       Volume    Market Cap\n",
      "Date                                                                     \n",
      "2023-02-28  0.08136  0.08274  0.08020  0.08075  370709700.0  1.071305e+10\n",
      "2023-02-27  0.08220  0.08220  0.08020  0.08135  267030813.0  1.079336e+10\n",
      "2023-02-26  0.08078  0.08247  0.08058  0.08220  218231642.0  1.090581e+10\n",
      "2023-02-25  0.08091  0.08178  0.07906  0.08079  316321963.0  1.071788e+10\n",
      "2023-02-24  0.08429  0.08490  0.07989  0.08090  449138535.0  1.073312e+10\n"
     ]
    }
   ],
   "source": [
    "print(Dogecoin.head())"
   ]
  },
  {
   "cell_type": "code",
   "execution_count": 84,
   "id": "a0270461",
   "metadata": {},
   "outputs": [
    {
     "name": "stdout",
     "output_type": "stream",
     "text": [
      "<class 'pandas.core.frame.DataFrame'>\n",
      "DatetimeIndex: 3346 entries, 2023-02-28 to 2014-01-01\n",
      "Data columns (total 6 columns):\n",
      " #   Column      Non-Null Count  Dtype  \n",
      "---  ------      --------------  -----  \n",
      " 0   Open*       3346 non-null   float64\n",
      " 1   High        3346 non-null   float64\n",
      " 2   Low         3346 non-null   float64\n",
      " 3   Close**     3346 non-null   float64\n",
      " 4   Volume      3346 non-null   float64\n",
      " 5   Market Cap  3346 non-null   float64\n",
      "dtypes: float64(6)\n",
      "memory usage: 183.0 KB\n"
     ]
    }
   ],
   "source": [
    "Dogecoin.info()"
   ]
  },
  {
   "cell_type": "markdown",
   "id": "55504c19",
   "metadata": {},
   "source": [
    "We have the 'Date' indexed with 3346 entries, 28/02/2023 to 01/01/2014. and the rest 6 columns have the correct data type float64 that will allow us to work with this data."
   ]
  },
  {
   "cell_type": "markdown",
   "id": "2bb6ffcc",
   "metadata": {},
   "source": [
    "# Sorting by Date"
   ]
  },
  {
   "cell_type": "code",
   "execution_count": 87,
   "id": "f0654b05",
   "metadata": {},
   "outputs": [],
   "source": [
    "Dogecoin_df = Dogecoin.sort_values(by=\"Date\", ascending=True)"
   ]
  },
  {
   "cell_type": "code",
   "execution_count": 88,
   "id": "68170dc4",
   "metadata": {},
   "outputs": [
    {
     "name": "stdout",
     "output_type": "stream",
     "text": [
      "               Open*      High       Low   Close**    Volume  Market Cap\n",
      "Date                                                                    \n",
      "2014-01-01  0.000423  0.000451  0.000423  0.000440  307917.0   8335005.0\n",
      "2014-01-02  0.000449  0.000449  0.000331  0.000353  318037.0   6935467.0\n",
      "2014-01-03  0.000353  0.000376  0.000293  0.000303  303106.0   6162990.0\n",
      "2014-01-04  0.000305  0.000320  0.000256  0.000301  313907.0   6323972.0\n",
      "2014-01-05  0.000300  0.000312  0.000247  0.000271  245107.0   5883644.0\n"
     ]
    }
   ],
   "source": [
    "print(Dogecoin_df.head())"
   ]
  },
  {
   "cell_type": "markdown",
   "id": "766725f4",
   "metadata": {},
   "source": [
    "We have cleaned and ready our DataFrame(Dogecoin) for start the analysis."
   ]
  },
  {
   "cell_type": "markdown",
   "id": "b6ac73f7",
   "metadata": {},
   "source": [
    "# DataFrames for the 4 Cryptocurrencies that we will analize Bitcoin_df,Ethereum_df,BNB_df and Dogecoin_df. "
   ]
  },
  {
   "cell_type": "markdown",
   "id": "63699d19",
   "metadata": {},
   "source": [
    "We will start the analisis with the most important and famous cryptocurrency. Bitcoin, i want to show the progress through the years, and how Cryptocurrencies value has fluctuated over years."
   ]
  },
  {
   "cell_type": "markdown",
   "id": "5bfc782d",
   "metadata": {},
   "source": [
    "Create a Dataframe that contains the closing price of all 4 cryptocurrencies.\n",
    "\n",
    "As we have different starting dates for each cryptocurrency, we decide to filter the dataframe to take the dates since 01-08-2017 to 28-02-2023 from all.\n",
    "The date column is the index of our dataframe, we will use the .loc[] function in pandas to filter the dataframe based on the index values.\n"
   ]
  },
  {
   "cell_type": "code",
   "execution_count": 105,
   "id": "745f268b",
   "metadata": {},
   "outputs": [],
   "source": [
    "prices_df = pd.DataFrame ({'BTC-USD': bitcoin_df['Close**'],'ETH-USD':Ethereum_df['Close**'],'BNB-USD': BNB_df['Close**'],'DOGE-USD': Dogecoin_df['Close**']})\n"
   ]
  },
  {
   "cell_type": "code",
   "execution_count": 106,
   "id": "46009f6f",
   "metadata": {},
   "outputs": [],
   "source": [
    "# filter dataframe for dates between '2017-08-01' and '2023-02-28'\n",
    "start_date = pd.to_datetime('2017-08-01')\n",
    "end_date = pd.to_datetime('2023-02-28')\n",
    "filteredprices = prices_df.loc[start_date:end_date]"
   ]
  },
  {
   "cell_type": "markdown",
   "id": "f476575c",
   "metadata": {},
   "source": [
    "Set start_date and end_date to the desired date range we want to filter the dataframe for. We use the .loc[] function to filter the dataframe prices_df to include only rows where the index is between start_date and end_date.\n",
    "\n",
    "Display Dataframe"
   ]
  },
  {
   "cell_type": "code",
   "execution_count": 111,
   "id": "caf14112",
   "metadata": {},
   "outputs": [
    {
     "name": "stdout",
     "output_type": "stream",
     "text": [
      "             BTC-USD  ETH-USD    BNB-USD  DOGE-USD\n",
      "Date                                              \n",
      "2017-08-01   2718.26   226.77    0.09987  0.001792\n",
      "2017-08-02   2710.67   219.95    0.10050  0.001788\n",
      "2017-08-03   2804.73   225.34    0.10660  0.001795\n",
      "2017-08-04   2895.89   223.07    0.10750  0.001820\n",
      "2017-08-05   3252.91   256.51    0.12890  0.002087\n",
      "...              ...      ...        ...       ...\n",
      "2023-02-24  23198.13  1608.37  302.05000  0.080900\n",
      "2023-02-25  23175.38  1594.91  302.38000  0.080790\n",
      "2023-02-26  23561.21  1640.82  309.00000  0.082200\n",
      "2023-02-27  23522.87  1634.33  304.86000  0.081350\n",
      "2023-02-28  23147.35  1605.90  301.47000  0.080750\n",
      "\n",
      "[2038 rows x 4 columns]\n"
     ]
    }
   ],
   "source": [
    "print(filteredprices)"
   ]
  },
  {
   "cell_type": "markdown",
   "id": "2a868ae2",
   "metadata": {},
   "source": [
    "# Plotting"
   ]
  },
  {
   "cell_type": "code",
   "execution_count": 110,
   "id": "01639e4a",
   "metadata": {
    "scrolled": true
   },
   "outputs": [
    {
     "data": {
      "image/png": "[encoded data removed]",
      "text/plain": [
       "<Figure size 640x480 with 1 Axes>"
      ]
     },
     "metadata": {},
     "output_type": "display_data"
    }
   ],
   "source": [
    "filteredprices.plot()\n",
    "plt.show()"
   ]
  },
  {
   "cell_type": "code",
   "execution_count": null,
   "id": "d94db8e2",
   "metadata": {},
   "outputs": [],
   "source": [
    "To plot this Dataframe with several columns, we can use the keyword \"subplots\"."
   ]
  },
  {
   "cell_type": "code",
   "execution_count": 143,
   "id": "c86d11ce",
   "metadata": {},
   "outputs": [
    {
     "data": {
      "image/png": "[encoded data removed]",
      "text/plain": [
       "<Figure size 640x480 with 4 Axes>"
      ]
     },
     "metadata": {},
     "output_type": "display_data"
    }
   ],
   "source": [
    "filteredprices.plot(subplots=True, title = 'Prices')\n",
    "plt.tight_layout(); plt.show()"
   ]
  },
  {
   "cell_type": "markdown",
   "id": "b55b5675",
   "metadata": {},
   "source": [
    "# Cryptocurrency prices over the last 5 years."
   ]
  },
  {
   "cell_type": "code",
   "execution_count": 151,
   "id": "37feef0f",
   "metadata": {},
   "outputs": [
    {
     "data": {
      "text/plain": [
       "Text(0.5, 1.0, 'DOGE-USD')"
      ]
     },
     "execution_count": 151,
     "metadata": {},
     "output_type": "execute_result"
    },
    {
     "data": {
      "image/png": "[encoded data removed]",
      "text/plain": [
       "<Figure size 1200x500 with 4 Axes>"
      ]
     },
     "metadata": {},
     "output_type": "display_data"
    }
   ],
   "source": [
    "fig, axs = plt.subplots(2,2, figsize=(12,5), gridspec_kw={'hspace': 0.3, 'wspace': 0.2})\n",
    "\n",
    "axs[0, 0].plot(filteredprices['BTC-USD'], c='b')\n",
    "axs[0, 0].set_title('BTC-USD')\n",
    "axs[0, 1].plot(filteredprices['ETH-USD'], c='tab:orange')\n",
    "axs[0, 1].set_title('ETH-USD')\n",
    "axs[1, 0].plot(filteredprices['BNB-USD'], c='g')\n",
    "axs[1, 0].set_title('BNB-USD')\n",
    "axs[1, 1].plot(filteredprices['DOGE-USD'], c='r')\n",
    "axs[1, 1].set_title('DOGE-USD')\n"
   ]
  },
  {
   "cell_type": "markdown",
   "id": "6fecd697",
   "metadata": {},
   "source": [
    "The cryptocurrencies have different scales then the first plot doesn't give us to much information about the behavior of the last 3 cryptocurrencies with the price that is less, compare with Bitcoin that is the most commmon and expensive cryptocurrency in the market at the moment. As this plot doesn't take the different scales into account, we will re-scale the prices to see better the different fluctuations of each cryptocurrency, all together in one graphic."
   ]
  },
  {
   "cell_type": "code",
   "execution_count": 121,
   "id": "291cab4e",
   "metadata": {},
   "outputs": [
    {
     "data": {
      "text/plain": [
       "array([[1.17028205e-02, 3.01325358e+00, 0.00000000e+00, 1.51569020e-01],\n",
       "       [0.00000000e+00, 2.86899983e+00, 9.32531867e-05, 1.50984263e-01],\n",
       "       [1.45028630e-01, 2.98300682e+00, 9.96180868e-04, 1.52007588e-01],\n",
       "       ...,\n",
       "       [3.21488969e+01, 3.29226402e+01, 4.57236849e+01, 1.19063547e+01],\n",
       "       [3.20897814e+01, 3.27853665e+01, 4.51108783e+01, 1.17820938e+01],\n",
       "       [3.15107771e+01, 3.21840272e+01, 4.46090873e+01, 1.16943803e+01]])"
      ]
     },
     "execution_count": 121,
     "metadata": {},
     "output_type": "execute_result"
    }
   ],
   "source": [
    "from sklearn import preprocessing\n",
    "min_max_scaler = preprocessing.MinMaxScaler(feature_range=(0,100))\n",
    "scaled = min_max_scaler.fit_transform(filteredprices)\n",
    "scaled"
   ]
  },
  {
   "cell_type": "code",
   "execution_count": 125,
   "id": "0bd1d59a",
   "metadata": {
    "scrolled": true
   },
   "outputs": [
    {
     "data": {
      "text/html": [
       "<div>\n",
       "<style scoped>\n",
       "    .dataframe tbody tr th:only-of-type {\n",
       "        vertical-align: middle;\n",
       "    }\n",
       "\n",
       "    .dataframe tbody tr th {\n",
       "        vertical-align: top;\n",
       "    }\n",
       "\n",
       "    .dataframe thead th {\n",
       "        text-align: right;\n",
       "    }\n",
       "</style>\n",
       "<table border=\"1\" class=\"dataframe\">\n",
       "  <thead>\n",
       "    <tr style=\"text-align: right;\">\n",
       "      <th></th>\n",
       "      <th>BTC-USD</th>\n",
       "      <th>ETH-USD</th>\n",
       "      <th>BNB-USD</th>\n",
       "      <th>DOGE-USD</th>\n",
       "    </tr>\n",
       "  </thead>\n",
       "  <tbody>\n",
       "    <tr>\n",
       "      <th>0</th>\n",
       "      <td>0.011703</td>\n",
       "      <td>3.013254</td>\n",
       "      <td>0.000000</td>\n",
       "      <td>0.151569</td>\n",
       "    </tr>\n",
       "    <tr>\n",
       "      <th>1</th>\n",
       "      <td>0.000000</td>\n",
       "      <td>2.869000</td>\n",
       "      <td>0.000093</td>\n",
       "      <td>0.150984</td>\n",
       "    </tr>\n",
       "    <tr>\n",
       "      <th>2</th>\n",
       "      <td>0.145029</td>\n",
       "      <td>2.983007</td>\n",
       "      <td>0.000996</td>\n",
       "      <td>0.152008</td>\n",
       "    </tr>\n",
       "    <tr>\n",
       "      <th>3</th>\n",
       "      <td>0.285586</td>\n",
       "      <td>2.934993</td>\n",
       "      <td>0.001129</td>\n",
       "      <td>0.155662</td>\n",
       "    </tr>\n",
       "    <tr>\n",
       "      <th>4</th>\n",
       "      <td>0.836066</td>\n",
       "      <td>3.642301</td>\n",
       "      <td>0.004297</td>\n",
       "      <td>0.194695</td>\n",
       "    </tr>\n",
       "    <tr>\n",
       "      <th>...</th>\n",
       "      <td>...</td>\n",
       "      <td>...</td>\n",
       "      <td>...</td>\n",
       "      <td>...</td>\n",
       "    </tr>\n",
       "    <tr>\n",
       "      <th>2033</th>\n",
       "      <td>31.589073</td>\n",
       "      <td>32.236272</td>\n",
       "      <td>44.694939</td>\n",
       "      <td>11.716309</td>\n",
       "    </tr>\n",
       "    <tr>\n",
       "      <th>2034</th>\n",
       "      <td>31.553996</td>\n",
       "      <td>31.951571</td>\n",
       "      <td>44.743786</td>\n",
       "      <td>11.700228</td>\n",
       "    </tr>\n",
       "    <tr>\n",
       "      <th>2035</th>\n",
       "      <td>32.148897</td>\n",
       "      <td>32.922640</td>\n",
       "      <td>45.723685</td>\n",
       "      <td>11.906355</td>\n",
       "    </tr>\n",
       "    <tr>\n",
       "      <th>2036</th>\n",
       "      <td>32.089781</td>\n",
       "      <td>32.785366</td>\n",
       "      <td>45.110878</td>\n",
       "      <td>11.782094</td>\n",
       "    </tr>\n",
       "    <tr>\n",
       "      <th>2037</th>\n",
       "      <td>31.510777</td>\n",
       "      <td>32.184027</td>\n",
       "      <td>44.609087</td>\n",
       "      <td>11.694380</td>\n",
       "    </tr>\n",
       "  </tbody>\n",
       "</table>\n",
       "<p>2038 rows × 4 columns</p>\n",
       "</div>"
      ],
      "text/plain": [
       "        BTC-USD    ETH-USD    BNB-USD   DOGE-USD\n",
       "0      0.011703   3.013254   0.000000   0.151569\n",
       "1      0.000000   2.869000   0.000093   0.150984\n",
       "2      0.145029   2.983007   0.000996   0.152008\n",
       "3      0.285586   2.934993   0.001129   0.155662\n",
       "4      0.836066   3.642301   0.004297   0.194695\n",
       "...         ...        ...        ...        ...\n",
       "2033  31.589073  32.236272  44.694939  11.716309\n",
       "2034  31.553996  31.951571  44.743786  11.700228\n",
       "2035  32.148897  32.922640  45.723685  11.906355\n",
       "2036  32.089781  32.785366  45.110878  11.782094\n",
       "2037  31.510777  32.184027  44.609087  11.694380\n",
       "\n",
       "[2038 rows x 4 columns]"
      ]
     },
     "execution_count": 125,
     "metadata": {},
     "output_type": "execute_result"
    }
   ],
   "source": [
    "#Convert into a dataframe\n",
    "scaled_df = pd.DataFrame(scaled,columns = filteredprices.columns)\n",
    "scaled_df"
   ]
  },
  {
   "cell_type": "markdown",
   "id": "496d7056",
   "metadata": {},
   "source": [
    "We use the MinMaxScaler class from the preprocessing module of scikit-learn to scale the values of the dataset to a specified range.\n",
    "\n",
    "preprocessing.MinMaxScaler() creates a new MinMaxScaler object that will be used to scale the data.\n",
    "\n",
    "feature_range=(0,100) sets the range to which the data will be scaled. In this case, it will be scaled to the range of 0 to 100.\n",
    "\n",
    "min_max_scaler.fit_transform(filteredprices) applies the scaling to the filteredprices dataset. The fit_transform() method fits the scaler to the data and then transforms it.\n",
    "\n",
    "The scaled data is stored in the scaled variable."
   ]
  },
  {
   "cell_type": "markdown",
   "id": "c0163def",
   "metadata": {},
   "source": [
    "# Plot scaled_df"
   ]
  },
  {
   "cell_type": "code",
   "execution_count": 129,
   "id": "cd06337a",
   "metadata": {
    "scrolled": true
   },
   "outputs": [
    {
     "data": {
      "image/png": "[encoded data removed]",
      "text/plain": [
       "<Figure size 640x480 with 1 Axes>"
      ]
     },
     "metadata": {},
     "output_type": "display_data"
    }
   ],
   "source": [
    "scaled_df.plot(title = \"Cryptocurrency scaled\", xlabel = \"Days\", ylabel= \"Crypto Scaled Price\")\n",
    "plt.show()"
   ]
  },
  {
   "cell_type": "markdown",
   "id": "d1b490a7",
   "metadata": {},
   "source": [
    "We can see, the cryptocurrencies have a correlation, when the prices drops in one cryptocurrency the others prices in the other cryptocurrencies drops as well and when the prices rises the other prices from the other cryptocurrencies rises as well."
   ]
  },
  {
   "cell_type": "markdown",
   "id": "fca8e371",
   "metadata": {},
   "source": [
    "# Statistics"
   ]
  },
  {
   "cell_type": "code",
   "execution_count": 137,
   "id": "b2850c2d",
   "metadata": {
    "scrolled": true
   },
   "outputs": [
    {
     "data": {
      "text/html": [
       "<div>\n",
       "<style scoped>\n",
       "    .dataframe tbody tr th:only-of-type {\n",
       "        vertical-align: middle;\n",
       "    }\n",
       "\n",
       "    .dataframe tbody tr th {\n",
       "        vertical-align: top;\n",
       "    }\n",
       "\n",
       "    .dataframe thead th {\n",
       "        text-align: right;\n",
       "    }\n",
       "</style>\n",
       "<table border=\"1\" class=\"dataframe\">\n",
       "  <thead>\n",
       "    <tr style=\"text-align: right;\">\n",
       "      <th></th>\n",
       "      <th>BTC-USD</th>\n",
       "      <th>ETH-USD</th>\n",
       "      <th>BNB-USD</th>\n",
       "      <th>DOGE-USD</th>\n",
       "    </tr>\n",
       "  </thead>\n",
       "  <tbody>\n",
       "    <tr>\n",
       "      <th>count</th>\n",
       "      <td>2038.000000</td>\n",
       "      <td>2038.000000</td>\n",
       "      <td>2038.000000</td>\n",
       "      <td>2038.000000</td>\n",
       "    </tr>\n",
       "    <tr>\n",
       "      <th>mean</th>\n",
       "      <td>19399.342586</td>\n",
       "      <td>1101.130343</td>\n",
       "      <td>144.123503</td>\n",
       "      <td>0.058530</td>\n",
       "    </tr>\n",
       "    <tr>\n",
       "      <th>std</th>\n",
       "      <td>16495.584187</td>\n",
       "      <td>1157.397985</td>\n",
       "      <td>180.425254</td>\n",
       "      <td>0.095397</td>\n",
       "    </tr>\n",
       "    <tr>\n",
       "      <th>min</th>\n",
       "      <td>2710.670000</td>\n",
       "      <td>84.310000</td>\n",
       "      <td>0.099870</td>\n",
       "      <td>0.000755</td>\n",
       "    </tr>\n",
       "    <tr>\n",
       "      <th>25%</th>\n",
       "      <td>7344.145000</td>\n",
       "      <td>220.085000</td>\n",
       "      <td>13.260000</td>\n",
       "      <td>0.002519</td>\n",
       "    </tr>\n",
       "    <tr>\n",
       "      <th>50%</th>\n",
       "      <td>10799.315000</td>\n",
       "      <td>476.015000</td>\n",
       "      <td>23.985000</td>\n",
       "      <td>0.003642</td>\n",
       "    </tr>\n",
       "    <tr>\n",
       "      <th>75%</th>\n",
       "      <td>29775.407500</td>\n",
       "      <td>1659.322500</td>\n",
       "      <td>293.872500</td>\n",
       "      <td>0.080780</td>\n",
       "    </tr>\n",
       "    <tr>\n",
       "      <th>max</th>\n",
       "      <td>67566.830000</td>\n",
       "      <td>4812.090000</td>\n",
       "      <td>675.680000</td>\n",
       "      <td>0.684800</td>\n",
       "    </tr>\n",
       "  </tbody>\n",
       "</table>\n",
       "</div>"
      ],
      "text/plain": [
       "            BTC-USD      ETH-USD      BNB-USD     DOGE-USD\n",
       "count   2038.000000  2038.000000  2038.000000  2038.000000\n",
       "mean   19399.342586  1101.130343   144.123503     0.058530\n",
       "std    16495.584187  1157.397985   180.425254     0.095397\n",
       "min     2710.670000    84.310000     0.099870     0.000755\n",
       "25%     7344.145000   220.085000    13.260000     0.002519\n",
       "50%    10799.315000   476.015000    23.985000     0.003642\n",
       "75%    29775.407500  1659.322500   293.872500     0.080780\n",
       "max    67566.830000  4812.090000   675.680000     0.684800"
      ]
     },
     "execution_count": 137,
     "metadata": {},
     "output_type": "execute_result"
    }
   ],
   "source": [
    "filteredprices.describe()"
   ]
  },
  {
   "cell_type": "markdown",
   "id": "f0633bfd",
   "metadata": {},
   "source": [
    "All of this statistics come from August '2017' until the end of February '2023'. The min price of Bitcoin is 2710.67 and the max is 67,566.83. We can see that between this 6 years the price increase 96% from the min value. The most popular and expensive coin is Bitcoin. With a mean of 19,399.34 and standard deviation of 16495.58. ...........................more analysis"
   ]
  },
  {
   "cell_type": "markdown",
   "id": "6563f4e5",
   "metadata": {},
   "source": [
    "# For compare cryptocurrencies we will work with daily returns instead of closing prices. (Relative price changes)."
   ]
  },
  {
   "cell_type": "code",
   "execution_count": 115,
   "id": "07840759",
   "metadata": {},
   "outputs": [],
   "source": [
    "daily_returns = filteredprices.pct_change().dropna(axis=0)"
   ]
  },
  {
   "cell_type": "code",
   "execution_count": 116,
   "id": "dc95307c",
   "metadata": {},
   "outputs": [
    {
     "data": {
      "text/html": [
       "<div>\n",
       "<style scoped>\n",
       "    .dataframe tbody tr th:only-of-type {\n",
       "        vertical-align: middle;\n",
       "    }\n",
       "\n",
       "    .dataframe tbody tr th {\n",
       "        vertical-align: top;\n",
       "    }\n",
       "\n",
       "    .dataframe thead th {\n",
       "        text-align: right;\n",
       "    }\n",
       "</style>\n",
       "<table border=\"1\" class=\"dataframe\">\n",
       "  <thead>\n",
       "    <tr style=\"text-align: right;\">\n",
       "      <th></th>\n",
       "      <th>BTC-USD</th>\n",
       "      <th>ETH-USD</th>\n",
       "      <th>BNB-USD</th>\n",
       "      <th>DOGE-USD</th>\n",
       "    </tr>\n",
       "    <tr>\n",
       "      <th>Date</th>\n",
       "      <th></th>\n",
       "      <th></th>\n",
       "      <th></th>\n",
       "      <th></th>\n",
       "    </tr>\n",
       "  </thead>\n",
       "  <tbody>\n",
       "    <tr>\n",
       "      <th>2017-08-02</th>\n",
       "      <td>-0.002792</td>\n",
       "      <td>-0.030075</td>\n",
       "      <td>0.006308</td>\n",
       "      <td>-0.002232</td>\n",
       "    </tr>\n",
       "    <tr>\n",
       "      <th>2017-08-03</th>\n",
       "      <td>0.034700</td>\n",
       "      <td>0.024506</td>\n",
       "      <td>0.060697</td>\n",
       "      <td>0.003915</td>\n",
       "    </tr>\n",
       "    <tr>\n",
       "      <th>2017-08-04</th>\n",
       "      <td>0.032502</td>\n",
       "      <td>-0.010074</td>\n",
       "      <td>0.008443</td>\n",
       "      <td>0.013928</td>\n",
       "    </tr>\n",
       "    <tr>\n",
       "      <th>2017-08-05</th>\n",
       "      <td>0.123285</td>\n",
       "      <td>0.149908</td>\n",
       "      <td>0.199070</td>\n",
       "      <td>0.146703</td>\n",
       "    </tr>\n",
       "    <tr>\n",
       "      <th>2017-08-06</th>\n",
       "      <td>-0.011980</td>\n",
       "      <td>0.019726</td>\n",
       "      <td>0.016292</td>\n",
       "      <td>-0.085290</td>\n",
       "    </tr>\n",
       "    <tr>\n",
       "      <th>...</th>\n",
       "      <td>...</td>\n",
       "      <td>...</td>\n",
       "      <td>...</td>\n",
       "      <td>...</td>\n",
       "    </tr>\n",
       "    <tr>\n",
       "      <th>2023-02-24</th>\n",
       "      <td>-0.031292</td>\n",
       "      <td>-0.025862</td>\n",
       "      <td>-0.021003</td>\n",
       "      <td>-0.040218</td>\n",
       "    </tr>\n",
       "    <tr>\n",
       "      <th>2023-02-25</th>\n",
       "      <td>-0.000981</td>\n",
       "      <td>-0.008369</td>\n",
       "      <td>0.001093</td>\n",
       "      <td>-0.001360</td>\n",
       "    </tr>\n",
       "    <tr>\n",
       "      <th>2023-02-26</th>\n",
       "      <td>0.016648</td>\n",
       "      <td>0.028785</td>\n",
       "      <td>0.021893</td>\n",
       "      <td>0.017453</td>\n",
       "    </tr>\n",
       "    <tr>\n",
       "      <th>2023-02-27</th>\n",
       "      <td>-0.001627</td>\n",
       "      <td>-0.003955</td>\n",
       "      <td>-0.013398</td>\n",
       "      <td>-0.010341</td>\n",
       "    </tr>\n",
       "    <tr>\n",
       "      <th>2023-02-28</th>\n",
       "      <td>-0.015964</td>\n",
       "      <td>-0.017396</td>\n",
       "      <td>-0.011120</td>\n",
       "      <td>-0.007376</td>\n",
       "    </tr>\n",
       "  </tbody>\n",
       "</table>\n",
       "<p>2037 rows × 4 columns</p>\n",
       "</div>"
      ],
      "text/plain": [
       "             BTC-USD   ETH-USD   BNB-USD  DOGE-USD\n",
       "Date                                              \n",
       "2017-08-02 -0.002792 -0.030075  0.006308 -0.002232\n",
       "2017-08-03  0.034700  0.024506  0.060697  0.003915\n",
       "2017-08-04  0.032502 -0.010074  0.008443  0.013928\n",
       "2017-08-05  0.123285  0.149908  0.199070  0.146703\n",
       "2017-08-06 -0.011980  0.019726  0.016292 -0.085290\n",
       "...              ...       ...       ...       ...\n",
       "2023-02-24 -0.031292 -0.025862 -0.021003 -0.040218\n",
       "2023-02-25 -0.000981 -0.008369  0.001093 -0.001360\n",
       "2023-02-26  0.016648  0.028785  0.021893  0.017453\n",
       "2023-02-27 -0.001627 -0.003955 -0.013398 -0.010341\n",
       "2023-02-28 -0.015964 -0.017396 -0.011120 -0.007376\n",
       "\n",
       "[2037 rows x 4 columns]"
      ]
     },
     "execution_count": 116,
     "metadata": {},
     "output_type": "execute_result"
    }
   ],
   "source": [
    "daily_returns"
   ]
  },
  {
   "cell_type": "markdown",
   "id": "398da557",
   "metadata": {},
   "source": [
    "pct_change() is a method in pandas library, that calculates the percentage change between the current element and its preceding element, and returns a new DataFrame with the computed values. And we are using dropna() function to clean the data from non_numerical values."
   ]
  },
  {
   "cell_type": "markdown",
   "id": "a135903d",
   "metadata": {},
   "source": [
    "# To get the price changes over time we have to accumulate the returns to compare the cryptocurrencies"
   ]
  },
  {
   "cell_type": "code",
   "execution_count": 118,
   "id": "fe9d01ee",
   "metadata": {},
   "outputs": [],
   "source": [
    "daily_cum_returns = (daily_returns + 1).cumprod()-1"
   ]
  },
  {
   "cell_type": "code",
   "execution_count": 119,
   "id": "4e875fdd",
   "metadata": {},
   "outputs": [
    {
     "data": {
      "text/html": [
       "<div>\n",
       "<style scoped>\n",
       "    .dataframe tbody tr th:only-of-type {\n",
       "        vertical-align: middle;\n",
       "    }\n",
       "\n",
       "    .dataframe tbody tr th {\n",
       "        vertical-align: top;\n",
       "    }\n",
       "\n",
       "    .dataframe thead th {\n",
       "        text-align: right;\n",
       "    }\n",
       "</style>\n",
       "<table border=\"1\" class=\"dataframe\">\n",
       "  <thead>\n",
       "    <tr style=\"text-align: right;\">\n",
       "      <th></th>\n",
       "      <th>BTC-USD</th>\n",
       "      <th>ETH-USD</th>\n",
       "      <th>BNB-USD</th>\n",
       "      <th>DOGE-USD</th>\n",
       "    </tr>\n",
       "    <tr>\n",
       "      <th>Date</th>\n",
       "      <th></th>\n",
       "      <th></th>\n",
       "      <th></th>\n",
       "      <th></th>\n",
       "    </tr>\n",
       "  </thead>\n",
       "  <tbody>\n",
       "    <tr>\n",
       "      <th>2017-08-02</th>\n",
       "      <td>-0.002792</td>\n",
       "      <td>-0.030075</td>\n",
       "      <td>0.006308</td>\n",
       "      <td>-0.002232</td>\n",
       "    </tr>\n",
       "    <tr>\n",
       "      <th>2017-08-03</th>\n",
       "      <td>0.031811</td>\n",
       "      <td>-0.006306</td>\n",
       "      <td>0.067388</td>\n",
       "      <td>0.001674</td>\n",
       "    </tr>\n",
       "    <tr>\n",
       "      <th>2017-08-04</th>\n",
       "      <td>0.065347</td>\n",
       "      <td>-0.016316</td>\n",
       "      <td>0.076399</td>\n",
       "      <td>0.015625</td>\n",
       "    </tr>\n",
       "    <tr>\n",
       "      <th>2017-08-05</th>\n",
       "      <td>0.196688</td>\n",
       "      <td>0.131146</td>\n",
       "      <td>0.290678</td>\n",
       "      <td>0.164621</td>\n",
       "    </tr>\n",
       "    <tr>\n",
       "      <th>2017-08-06</th>\n",
       "      <td>0.182352</td>\n",
       "      <td>0.153459</td>\n",
       "      <td>0.311705</td>\n",
       "      <td>0.065290</td>\n",
       "    </tr>\n",
       "    <tr>\n",
       "      <th>...</th>\n",
       "      <td>...</td>\n",
       "      <td>...</td>\n",
       "      <td>...</td>\n",
       "      <td>...</td>\n",
       "    </tr>\n",
       "    <tr>\n",
       "      <th>2023-02-24</th>\n",
       "      <td>7.534184</td>\n",
       "      <td>6.092517</td>\n",
       "      <td>3023.431761</td>\n",
       "      <td>44.145089</td>\n",
       "    </tr>\n",
       "    <tr>\n",
       "      <th>2023-02-25</th>\n",
       "      <td>7.525814</td>\n",
       "      <td>6.033161</td>\n",
       "      <td>3026.736057</td>\n",
       "      <td>44.083705</td>\n",
       "    </tr>\n",
       "    <tr>\n",
       "      <th>2023-02-26</th>\n",
       "      <td>7.667754</td>\n",
       "      <td>6.235613</td>\n",
       "      <td>3093.022229</td>\n",
       "      <td>44.870536</td>\n",
       "    </tr>\n",
       "    <tr>\n",
       "      <th>2023-02-27</th>\n",
       "      <td>7.653650</td>\n",
       "      <td>6.206994</td>\n",
       "      <td>3051.568339</td>\n",
       "      <td>44.396205</td>\n",
       "    </tr>\n",
       "    <tr>\n",
       "      <th>2023-02-28</th>\n",
       "      <td>7.515503</td>\n",
       "      <td>6.081625</td>\n",
       "      <td>3017.624211</td>\n",
       "      <td>44.061384</td>\n",
       "    </tr>\n",
       "  </tbody>\n",
       "</table>\n",
       "<p>2037 rows × 4 columns</p>\n",
       "</div>"
      ],
      "text/plain": [
       "             BTC-USD   ETH-USD      BNB-USD   DOGE-USD\n",
       "Date                                                  \n",
       "2017-08-02 -0.002792 -0.030075     0.006308  -0.002232\n",
       "2017-08-03  0.031811 -0.006306     0.067388   0.001674\n",
       "2017-08-04  0.065347 -0.016316     0.076399   0.015625\n",
       "2017-08-05  0.196688  0.131146     0.290678   0.164621\n",
       "2017-08-06  0.182352  0.153459     0.311705   0.065290\n",
       "...              ...       ...          ...        ...\n",
       "2023-02-24  7.534184  6.092517  3023.431761  44.145089\n",
       "2023-02-25  7.525814  6.033161  3026.736057  44.083705\n",
       "2023-02-26  7.667754  6.235613  3093.022229  44.870536\n",
       "2023-02-27  7.653650  6.206994  3051.568339  44.396205\n",
       "2023-02-28  7.515503  6.081625  3017.624211  44.061384\n",
       "\n",
       "[2037 rows x 4 columns]"
      ]
     },
     "execution_count": 119,
     "metadata": {},
     "output_type": "execute_result"
    }
   ],
   "source": [
    "daily_cum_returns"
   ]
  },
  {
   "cell_type": "markdown",
   "id": "53736e75",
   "metadata": {},
   "source": [
    "# Now with this data we can compare the cryptocurrencies"
   ]
  },
  {
   "cell_type": "code",
   "execution_count": 146,
   "id": "06918a6f",
   "metadata": {},
   "outputs": [
    {
     "data": {
      "image/png": "[encoded data removed]",
      "text/plain": [
       "<Figure size 1200x600 with 1 Axes>"
      ]
     },
     "metadata": {},
     "output_type": "display_data"
    }
   ],
   "source": [
    "daily_cum_returns.plot(figsize=(12,6))\n",
    "plt.tight_layout(); plt.show()"
   ]
  },
  {
   "cell_type": "code",
   "execution_count": 149,
   "id": "fde9e18c",
   "metadata": {},
   "outputs": [
    {
     "data": {
      "image/png": "[encoded data removed]",
      "text/plain": [
       "<Figure size 1200x600 with 1 Axes>"
      ]
     },
     "metadata": {},
     "output_type": "display_data"
    }
   ],
   "source": [
    "colors = ['b','tab:orange','r']\n",
    "daily_cum_returns[['BTC-USD','ETH-USD', 'DOGE-USD']].plot(color = colors, figsize= (12,6))\n",
    "plt.show()"
   ]
  },
  {
   "cell_type": "code",
   "execution_count": null,
   "id": "c4805bd5",
   "metadata": {},
   "outputs": [],
   "source": []
  }
 ],
 "metadata": {
  "kernelspec": {
   "display_name": "Python 3 (ipykernel)",
   "language": "python",
   "name": "python3"
  },
  "language_info": {
   "codemirror_mode": {
    "name": "ipython",
    "version": 3
   },
   "file_extension": ".py",
   "mimetype": "text/x-python",
   "name": "python",
   "nbconvert_exporter": "python",
   "pygments_lexer": "ipython3",
   "version": "3.9.13"
  }
 },
 "nbformat": 4,
 "nbformat_minor": 5
}
