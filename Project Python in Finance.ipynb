{
 "cells": [
  {
   "cell_type": "markdown",
   "id": "c12124e7",
   "metadata": {},
   "source": [
    "# Importing libraries that we will use"
   ]
  },
  {
   "cell_type": "code",
   "execution_count": 1,
   "id": "8f6fcf4c",
   "metadata": {},
   "outputs": [],
   "source": [
    "import pandas as pd\n",
    "import matplotlib.pyplot as plt\n",
    "import numpy as np"
   ]
  },
  {
   "cell_type": "markdown",
   "id": "7e506a07",
   "metadata": {},
   "source": [
    "# Load the CSV file into a pandas DataFrame using the read_csv() function.\n",
    "Importing data from csv that contain the Bitcoin data."
   ]
  },
  {
   "cell_type": "code",
   "execution_count": 2,
   "id": "a4c4ed27",
   "metadata": {},
   "outputs": [],
   "source": [
    "bitcoin = pd.read_csv('./Documents/UCD python for finance/project/data/Bitcoin - Bitcoin.csv')"
   ]
  },
  {
   "cell_type": "code",
   "execution_count": 3,
   "id": "5ef7532a",
   "metadata": {
    "scrolled": true
   },
   "outputs": [
    {
     "name": "stdout",
     "output_type": "stream",
     "text": [
      "              Date       Open*        High         Low     Close**  \\\n",
      "0     feb 28, 2023  $23,521.84  $23,585.38  $23,077.65  $23,147.35   \n",
      "1     feb 27, 2023  $23,561.45  $23,857.89  $23,205.88  $23,522.87   \n",
      "2     feb 26, 2023  $23,174.15  $23,654.37  $23,084.22  $23,561.21   \n",
      "3     feb 25, 2023  $23,200.13  $23,210.21  $22,861.56  $23,175.38   \n",
      "4     feb 24, 2023  $23,946.01  $24,103.70  $23,007.07  $23,198.13   \n",
      "...            ...         ...         ...         ...         ...   \n",
      "3589  may 02, 2013     $116.38     $125.60      $92.28     $105.21   \n",
      "3590  may 01, 2013     $139.00     $139.89     $107.72     $116.99   \n",
      "3591  Apr 30, 2013     $144.00     $146.93     $134.05     $139.00   \n",
      "3592  Apr 29, 2013     $134.44     $147.49     $134.00     $144.54   \n",
      "3593  Apr 28, 2013     $135.30     $135.98     $132.10     $134.21   \n",
      "\n",
      "               Volume        Market Cap  \n",
      "0     $20,535,363,434  $446,846,764,116  \n",
      "1     $22,660,763,494  $454,075,216,420  \n",
      "2     $16,644,534,842  $454,795,165,823  \n",
      "3     $16,100,721,565  $447,323,985,683  \n",
      "4     $26,811,744,928  $447,747,058,644  \n",
      "...               ...               ...  \n",
      "3589               $0    $1,168,517,495  \n",
      "3590               $0    $1,298,954,594  \n",
      "3591               $0    $1,542,813,125  \n",
      "3592               $0    $1,603,768,865  \n",
      "3593               $0    $1,488,566,728  \n",
      "\n",
      "[3594 rows x 7 columns]\n"
     ]
    }
   ],
   "source": [
    "print(bitcoin)"
   ]
  },
  {
   "cell_type": "markdown",
   "id": "e0a63b8c",
   "metadata": {},
   "source": [
    "For to be sure that the contents of the DataFrame reflect the meaning of my data, we need to clean and inspect the data."
   ]
  },
  {
   "cell_type": "markdown",
   "id": "049d9d54",
   "metadata": {},
   "source": [
    "### We will use the .head() method which displays the first 5 rows"
   ]
  },
  {
   "cell_type": "code",
   "execution_count": 6,
   "id": "d585b929",
   "metadata": {},
   "outputs": [
    {
     "name": "stdout",
     "output_type": "stream",
     "text": [
      "           Date       Open*        High         Low     Close**  \\\n",
      "0  feb 28, 2023  $23,521.84  $23,585.38  $23,077.65  $23,147.35   \n",
      "1  feb 27, 2023  $23,561.45  $23,857.89  $23,205.88  $23,522.87   \n",
      "2  feb 26, 2023  $23,174.15  $23,654.37  $23,084.22  $23,561.21   \n",
      "3  feb 25, 2023  $23,200.13  $23,210.21  $22,861.56  $23,175.38   \n",
      "4  feb 24, 2023  $23,946.01  $24,103.70  $23,007.07  $23,198.13   \n",
      "\n",
      "            Volume        Market Cap  \n",
      "0  $20,535,363,434  $446,846,764,116  \n",
      "1  $22,660,763,494  $454,075,216,420  \n",
      "2  $16,644,534,842  $454,795,165,823  \n",
      "3  $16,100,721,565  $447,323,985,683  \n",
      "4  $26,811,744,928  $447,747,058,644  \n"
     ]
    }
   ],
   "source": [
    "print(bitcoin.head())"
   ]
  },
  {
   "cell_type": "markdown",
   "id": "d7dbec10",
   "metadata": {},
   "source": [
    "# Replace missing values"
   ]
  },
  {
   "cell_type": "markdown",
   "id": "afc8be09",
   "metadata": {},
   "source": [
    "Some important questions to answer that will help to clean the data are:\n",
    "\n",
    "Which data type would you expect pandas to assign to each column?\n",
    "What symbol is used to represent a missing value?"
   ]
  },
  {
   "cell_type": "markdown",
   "id": "fd00bf5f",
   "metadata": {},
   "source": [
    "Looking the data we will expect 6 columns type float64 and 1 column type datetime64.\n",
    "\n",
    "We can see missing values from the first printing at the end of the data, we can print the last 5 rows to check, we will use .tail() function to display the last 5 rows."
   ]
  },
  {
   "cell_type": "code",
   "execution_count": 7,
   "id": "a65120df",
   "metadata": {
    "scrolled": true
   },
   "outputs": [
    {
     "name": "stdout",
     "output_type": "stream",
     "text": [
      "              Date    Open*     High      Low  Close** Volume      Market Cap\n",
      "3589  may 02, 2013  $116.38  $125.60   $92.28  $105.21     $0  $1,168,517,495\n",
      "3590  may 01, 2013  $139.00  $139.89  $107.72  $116.99     $0  $1,298,954,594\n",
      "3591  Apr 30, 2013  $144.00  $146.93  $134.05  $139.00     $0  $1,542,813,125\n",
      "3592  Apr 29, 2013  $134.44  $147.49  $134.00  $144.54     $0  $1,603,768,865\n",
      "3593  Apr 28, 2013  $135.30  $135.98  $132.10  $134.21     $0  $1,488,566,728\n"
     ]
    }
   ],
   "source": [
    "print(bitcoin.tail())"
   ]
  },
  {
   "cell_type": "markdown",
   "id": "21445b86",
   "metadata": {},
   "source": [
    "The DataFrame show some values in cero in the column 'volume' at the last rows, but are represented with value 0, in case that we need it in future analysis we will extract the column and see until what date we have data."
   ]
  },
  {
   "cell_type": "markdown",
   "id": "25f74034",
   "metadata": {},
   "source": [
    "# Inspect the data\n",
    "I will use the .info() to identify dtype mismatches in the DataFrame summary, see the content and the missing values."
   ]
  },
  {
   "cell_type": "code",
   "execution_count": 8,
   "id": "fafdf42c",
   "metadata": {},
   "outputs": [
    {
     "name": "stdout",
     "output_type": "stream",
     "text": [
      "<class 'pandas.core.frame.DataFrame'>\n",
      "RangeIndex: 3594 entries, 0 to 3593\n",
      "Data columns (total 7 columns):\n",
      " #   Column      Non-Null Count  Dtype \n",
      "---  ------      --------------  ----- \n",
      " 0   Date        3594 non-null   object\n",
      " 1   Open*       3594 non-null   object\n",
      " 2   High        3594 non-null   object\n",
      " 3   Low         3594 non-null   object\n",
      " 4   Close**     3594 non-null   object\n",
      " 5   Volume      3594 non-null   object\n",
      " 6   Market Cap  3594 non-null   object\n",
      "dtypes: object(7)\n",
      "memory usage: 196.7+ KB\n"
     ]
    }
   ],
   "source": [
    "bitcoin.info()"
   ]
  },
  {
   "cell_type": "markdown",
   "id": "96f05e10",
   "metadata": {},
   "source": [
    "This Dataframe has 3594 entries, in other words has 3594 rows and 7 columns \n",
    "as we can see the dtypes are all object, this is one thing that we need to change, then we will be able to work with the data as we want to manipulate numbers, that will help to get some results in our analysis. \n",
    "\n",
    "This DataFrame don't show any missing values, but we will use the na_values parameter to replace any missing values\n",
    "\n",
    "We will use parse_dates parameter to turn things into real datetime types. parse_dates takes a list of columns, in case you want to parse multiple columns into datetimes."
   ]
  },
  {
   "cell_type": "code",
   "execution_count": 9,
   "id": "ca6f190f",
   "metadata": {},
   "outputs": [],
   "source": [
    "bitcoin = pd.read_csv('./Documents/UCD python for finance/project/data/Bitcoin - Bitcoin.csv', na_values='n/a', parse_dates =['Date'])"
   ]
  },
  {
   "cell_type": "code",
   "execution_count": 10,
   "id": "a0b4fa0f",
   "metadata": {
    "scrolled": false
   },
   "outputs": [
    {
     "name": "stdout",
     "output_type": "stream",
     "text": [
      "        Date       Open*        High         Low     Close**           Volume  \\\n",
      "0 2023-02-28  $23,521.84  $23,585.38  $23,077.65  $23,147.35  $20,535,363,434   \n",
      "1 2023-02-27  $23,561.45  $23,857.89  $23,205.88  $23,522.87  $22,660,763,494   \n",
      "2 2023-02-26  $23,174.15  $23,654.37  $23,084.22  $23,561.21  $16,644,534,842   \n",
      "3 2023-02-25  $23,200.13  $23,210.21  $22,861.56  $23,175.38  $16,100,721,565   \n",
      "4 2023-02-24  $23,946.01  $24,103.70  $23,007.07  $23,198.13  $26,811,744,928   \n",
      "\n",
      "         Market Cap  \n",
      "0  $446,846,764,116  \n",
      "1  $454,075,216,420  \n",
      "2  $454,795,165,823  \n",
      "3  $447,323,985,683  \n",
      "4  $447,747,058,644  \n"
     ]
    }
   ],
   "source": [
    "print(bitcoin.head())"
   ]
  },
  {
   "cell_type": "markdown",
   "id": "7aab04da",
   "metadata": {},
   "source": [
    "# Inspecting the data and changing dtypes."
   ]
  },
  {
   "cell_type": "code",
   "execution_count": 11,
   "id": "66d2c2e5",
   "metadata": {
    "scrolled": false
   },
   "outputs": [
    {
     "name": "stdout",
     "output_type": "stream",
     "text": [
      "<class 'pandas.core.frame.DataFrame'>\n",
      "RangeIndex: 3594 entries, 0 to 3593\n",
      "Data columns (total 7 columns):\n",
      " #   Column      Non-Null Count  Dtype         \n",
      "---  ------      --------------  -----         \n",
      " 0   Date        3594 non-null   datetime64[ns]\n",
      " 1   Open*       3594 non-null   object        \n",
      " 2   High        3594 non-null   object        \n",
      " 3   Low         3594 non-null   object        \n",
      " 4   Close**     3594 non-null   object        \n",
      " 5   Volume      3594 non-null   object        \n",
      " 6   Market Cap  3594 non-null   object        \n",
      "dtypes: datetime64[ns](1), object(6)\n",
      "memory usage: 196.7+ KB\n"
     ]
    }
   ],
   "source": [
    "bitcoin.info()"
   ]
  },
  {
   "cell_type": "markdown",
   "id": "aad39014",
   "metadata": {},
   "source": [
    "We can see that using this parameters, na_values and parse_dates, the column Date has changed to dtype like datetime64 and we are sure that we don't have any missing values"
   ]
  },
  {
   "cell_type": "markdown",
   "id": "9b5958e5",
   "metadata": {},
   "source": [
    "Change the other 6 columns dtypes to float"
   ]
  },
  {
   "cell_type": "markdown",
   "id": "250359e9",
   "metadata": {},
   "source": [
    "Convert multiple columns by passing a list of column names to the astype method.\n",
    "\n",
    "bitcoin[['Open*', 'High','Low','Close**','Volume','Market Cap']] = bitcoin[['Open*', 'High','Low','Close**','Volume','Market Cap']].astype(float)\n",
    "\n",
    "This wasn't working because there are non numeric symbols like '$' and ','."
   ]
  },
  {
   "cell_type": "markdown",
   "id": "730bfa8a",
   "metadata": {},
   "source": [
    "# Removing the non-numeric characters from the colums"
   ]
  },
  {
   "cell_type": "code",
   "execution_count": 16,
   "id": "ccea6b31",
   "metadata": {},
   "outputs": [],
   "source": [
    "bitcoin['Open*'] = bitcoin['Open*'].str.replace('[^\\d\\.]', '', regex=True)"
   ]
  },
  {
   "cell_type": "markdown",
   "id": "45bce4f6",
   "metadata": {},
   "source": [
    "Checking if the non numeric characters are gone from the Open* column "
   ]
  },
  {
   "cell_type": "code",
   "execution_count": 18,
   "id": "9ef4d59d",
   "metadata": {},
   "outputs": [
    {
     "name": "stdout",
     "output_type": "stream",
     "text": [
      "        Date     Open*        High         Low     Close**           Volume  \\\n",
      "0 2023-02-28  23521.84  $23,585.38  $23,077.65  $23,147.35  $20,535,363,434   \n",
      "1 2023-02-27  23561.45  $23,857.89  $23,205.88  $23,522.87  $22,660,763,494   \n",
      "2 2023-02-26  23174.15  $23,654.37  $23,084.22  $23,561.21  $16,644,534,842   \n",
      "3 2023-02-25  23200.13  $23,210.21  $22,861.56  $23,175.38  $16,100,721,565   \n",
      "4 2023-02-24  23946.01  $24,103.70  $23,007.07  $23,198.13  $26,811,744,928   \n",
      "\n",
      "         Market Cap  \n",
      "0  $446,846,764,116  \n",
      "1  $454,075,216,420  \n",
      "2  $454,795,165,823  \n",
      "3  $447,323,985,683  \n",
      "4  $447,747,058,644  \n"
     ]
    }
   ],
   "source": [
    "print(bitcoin.head())"
   ]
  },
  {
   "cell_type": "markdown",
   "id": "491cbebd",
   "metadata": {},
   "source": [
    "We will remove the non-numerical characters of the rest of the columns"
   ]
  },
  {
   "cell_type": "code",
   "execution_count": 20,
   "id": "32f494e9",
   "metadata": {},
   "outputs": [],
   "source": [
    "bitcoin['High'] = bitcoin['High'].str.replace('[^\\d\\.]', '', regex=True)"
   ]
  },
  {
   "cell_type": "code",
   "execution_count": 21,
   "id": "23dd69cf",
   "metadata": {},
   "outputs": [],
   "source": [
    "bitcoin['Low'] = bitcoin['Low'].str.replace('[^\\d\\.]', '', regex=True)"
   ]
  },
  {
   "cell_type": "code",
   "execution_count": 22,
   "id": "e92213ff",
   "metadata": {},
   "outputs": [],
   "source": [
    "bitcoin['Close**'] = bitcoin['Close**'].str.replace('[^\\d\\.]', '', regex=True)"
   ]
  },
  {
   "cell_type": "code",
   "execution_count": 23,
   "id": "f03191fc",
   "metadata": {},
   "outputs": [],
   "source": [
    "bitcoin['Volume'] = bitcoin['Volume'].str.replace('[^\\d\\.]', '', regex=True)"
   ]
  },
  {
   "cell_type": "code",
   "execution_count": 24,
   "id": "9cb6bb16",
   "metadata": {},
   "outputs": [],
   "source": [
    "bitcoin['Market Cap'] = bitcoin['Market Cap'].str.replace('[^\\d\\.]', '', regex=True)"
   ]
  },
  {
   "cell_type": "markdown",
   "id": "cbf04931",
   "metadata": {},
   "source": [
    "Printing the first 5 rows of the DataFrame, checking if the non-numerical characters are gone in the rest of the columns"
   ]
  },
  {
   "cell_type": "code",
   "execution_count": 26,
   "id": "2c07a1f4",
   "metadata": {},
   "outputs": [
    {
     "name": "stdout",
     "output_type": "stream",
     "text": [
      "        Date     Open*      High       Low   Close**       Volume  \\\n",
      "0 2023-02-28  23521.84  23585.38  23077.65  23147.35  20535363434   \n",
      "1 2023-02-27  23561.45  23857.89  23205.88  23522.87  22660763494   \n",
      "2 2023-02-26  23174.15  23654.37  23084.22  23561.21  16644534842   \n",
      "3 2023-02-25  23200.13  23210.21  22861.56  23175.38  16100721565   \n",
      "4 2023-02-24  23946.01  24103.70  23007.07  23198.13  26811744928   \n",
      "\n",
      "     Market Cap  \n",
      "0  446846764116  \n",
      "1  454075216420  \n",
      "2  454795165823  \n",
      "3  447323985683  \n",
      "4  447747058644  \n"
     ]
    }
   ],
   "source": [
    "print(bitcoin.head())"
   ]
  },
  {
   "cell_type": "markdown",
   "id": "79f4d1ac",
   "metadata": {},
   "source": [
    "# Change the dtype from object to float64"
   ]
  },
  {
   "cell_type": "code",
   "execution_count": 28,
   "id": "b0a5c2a0",
   "metadata": {},
   "outputs": [],
   "source": [
    "bitcoin[['Open*', 'High','Low','Close**','Volume','Market Cap']] = bitcoin[['Open*', 'High','Low','Close**','Volume','Market Cap']].astype(float)"
   ]
  },
  {
   "cell_type": "markdown",
   "id": "928f7d4d",
   "metadata": {},
   "source": [
    "Inspect the data .info() and see if the dtypes changed in all the columns."
   ]
  },
  {
   "cell_type": "code",
   "execution_count": 30,
   "id": "b120d09f",
   "metadata": {},
   "outputs": [
    {
     "name": "stdout",
     "output_type": "stream",
     "text": [
      "<class 'pandas.core.frame.DataFrame'>\n",
      "RangeIndex: 3594 entries, 0 to 3593\n",
      "Data columns (total 7 columns):\n",
      " #   Column      Non-Null Count  Dtype         \n",
      "---  ------      --------------  -----         \n",
      " 0   Date        3594 non-null   datetime64[ns]\n",
      " 1   Open*       3594 non-null   float64       \n",
      " 2   High        3594 non-null   float64       \n",
      " 3   Low         3594 non-null   float64       \n",
      " 4   Close**     3594 non-null   float64       \n",
      " 5   Volume      3594 non-null   float64       \n",
      " 6   Market Cap  3594 non-null   float64       \n",
      "dtypes: datetime64[ns](1), float64(6)\n",
      "memory usage: 196.7 KB\n"
     ]
    }
   ],
   "source": [
    "bitcoin.info()"
   ]
  },
  {
   "cell_type": "markdown",
   "id": "bacc0e02",
   "metadata": {},
   "source": [
    "As we can see the dtypes of the 6 columns changed to float64 and we have one column with datetime64 that represents the Dates.\n",
    "\n",
    "This change will help if we want to use the data and we want to compare different numbers to analize the prices sensibility."
   ]
  },
  {
   "cell_type": "markdown",
   "id": "ca0d3a21",
   "metadata": {},
   "source": [
    "# Drop duplicates Dates in the DataFrame.\n",
    "\n",
    "We use the duplicated() method with the subset parameter set to 'Date' to check for duplicates in that column. The duplicated() method returns a boolean series where True indicates that the row is a duplicated and False indicates that it is not."
   ]
  },
  {
   "cell_type": "code",
   "execution_count": 32,
   "id": "353e52f6",
   "metadata": {
    "scrolled": true
   },
   "outputs": [
    {
     "name": "stdout",
     "output_type": "stream",
     "text": [
      "There are no duplicated Dates.\n"
     ]
    }
   ],
   "source": [
    "# check for duplicates\n",
    "duplicates = bitcoin.duplicated(subset=['Date'])\n",
    "\n",
    "# get only the duplicated rows\n",
    "duplicated_rows = bitcoin[duplicates]\n",
    "\n",
    "# print out the duplicated row using the 'empty' attribute\n",
    "if duplicated_rows.empty:\n",
    "    print(\"There are no duplicated Dates.\")\n",
    "else:\n",
    "    print(duplicated_rows)"
   ]
  },
  {
   "cell_type": "markdown",
   "id": "fbf428c3",
   "metadata": {},
   "source": [
    "We use boolean indexing to get only the rows where duplicates is True. This gives us a new dataframe called duplicated_rows that contains only the rows with duplicate Date values."
   ]
  },
  {
   "cell_type": "markdown",
   "id": "3a6f1284",
   "metadata": {},
   "source": [
    "# Indexing the column 'Date'"
   ]
  },
  {
   "cell_type": "code",
   "execution_count": 33,
   "id": "6245f70b",
   "metadata": {},
   "outputs": [],
   "source": [
    "bitcoin.set_index('Date', inplace=True)"
   ]
  },
  {
   "cell_type": "markdown",
   "id": "3777dcc8",
   "metadata": {},
   "source": [
    "Use the set_index() method to set the 'Date' column as the index of the DataFrame.\n",
    "\n",
    "Use the inplace=True parameter to modify the DataFrame in place, no creating a new one."
   ]
  },
  {
   "cell_type": "code",
   "execution_count": 35,
   "id": "4d05a273",
   "metadata": {},
   "outputs": [
    {
     "name": "stdout",
     "output_type": "stream",
     "text": [
      "               Open*      High       Low   Close**        Volume    Market Cap\n",
      "Date                                                                          \n",
      "2023-02-28  23521.84  23585.38  23077.65  23147.35  2.053536e+10  4.468468e+11\n",
      "2023-02-27  23561.45  23857.89  23205.88  23522.87  2.266076e+10  4.540752e+11\n",
      "2023-02-26  23174.15  23654.37  23084.22  23561.21  1.664453e+10  4.547952e+11\n",
      "2023-02-25  23200.13  23210.21  22861.56  23175.38  1.610072e+10  4.473240e+11\n",
      "2023-02-24  23946.01  24103.70  23007.07  23198.13  2.681174e+10  4.477471e+11\n"
     ]
    }
   ],
   "source": [
    "print(bitcoin.head())"
   ]
  },
  {
   "cell_type": "code",
   "execution_count": 36,
   "id": "7c6c8a59",
   "metadata": {},
   "outputs": [
    {
     "name": "stdout",
     "output_type": "stream",
     "text": [
      "<class 'pandas.core.frame.DataFrame'>\n",
      "DatetimeIndex: 3594 entries, 2023-02-28 to 2013-04-28\n",
      "Data columns (total 6 columns):\n",
      " #   Column      Non-Null Count  Dtype  \n",
      "---  ------      --------------  -----  \n",
      " 0   Open*       3594 non-null   float64\n",
      " 1   High        3594 non-null   float64\n",
      " 2   Low         3594 non-null   float64\n",
      " 3   Close**     3594 non-null   float64\n",
      " 4   Volume      3594 non-null   float64\n",
      " 5   Market Cap  3594 non-null   float64\n",
      "dtypes: float64(6)\n",
      "memory usage: 196.5 KB\n"
     ]
    }
   ],
   "source": [
    "bitcoin.info()"
   ]
  },
  {
   "cell_type": "markdown",
   "id": "8023b9a0",
   "metadata": {},
   "source": [
    "The DataFrame has a DatetimeIndex with 3594 entries, contain one row for each day of trading days. \n",
    "Starting on 28/02/2023 until 28/04/2013.\n",
    "\n",
    "There are 6 columns, the first 4 columns summarize the price distribution for the days, the first price, highest price, the lowest price, the last price and the last 2 columns represent the Volume and the Market Cap. "
   ]
  },
  {
   "cell_type": "markdown",
   "id": "303c11f4",
   "metadata": {},
   "source": [
    "# Sorting by Date"
   ]
  },
  {
   "cell_type": "code",
   "execution_count": 40,
   "id": "30f0ab5b",
   "metadata": {},
   "outputs": [],
   "source": [
    "bitcoin_clean = bitcoin.sort_values(by=\"Date\", ascending=True)"
   ]
  },
  {
   "cell_type": "code",
   "execution_count": 41,
   "id": "6711f8be",
   "metadata": {},
   "outputs": [
    {
     "name": "stdout",
     "output_type": "stream",
     "text": [
      "             Open*    High     Low  Close**  Volume    Market Cap\n",
      "Date                                                             \n",
      "2013-04-28  135.30  135.98  132.10   134.21     0.0  1.488567e+09\n",
      "2013-04-29  134.44  147.49  134.00   144.54     0.0  1.603769e+09\n",
      "2013-04-30  144.00  146.93  134.05   139.00     0.0  1.542813e+09\n",
      "2013-05-01  139.00  139.89  107.72   116.99     0.0  1.298955e+09\n",
      "2013-05-02  116.38  125.60   92.28   105.21     0.0  1.168517e+09\n"
     ]
    }
   ],
   "source": [
    "print(bitcoin_clean.head())"
   ]
  },
  {
   "cell_type": "markdown",
   "id": "a9e43dec",
   "metadata": {},
   "source": [
    "The sort_values( ) function is used to sort by the values along either axis. In this case we use 2 parameters, by= that indicate the column reference, that we want to sort the data and ascending=True allow to get the sorting in ascending order."
   ]
  },
  {
   "cell_type": "code",
   "execution_count": null,
   "id": "bcbcd6de",
   "metadata": {},
   "outputs": [],
   "source": []
  }
 ],
 "metadata": {
  "kernelspec": {
   "display_name": "Python 3 (ipykernel)",
   "language": "python",
   "name": "python3"
  },
  "language_info": {
   "codemirror_mode": {
    "name": "ipython",
    "version": 3
   },
   "file_extension": ".py",
   "mimetype": "text/x-python",
   "name": "python",
   "nbconvert_exporter": "python",
   "pygments_lexer": "ipython3",
   "version": "3.9.13"
  }
 },
 "nbformat": 4,
 "nbformat_minor": 5
}
