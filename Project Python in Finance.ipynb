{
 "cells": [
  {
   "cell_type": "markdown",
   "id": "8de01fe7",
   "metadata": {},
   "source": [
    "# Importing libraries that we will use"
   ]
  },
  {
   "cell_type": "code",
   "execution_count": 1,
   "id": "8f6fcf4c",
   "metadata": {},
   "outputs": [],
   "source": [
    "import pandas as pd\n",
    "import matplotlib.pyplot as plt\n",
    "import numpy as np"
   ]
  },
  {
   "cell_type": "markdown",
   "id": "4e9be3c3",
   "metadata": {},
   "source": [
    "# Load the CSV file into a pandas DataFrame using the read_csv() function.\n",
    "Importing data from csv that contain the Bitcoin data."
   ]
  },
  {
   "cell_type": "code",
   "execution_count": 2,
   "id": "a4c4ed27",
   "metadata": {},
   "outputs": [],
   "source": [
    "bitcoin = pd.read_csv('./Documents/UCD python for finance/project/data/Bitcoin - Bitcoin.csv')"
   ]
  },
  {
   "cell_type": "code",
   "execution_count": 3,
   "id": "5ef7532a",
   "metadata": {
    "scrolled": true
   },
   "outputs": [
    {
     "name": "stdout",
     "output_type": "stream",
     "text": [
      "              Date       Open*        High         Low     Close**  \\\n",
      "0     feb 28, 2023  $23,521.84  $23,585.38  $23,077.65  $23,147.35   \n",
      "1     feb 27, 2023  $23,561.45  $23,857.89  $23,205.88  $23,522.87   \n",
      "2     feb 26, 2023  $23,174.15  $23,654.37  $23,084.22  $23,561.21   \n",
      "3     feb 25, 2023  $23,200.13  $23,210.21  $22,861.56  $23,175.38   \n",
      "4     feb 24, 2023  $23,946.01  $24,103.70  $23,007.07  $23,198.13   \n",
      "...            ...         ...         ...         ...         ...   \n",
      "3589  may 02, 2013     $116.38     $125.60      $92.28     $105.21   \n",
      "3590  may 01, 2013     $139.00     $139.89     $107.72     $116.99   \n",
      "3591  Apr 30, 2013     $144.00     $146.93     $134.05     $139.00   \n",
      "3592  Apr 29, 2013     $134.44     $147.49     $134.00     $144.54   \n",
      "3593  Apr 28, 2013     $135.30     $135.98     $132.10     $134.21   \n",
      "\n",
      "               Volume        Market Cap  \n",
      "0     $20,535,363,434  $446,846,764,116  \n",
      "1     $22,660,763,494  $454,075,216,420  \n",
      "2     $16,644,534,842  $454,795,165,823  \n",
      "3     $16,100,721,565  $447,323,985,683  \n",
      "4     $26,811,744,928  $447,747,058,644  \n",
      "...               ...               ...  \n",
      "3589               $0    $1,168,517,495  \n",
      "3590               $0    $1,298,954,594  \n",
      "3591               $0    $1,542,813,125  \n",
      "3592               $0    $1,603,768,865  \n",
      "3593               $0    $1,488,566,728  \n",
      "\n",
      "[3594 rows x 7 columns]\n"
     ]
    }
   ],
   "source": [
    "print(bitcoin)"
   ]
  },
  {
   "cell_type": "markdown",
   "id": "c8ae5195",
   "metadata": {},
   "source": [
    "For to be sure that the contents of the DataFrame reflect the meaning of my data, we need to clean and inspect the data."
   ]
  },
  {
   "cell_type": "markdown",
   "id": "6baafb5d",
   "metadata": {},
   "source": [
    "### We will use the .head() method which displays the first 5 rows"
   ]
  },
  {
   "cell_type": "code",
   "execution_count": 4,
   "id": "d585b929",
   "metadata": {},
   "outputs": [
    {
     "name": "stdout",
     "output_type": "stream",
     "text": [
      "           Date       Open*        High         Low     Close**  \\\n",
      "0  feb 28, 2023  $23,521.84  $23,585.38  $23,077.65  $23,147.35   \n",
      "1  feb 27, 2023  $23,561.45  $23,857.89  $23,205.88  $23,522.87   \n",
      "2  feb 26, 2023  $23,174.15  $23,654.37  $23,084.22  $23,561.21   \n",
      "3  feb 25, 2023  $23,200.13  $23,210.21  $22,861.56  $23,175.38   \n",
      "4  feb 24, 2023  $23,946.01  $24,103.70  $23,007.07  $23,198.13   \n",
      "\n",
      "            Volume        Market Cap  \n",
      "0  $20,535,363,434  $446,846,764,116  \n",
      "1  $22,660,763,494  $454,075,216,420  \n",
      "2  $16,644,534,842  $454,795,165,823  \n",
      "3  $16,100,721,565  $447,323,985,683  \n",
      "4  $26,811,744,928  $447,747,058,644  \n"
     ]
    }
   ],
   "source": [
    "print(bitcoin.head())"
   ]
  },
  {
   "cell_type": "markdown",
   "id": "48f0afa0",
   "metadata": {},
   "source": [
    "# Replace missing values"
   ]
  },
  {
   "cell_type": "markdown",
   "id": "8fe1677d",
   "metadata": {},
   "source": [
    "Some important questions to answer that will help to clean the data are:\n",
    "\n",
    "Which data type would you expect pandas to assign to each column?\n",
    "What symbol is used to represent a missing value?"
   ]
  },
  {
   "cell_type": "markdown",
   "id": "a3a467dc",
   "metadata": {},
   "source": [
    "Looking the data we will expect 6 columns type float64 and 1 column type datetime64.\n",
    "\n",
    "We can see missing values from the first printing at the end of the data, we can print the last 5 rows to check, we will use .tail() function to display the last 5 rows."
   ]
  },
  {
   "cell_type": "code",
   "execution_count": 5,
   "id": "a9c8a552",
   "metadata": {
    "scrolled": true
   },
   "outputs": [
    {
     "name": "stdout",
     "output_type": "stream",
     "text": [
      "              Date    Open*     High      Low  Close** Volume      Market Cap\n",
      "3589  may 02, 2013  $116.38  $125.60   $92.28  $105.21     $0  $1,168,517,495\n",
      "3590  may 01, 2013  $139.00  $139.89  $107.72  $116.99     $0  $1,298,954,594\n",
      "3591  Apr 30, 2013  $144.00  $146.93  $134.05  $139.00     $0  $1,542,813,125\n",
      "3592  Apr 29, 2013  $134.44  $147.49  $134.00  $144.54     $0  $1,603,768,865\n",
      "3593  Apr 28, 2013  $135.30  $135.98  $132.10  $134.21     $0  $1,488,566,728\n"
     ]
    }
   ],
   "source": [
    "print(bitcoin.tail())"
   ]
  },
  {
   "cell_type": "markdown",
   "id": "9965e1f1",
   "metadata": {},
   "source": [
    "The DataFrame show some values in cero in the column 'volume' at the last rows, are represented with value '0', in case that we need it in future analysis we will extract the column and see until what date we have data. In this analysis we will need some of this data, closing prices since 2013, this is the reason we are not removing this rows. In other case, we can use the method of pandas dropna(), to remove missing values."
   ]
  },
  {
   "cell_type": "markdown",
   "id": "01bdcab5",
   "metadata": {},
   "source": [
    "# Inspect the data\n",
    "I will use the .info() to identify dtype mismatches in the DataFrame summary, see the content and the missing values."
   ]
  },
  {
   "cell_type": "code",
   "execution_count": 6,
   "id": "fafdf42c",
   "metadata": {},
   "outputs": [
    {
     "name": "stdout",
     "output_type": "stream",
     "text": [
      "<class 'pandas.core.frame.DataFrame'>\n",
      "RangeIndex: 3594 entries, 0 to 3593\n",
      "Data columns (total 7 columns):\n",
      " #   Column      Non-Null Count  Dtype \n",
      "---  ------      --------------  ----- \n",
      " 0   Date        3594 non-null   object\n",
      " 1   Open*       3594 non-null   object\n",
      " 2   High        3594 non-null   object\n",
      " 3   Low         3594 non-null   object\n",
      " 4   Close**     3594 non-null   object\n",
      " 5   Volume      3594 non-null   object\n",
      " 6   Market Cap  3594 non-null   object\n",
      "dtypes: object(7)\n",
      "memory usage: 196.7+ KB\n"
     ]
    }
   ],
   "source": [
    "bitcoin.info()"
   ]
  },
  {
   "cell_type": "markdown",
   "id": "16847dfb",
   "metadata": {},
   "source": [
    "This Dataframe has 3594 entries, in other words has 3594 rows and 7 columns \n",
    "as we can see the dtypes are all object, this is one thing that we need to change, then we will be able to work with the data as we want to manipulate numbers, that will help to get some results in our analysis. \n",
    "\n",
    "This DataFrame don't show any missing values, but we will use the na_values parameter to replace any missing values\n",
    "\n",
    "We will use parse_dates parameter to turn things into real datetime types. parse_dates takes a list of columns, in case you want to parse multiple columns into datetimes."
   ]
  },
  {
   "cell_type": "code",
   "execution_count": 7,
   "id": "ca6f190f",
   "metadata": {},
   "outputs": [],
   "source": [
    "bitcoin = pd.read_csv('./Documents/UCD python for finance/project/data/Bitcoin - Bitcoin.csv', na_values='n/a', parse_dates =['Date'])"
   ]
  },
  {
   "cell_type": "code",
   "execution_count": 8,
   "id": "a0b4fa0f",
   "metadata": {
    "scrolled": false
   },
   "outputs": [
    {
     "name": "stdout",
     "output_type": "stream",
     "text": [
      "        Date       Open*        High         Low     Close**           Volume  \\\n",
      "0 2023-02-28  $23,521.84  $23,585.38  $23,077.65  $23,147.35  $20,535,363,434   \n",
      "1 2023-02-27  $23,561.45  $23,857.89  $23,205.88  $23,522.87  $22,660,763,494   \n",
      "2 2023-02-26  $23,174.15  $23,654.37  $23,084.22  $23,561.21  $16,644,534,842   \n",
      "3 2023-02-25  $23,200.13  $23,210.21  $22,861.56  $23,175.38  $16,100,721,565   \n",
      "4 2023-02-24  $23,946.01  $24,103.70  $23,007.07  $23,198.13  $26,811,744,928   \n",
      "\n",
      "         Market Cap  \n",
      "0  $446,846,764,116  \n",
      "1  $454,075,216,420  \n",
      "2  $454,795,165,823  \n",
      "3  $447,323,985,683  \n",
      "4  $447,747,058,644  \n"
     ]
    }
   ],
   "source": [
    "print(bitcoin.head())"
   ]
  },
  {
   "cell_type": "markdown",
   "id": "b2886bce",
   "metadata": {},
   "source": [
    "# Inspecting the data and changing dtypes."
   ]
  },
  {
   "cell_type": "code",
   "execution_count": 9,
   "id": "66d2c2e5",
   "metadata": {
    "scrolled": false
   },
   "outputs": [
    {
     "name": "stdout",
     "output_type": "stream",
     "text": [
      "<class 'pandas.core.frame.DataFrame'>\n",
      "RangeIndex: 3594 entries, 0 to 3593\n",
      "Data columns (total 7 columns):\n",
      " #   Column      Non-Null Count  Dtype         \n",
      "---  ------      --------------  -----         \n",
      " 0   Date        3594 non-null   datetime64[ns]\n",
      " 1   Open*       3594 non-null   object        \n",
      " 2   High        3594 non-null   object        \n",
      " 3   Low         3594 non-null   object        \n",
      " 4   Close**     3594 non-null   object        \n",
      " 5   Volume      3594 non-null   object        \n",
      " 6   Market Cap  3594 non-null   object        \n",
      "dtypes: datetime64[ns](1), object(6)\n",
      "memory usage: 196.7+ KB\n"
     ]
    }
   ],
   "source": [
    "bitcoin.info()"
   ]
  },
  {
   "cell_type": "code",
   "execution_count": 54,
   "id": "1773cdf0",
   "metadata": {},
   "outputs": [
    {
     "name": "stdout",
     "output_type": "stream",
     "text": [
      "The dataframe does not contain any missing values.\n"
     ]
    }
   ],
   "source": [
    "# Check for missing values\n",
    "if bitcoin.isnull().values.any():\n",
    "    print(\"The dataframe contains missing values.\")\n",
    "else:\n",
    "    print(\"The dataframe does not contain any missing values.\")"
   ]
  },
  {
   "cell_type": "markdown",
   "id": "64fbd909",
   "metadata": {},
   "source": [
    "We use the isnull() method to check for missing values in the dataframe. The values attribute returns a numpy array of boolean values indicating whether each element is missing or not"
   ]
  },
  {
   "cell_type": "markdown",
   "id": "74ca24b7",
   "metadata": {},
   "source": [
    "We use the any() method to check whether there is at least one missing value in the dataframe. If there are missing values, we print a message that the dataframe contains missing values. Otherwise, print that does not contain any missing values."
   ]
  },
  {
   "cell_type": "markdown",
   "id": "da5c31e8",
   "metadata": {},
   "source": [
    "We can see that using this parameters, na_values and parse_dates, the column Date has changed to dtype like datetime64 and we are sure that we don't have any missing values"
   ]
  },
  {
   "cell_type": "markdown",
   "id": "a91b8981",
   "metadata": {},
   "source": [
    "Change the other 6 columns dtypes to float"
   ]
  },
  {
   "cell_type": "markdown",
   "id": "bea36781",
   "metadata": {},
   "source": [
    "Convert multiple columns by passing a list of column names to the astype method.\n",
    "\n",
    "bitcoin[['Open*', 'High','Low','Close**','Volume','Market Cap']] = bitcoin[['Open*', 'High','Low','Close**','Volume','Market Cap']].astype(float)\n",
    "\n",
    "This wasn't working because there are non numeric symbols like '$' and ','."
   ]
  },
  {
   "cell_type": "markdown",
   "id": "62d37b8a",
   "metadata": {},
   "source": [
    "# Removing the non-numeric characters from the colums"
   ]
  },
  {
   "cell_type": "code",
   "execution_count": 10,
   "id": "ccea6b31",
   "metadata": {},
   "outputs": [],
   "source": [
    "bitcoin['Open*'] = bitcoin['Open*'].str.replace('[^\\d\\.]', '', regex=True)"
   ]
  },
  {
   "cell_type": "markdown",
   "id": "5d46590d",
   "metadata": {},
   "source": [
    "Checking if the non numeric characters are gone from the Open* column "
   ]
  },
  {
   "cell_type": "code",
   "execution_count": 11,
   "id": "9ef4d59d",
   "metadata": {},
   "outputs": [
    {
     "name": "stdout",
     "output_type": "stream",
     "text": [
      "        Date     Open*        High         Low     Close**           Volume  \\\n",
      "0 2023-02-28  23521.84  $23,585.38  $23,077.65  $23,147.35  $20,535,363,434   \n",
      "1 2023-02-27  23561.45  $23,857.89  $23,205.88  $23,522.87  $22,660,763,494   \n",
      "2 2023-02-26  23174.15  $23,654.37  $23,084.22  $23,561.21  $16,644,534,842   \n",
      "3 2023-02-25  23200.13  $23,210.21  $22,861.56  $23,175.38  $16,100,721,565   \n",
      "4 2023-02-24  23946.01  $24,103.70  $23,007.07  $23,198.13  $26,811,744,928   \n",
      "\n",
      "         Market Cap  \n",
      "0  $446,846,764,116  \n",
      "1  $454,075,216,420  \n",
      "2  $454,795,165,823  \n",
      "3  $447,323,985,683  \n",
      "4  $447,747,058,644  \n"
     ]
    }
   ],
   "source": [
    "print(bitcoin.head())"
   ]
  },
  {
   "cell_type": "markdown",
   "id": "471a061b",
   "metadata": {},
   "source": [
    "We will remove the non-numerical characters of the rest of the columns"
   ]
  },
  {
   "cell_type": "code",
   "execution_count": 12,
   "id": "32f494e9",
   "metadata": {},
   "outputs": [],
   "source": [
    "bitcoin['High'] = bitcoin['High'].str.replace('[^\\d\\.]', '', regex=True)"
   ]
  },
  {
   "cell_type": "code",
   "execution_count": 13,
   "id": "23dd69cf",
   "metadata": {},
   "outputs": [],
   "source": [
    "bitcoin['Low'] = bitcoin['Low'].str.replace('[^\\d\\.]', '', regex=True)"
   ]
  },
  {
   "cell_type": "code",
   "execution_count": 14,
   "id": "e92213ff",
   "metadata": {},
   "outputs": [],
   "source": [
    "bitcoin['Close**'] = bitcoin['Close**'].str.replace('[^\\d\\.]', '', regex=True)"
   ]
  },
  {
   "cell_type": "code",
   "execution_count": 15,
   "id": "f03191fc",
   "metadata": {},
   "outputs": [],
   "source": [
    "bitcoin['Volume'] = bitcoin['Volume'].str.replace('[^\\d\\.]', '', regex=True)"
   ]
  },
  {
   "cell_type": "code",
   "execution_count": 16,
   "id": "9cb6bb16",
   "metadata": {},
   "outputs": [],
   "source": [
    "bitcoin['Market Cap'] = bitcoin['Market Cap'].str.replace('[^\\d\\.]', '', regex=True)"
   ]
  },
  {
   "cell_type": "markdown",
   "id": "101e4b2c",
   "metadata": {},
   "source": [
    "Printing the first 5 rows of the DataFrame, checking if the non-numerical characters are gone in the rest of the columns"
   ]
  },
  {
   "cell_type": "code",
   "execution_count": 17,
   "id": "2c07a1f4",
   "metadata": {},
   "outputs": [
    {
     "name": "stdout",
     "output_type": "stream",
     "text": [
      "        Date     Open*      High       Low   Close**       Volume  \\\n",
      "0 2023-02-28  23521.84  23585.38  23077.65  23147.35  20535363434   \n",
      "1 2023-02-27  23561.45  23857.89  23205.88  23522.87  22660763494   \n",
      "2 2023-02-26  23174.15  23654.37  23084.22  23561.21  16644534842   \n",
      "3 2023-02-25  23200.13  23210.21  22861.56  23175.38  16100721565   \n",
      "4 2023-02-24  23946.01  24103.70  23007.07  23198.13  26811744928   \n",
      "\n",
      "     Market Cap  \n",
      "0  446846764116  \n",
      "1  454075216420  \n",
      "2  454795165823  \n",
      "3  447323985683  \n",
      "4  447747058644  \n"
     ]
    }
   ],
   "source": [
    "print(bitcoin.head())"
   ]
  },
  {
   "cell_type": "markdown",
   "id": "09f231cf",
   "metadata": {},
   "source": [
    "# Change the dtype from object to float64"
   ]
  },
  {
   "cell_type": "code",
   "execution_count": 18,
   "id": "b0a5c2a0",
   "metadata": {},
   "outputs": [],
   "source": [
    "bitcoin[['Open*', 'High','Low','Close**','Volume','Market Cap']] = bitcoin[['Open*', 'High','Low','Close**','Volume','Market Cap']].astype(float)"
   ]
  },
  {
   "cell_type": "markdown",
   "id": "0bf15c19",
   "metadata": {},
   "source": [
    "Inspect the data .info() and see if the dtypes changed in all the columns."
   ]
  },
  {
   "cell_type": "code",
   "execution_count": 19,
   "id": "b120d09f",
   "metadata": {},
   "outputs": [
    {
     "name": "stdout",
     "output_type": "stream",
     "text": [
      "<class 'pandas.core.frame.DataFrame'>\n",
      "RangeIndex: 3594 entries, 0 to 3593\n",
      "Data columns (total 7 columns):\n",
      " #   Column      Non-Null Count  Dtype         \n",
      "---  ------      --------------  -----         \n",
      " 0   Date        3594 non-null   datetime64[ns]\n",
      " 1   Open*       3594 non-null   float64       \n",
      " 2   High        3594 non-null   float64       \n",
      " 3   Low         3594 non-null   float64       \n",
      " 4   Close**     3594 non-null   float64       \n",
      " 5   Volume      3594 non-null   float64       \n",
      " 6   Market Cap  3594 non-null   float64       \n",
      "dtypes: datetime64[ns](1), float64(6)\n",
      "memory usage: 196.7 KB\n"
     ]
    }
   ],
   "source": [
    "bitcoin.info()"
   ]
  },
  {
   "cell_type": "markdown",
   "id": "44c3e6f3",
   "metadata": {},
   "source": [
    "As we can see the dtypes of the 6 columns changed to float64 and we have one column with datetime64 that represents the Dates.\n",
    "\n",
    "This change will help if we want to use the data and we want to compare different numbers to analize the prices sensibility."
   ]
  },
  {
   "cell_type": "markdown",
   "id": "089a8f0d",
   "metadata": {},
   "source": [
    "# Drop duplicates Dates in the DataFrame.\n",
    "\n",
    "We use the duplicated() method with the subset parameter set to 'Date' to check for duplicates in that column. The duplicated() method returns a boolean series where True indicates that the row is a duplicated and False indicates that it is not."
   ]
  },
  {
   "cell_type": "code",
   "execution_count": 20,
   "id": "02a8d7f2",
   "metadata": {
    "scrolled": true
   },
   "outputs": [
    {
     "name": "stdout",
     "output_type": "stream",
     "text": [
      "There are no duplicated Dates.\n"
     ]
    }
   ],
   "source": [
    "# check for duplicates\n",
    "duplicates = bitcoin.duplicated(subset=['Date'])\n",
    "\n",
    "# get only the duplicated rows\n",
    "duplicated_rows = bitcoin[duplicates]\n",
    "\n",
    "# print out the duplicated row using the 'empty' attribute\n",
    "if duplicated_rows.empty:\n",
    "    print(\"There are no duplicated Dates.\")\n",
    "else:\n",
    "    print(duplicated_rows)"
   ]
  },
  {
   "cell_type": "markdown",
   "id": "c37ba2df",
   "metadata": {},
   "source": [
    "We use boolean indexing to get only the rows where duplicates is True. This gives us a new dataframe called duplicated_rows that contains only the rows with duplicate Date values."
   ]
  },
  {
   "cell_type": "markdown",
   "id": "20e058e6",
   "metadata": {},
   "source": [
    "# Indexing the column 'Date'"
   ]
  },
  {
   "cell_type": "code",
   "execution_count": 21,
   "id": "6245f70b",
   "metadata": {},
   "outputs": [],
   "source": [
    "bitcoin.set_index('Date', inplace=True)"
   ]
  },
  {
   "cell_type": "markdown",
   "id": "5cc03dd1",
   "metadata": {},
   "source": [
    "Use the set_index() method to set the 'Date' column as the index of the DataFrame.\n",
    "\n",
    "Use the inplace=True parameter to modify the DataFrame in place, no creating a new one."
   ]
  },
  {
   "cell_type": "code",
   "execution_count": 22,
   "id": "4d05a273",
   "metadata": {},
   "outputs": [
    {
     "name": "stdout",
     "output_type": "stream",
     "text": [
      "               Open*      High       Low   Close**        Volume    Market Cap\n",
      "Date                                                                          \n",
      "2023-02-28  23521.84  23585.38  23077.65  23147.35  2.053536e+10  4.468468e+11\n",
      "2023-02-27  23561.45  23857.89  23205.88  23522.87  2.266076e+10  4.540752e+11\n",
      "2023-02-26  23174.15  23654.37  23084.22  23561.21  1.664453e+10  4.547952e+11\n",
      "2023-02-25  23200.13  23210.21  22861.56  23175.38  1.610072e+10  4.473240e+11\n",
      "2023-02-24  23946.01  24103.70  23007.07  23198.13  2.681174e+10  4.477471e+11\n"
     ]
    }
   ],
   "source": [
    "print(bitcoin.head())"
   ]
  },
  {
   "cell_type": "code",
   "execution_count": 23,
   "id": "7c6c8a59",
   "metadata": {},
   "outputs": [
    {
     "name": "stdout",
     "output_type": "stream",
     "text": [
      "<class 'pandas.core.frame.DataFrame'>\n",
      "DatetimeIndex: 3594 entries, 2023-02-28 to 2013-04-28\n",
      "Data columns (total 6 columns):\n",
      " #   Column      Non-Null Count  Dtype  \n",
      "---  ------      --------------  -----  \n",
      " 0   Open*       3594 non-null   float64\n",
      " 1   High        3594 non-null   float64\n",
      " 2   Low         3594 non-null   float64\n",
      " 3   Close**     3594 non-null   float64\n",
      " 4   Volume      3594 non-null   float64\n",
      " 5   Market Cap  3594 non-null   float64\n",
      "dtypes: float64(6)\n",
      "memory usage: 196.5 KB\n"
     ]
    }
   ],
   "source": [
    "bitcoin.info()"
   ]
  },
  {
   "cell_type": "markdown",
   "id": "77b34056",
   "metadata": {},
   "source": [
    "The DataFrame has a DatetimeIndex with 3594 entries, contain one row for each day of trading days. \n",
    "Starting on 28/02/2023 until 28/04/2013.\n",
    "\n",
    "There are 6 columns, the first 4 columns summarize the price distribution for the days, the first price, highest price, the lowest price, the last price and the last 2 columns represent the Volume and the Market Cap. "
   ]
  },
  {
   "cell_type": "markdown",
   "id": "2bb04154",
   "metadata": {},
   "source": [
    "# Sorting by Date"
   ]
  },
  {
   "cell_type": "code",
   "execution_count": 24,
   "id": "30f0ab5b",
   "metadata": {},
   "outputs": [],
   "source": [
    "bitcoin_df = bitcoin.sort_values(by=\"Date\", ascending=True)"
   ]
  },
  {
   "cell_type": "code",
   "execution_count": 25,
   "id": "6711f8be",
   "metadata": {},
   "outputs": [
    {
     "name": "stdout",
     "output_type": "stream",
     "text": [
      "             Open*    High     Low  Close**  Volume    Market Cap\n",
      "Date                                                             \n",
      "2013-04-28  135.30  135.98  132.10   134.21     0.0  1.488567e+09\n",
      "2013-04-29  134.44  147.49  134.00   144.54     0.0  1.603769e+09\n",
      "2013-04-30  144.00  146.93  134.05   139.00     0.0  1.542813e+09\n",
      "2013-05-01  139.00  139.89  107.72   116.99     0.0  1.298955e+09\n",
      "2013-05-02  116.38  125.60   92.28   105.21     0.0  1.168517e+09\n"
     ]
    }
   ],
   "source": [
    "print(bitcoin_df.head())"
   ]
  },
  {
   "cell_type": "markdown",
   "id": "dcf1adc6",
   "metadata": {},
   "source": [
    "The sort_values( ) function is used to sort by the values along either axis. In this case we use 2 parameters, by= that indicate the column reference, that we want to sort the data and ascending=True allow to get the sorting in ascending order.\n",
    "\n",
    "We have cleaned and ready our DataFrame(bitcoin) for start the analysis."
   ]
  },
  {
   "cell_type": "markdown",
   "id": "ed593a26",
   "metadata": {},
   "source": [
    "# Importing data from CSV for Ethereum"
   ]
  },
  {
   "cell_type": "code",
   "execution_count": 26,
   "id": "e31574b1",
   "metadata": {},
   "outputs": [],
   "source": [
    "Ethereum = pd.read_csv('./Documents/UCD python for finance/project/data/Ethereum - Ethereum.csv', na_values='n/a', parse_dates =['Date'])"
   ]
  },
  {
   "cell_type": "markdown",
   "id": "6d66ce6c",
   "metadata": {},
   "source": [
    "We will use the parameters 'na_values' for missing values and parse_dates to change the column 'Date', Dtype from object to datetime64.   "
   ]
  },
  {
   "cell_type": "code",
   "execution_count": 27,
   "id": "9925b8f2",
   "metadata": {
    "scrolled": true
   },
   "outputs": [
    {
     "name": "stdout",
     "output_type": "stream",
     "text": [
      "           Date      Open*       High        Low    Close**          Volume  \\\n",
      "0    2023-02-28  $1,634.50  $1,644.44  $1,602.43  $1,605.90  $6,323,676,957   \n",
      "1    2023-02-27  $1,640.76  $1,662.58  $1,615.39  $1,634.33  $7,239,824,677   \n",
      "2    2023-02-26  $1,594.76  $1,645.27  $1,590.39  $1,640.82  $5,727,967,432   \n",
      "3    2023-02-25  $1,608.66  $1,608.87  $1,567.63  $1,594.91  $5,657,686,235   \n",
      "4    2023-02-24  $1,650.90  $1,661.09  $1,583.15  $1,608.37  $8,909,129,423   \n",
      "...         ...        ...        ...        ...        ...             ...   \n",
      "2758 2015-08-11    $0.7081      $1.13    $0.6632      $1.07      $1,463,100   \n",
      "2759 2015-08-10     $0.714    $0.7299    $0.6365    $0.7084        $405,283   \n",
      "2760 2015-08-09    $0.7061    $0.8798    $0.6292    $0.7019        $532,170   \n",
      "2761 2015-08-08      $2.79      $2.80    $0.7147    $0.7533        $674,188   \n",
      "2762 2015-08-07      $2.83      $3.54      $2.52      $2.77        $164,329   \n",
      "\n",
      "            Market Cap  \n",
      "0     $196,519,595,896  \n",
      "1     $199,998,836,364  \n",
      "2     $200,793,139,093  \n",
      "3     $195,175,909,086  \n",
      "4     $196,822,841,716  \n",
      "...                ...  \n",
      "2758       $64,569,288  \n",
      "2759       $42,818,364  \n",
      "2760       $42,399,573  \n",
      "2761       $45,486,894  \n",
      "2762      $166,610,555  \n",
      "\n",
      "[2763 rows x 7 columns]\n"
     ]
    }
   ],
   "source": [
    "print(Ethereum)"
   ]
  },
  {
   "cell_type": "markdown",
   "id": "cc65c272",
   "metadata": {},
   "source": [
    "# Clean the data  "
   ]
  },
  {
   "cell_type": "markdown",
   "id": "faa5a4c8",
   "metadata": {},
   "source": [
    "## Display and Inspect the data"
   ]
  },
  {
   "cell_type": "code",
   "execution_count": 28,
   "id": "6ab83783",
   "metadata": {},
   "outputs": [
    {
     "name": "stdout",
     "output_type": "stream",
     "text": [
      "        Date      Open*       High        Low    Close**          Volume  \\\n",
      "0 2023-02-28  $1,634.50  $1,644.44  $1,602.43  $1,605.90  $6,323,676,957   \n",
      "1 2023-02-27  $1,640.76  $1,662.58  $1,615.39  $1,634.33  $7,239,824,677   \n",
      "2 2023-02-26  $1,594.76  $1,645.27  $1,590.39  $1,640.82  $5,727,967,432   \n",
      "3 2023-02-25  $1,608.66  $1,608.87  $1,567.63  $1,594.91  $5,657,686,235   \n",
      "4 2023-02-24  $1,650.90  $1,661.09  $1,583.15  $1,608.37  $8,909,129,423   \n",
      "\n",
      "         Market Cap  \n",
      "0  $196,519,595,896  \n",
      "1  $199,998,836,364  \n",
      "2  $200,793,139,093  \n",
      "3  $195,175,909,086  \n",
      "4  $196,822,841,716  \n"
     ]
    }
   ],
   "source": [
    "print(Ethereum.head())"
   ]
  },
  {
   "cell_type": "code",
   "execution_count": 29,
   "id": "291a0d3b",
   "metadata": {},
   "outputs": [
    {
     "name": "stdout",
     "output_type": "stream",
     "text": [
      "<class 'pandas.core.frame.DataFrame'>\n",
      "RangeIndex: 2763 entries, 0 to 2762\n",
      "Data columns (total 7 columns):\n",
      " #   Column      Non-Null Count  Dtype         \n",
      "---  ------      --------------  -----         \n",
      " 0   Date        2763 non-null   datetime64[ns]\n",
      " 1   Open*       2763 non-null   object        \n",
      " 2   High        2763 non-null   object        \n",
      " 3   Low         2763 non-null   object        \n",
      " 4   Close**     2763 non-null   object        \n",
      " 5   Volume      2763 non-null   object        \n",
      " 6   Market Cap  2763 non-null   object        \n",
      "dtypes: datetime64[ns](1), object(6)\n",
      "memory usage: 151.2+ KB\n"
     ]
    }
   ],
   "source": [
    "Ethereum.info()"
   ]
  },
  {
   "cell_type": "markdown",
   "id": "5fab38e1",
   "metadata": {},
   "source": [
    "As we can see we need to change the Dtype from object to float64 for the last 6 columns. We have 2763 entries(rows) and 7 columns. The columns names are Date, Open*, High, Low, Close**, Volume, Market Cap.\n",
    "\n",
    "### We don't have any missing values but we will check."
   ]
  },
  {
   "cell_type": "code",
   "execution_count": 55,
   "id": "11d66542",
   "metadata": {
    "scrolled": true
   },
   "outputs": [
    {
     "name": "stdout",
     "output_type": "stream",
     "text": [
      "The dataframe does not contain any missing values.\n"
     ]
    }
   ],
   "source": [
    "# Check for missing values\n",
    "if Ethereum.isnull().values.any():\n",
    "    print(\"The dataframe contains missing values.\")\n",
    "else:\n",
    "    print(\"The dataframe does not contain any missing values.\")"
   ]
  },
  {
   "cell_type": "markdown",
   "id": "2e8d55c2",
   "metadata": {},
   "source": [
    "# Removing the non-numeric characters from the colums"
   ]
  },
  {
   "cell_type": "code",
   "execution_count": 30,
   "id": "c8ccd928",
   "metadata": {},
   "outputs": [],
   "source": [
    "Ethereum['Open*'] = Ethereum['Open*'].str.replace('[^\\d\\.]', '', regex=True)\n",
    "Ethereum['High'] = Ethereum['High'].str.replace('[^\\d\\.]', '', regex=True)\n",
    "Ethereum['Low'] = Ethereum['Low'].str.replace('[^\\d\\.]', '', regex=True)\n",
    "Ethereum['Close**'] = Ethereum['Close**'].str.replace('[^\\d\\.]', '', regex=True)\n",
    "Ethereum['Volume'] = Ethereum['Volume'].str.replace('[^\\d\\.]', '', regex=True)\n",
    "Ethereum['Market Cap'] = Ethereum['Market Cap'].str.replace('[^\\d\\.]', '', regex=True)"
   ]
  },
  {
   "cell_type": "code",
   "execution_count": 31,
   "id": "ca7a990c",
   "metadata": {},
   "outputs": [
    {
     "name": "stdout",
     "output_type": "stream",
     "text": [
      "        Date    Open*     High      Low  Close**      Volume    Market Cap\n",
      "0 2023-02-28  1634.50  1644.44  1602.43  1605.90  6323676957  196519595896\n",
      "1 2023-02-27  1640.76  1662.58  1615.39  1634.33  7239824677  199998836364\n",
      "2 2023-02-26  1594.76  1645.27  1590.39  1640.82  5727967432  200793139093\n",
      "3 2023-02-25  1608.66  1608.87  1567.63  1594.91  5657686235  195175909086\n",
      "4 2023-02-24  1650.90  1661.09  1583.15  1608.37  8909129423  196822841716\n"
     ]
    }
   ],
   "source": [
    "print(Ethereum.head())"
   ]
  },
  {
   "cell_type": "markdown",
   "id": "4c8052d0",
   "metadata": {},
   "source": [
    "# Change the dtype from object to float64"
   ]
  },
  {
   "cell_type": "code",
   "execution_count": 32,
   "id": "28633952",
   "metadata": {},
   "outputs": [],
   "source": [
    "Ethereum[['Open*', 'High','Low','Close**','Volume','Market Cap']] = Ethereum[['Open*', 'High','Low','Close**','Volume','Market Cap']].astype(float)"
   ]
  },
  {
   "cell_type": "code",
   "execution_count": 33,
   "id": "7629edc7",
   "metadata": {},
   "outputs": [
    {
     "name": "stdout",
     "output_type": "stream",
     "text": [
      "<class 'pandas.core.frame.DataFrame'>\n",
      "RangeIndex: 2763 entries, 0 to 2762\n",
      "Data columns (total 7 columns):\n",
      " #   Column      Non-Null Count  Dtype         \n",
      "---  ------      --------------  -----         \n",
      " 0   Date        2763 non-null   datetime64[ns]\n",
      " 1   Open*       2763 non-null   float64       \n",
      " 2   High        2763 non-null   float64       \n",
      " 3   Low         2763 non-null   float64       \n",
      " 4   Close**     2763 non-null   float64       \n",
      " 5   Volume      2763 non-null   float64       \n",
      " 6   Market Cap  2763 non-null   float64       \n",
      "dtypes: datetime64[ns](1), float64(6)\n",
      "memory usage: 151.2 KB\n"
     ]
    }
   ],
   "source": [
    "Ethereum.info()"
   ]
  },
  {
   "cell_type": "markdown",
   "id": "0a986517",
   "metadata": {},
   "source": [
    "We changed the Dtype to float64."
   ]
  },
  {
   "cell_type": "markdown",
   "id": "00f42427",
   "metadata": {},
   "source": [
    "# Drop duplicates Dates in the DataFrame."
   ]
  },
  {
   "cell_type": "code",
   "execution_count": 34,
   "id": "b86d44aa",
   "metadata": {},
   "outputs": [
    {
     "name": "stdout",
     "output_type": "stream",
     "text": [
      "There are no duplicated Dates.\n"
     ]
    }
   ],
   "source": [
    "# check for duplicates\n",
    "duplicates = Ethereum.duplicated(subset=['Date'])\n",
    "\n",
    "# get only the duplicated rows\n",
    "duplicated_rows = Ethereum[duplicates]\n",
    "\n",
    "# print out the duplicated row using the 'empty' attribute\n",
    "if duplicated_rows.empty:\n",
    "    print(\"There are no duplicated Dates.\")\n",
    "else:\n",
    "    print(duplicated_rows)"
   ]
  },
  {
   "cell_type": "markdown",
   "id": "428b6a03",
   "metadata": {},
   "source": [
    "# Indexing the column 'Date'"
   ]
  },
  {
   "cell_type": "code",
   "execution_count": 35,
   "id": "d05b70a8",
   "metadata": {},
   "outputs": [],
   "source": [
    "Ethereum.set_index('Date', inplace=True)"
   ]
  },
  {
   "cell_type": "code",
   "execution_count": 36,
   "id": "7cd31b3e",
   "metadata": {},
   "outputs": [
    {
     "name": "stdout",
     "output_type": "stream",
     "text": [
      "              Open*     High      Low  Close**        Volume    Market Cap\n",
      "Date                                                                      \n",
      "2023-02-28  1634.50  1644.44  1602.43  1605.90  6.323677e+09  1.965196e+11\n",
      "2023-02-27  1640.76  1662.58  1615.39  1634.33  7.239825e+09  1.999988e+11\n",
      "2023-02-26  1594.76  1645.27  1590.39  1640.82  5.727967e+09  2.007931e+11\n",
      "2023-02-25  1608.66  1608.87  1567.63  1594.91  5.657686e+09  1.951759e+11\n",
      "2023-02-24  1650.90  1661.09  1583.15  1608.37  8.909129e+09  1.968228e+11\n"
     ]
    }
   ],
   "source": [
    "print(Ethereum.head())"
   ]
  },
  {
   "cell_type": "code",
   "execution_count": 37,
   "id": "0833dbbb",
   "metadata": {},
   "outputs": [
    {
     "name": "stdout",
     "output_type": "stream",
     "text": [
      "<class 'pandas.core.frame.DataFrame'>\n",
      "DatetimeIndex: 2763 entries, 2023-02-28 to 2015-08-07\n",
      "Data columns (total 6 columns):\n",
      " #   Column      Non-Null Count  Dtype  \n",
      "---  ------      --------------  -----  \n",
      " 0   Open*       2763 non-null   float64\n",
      " 1   High        2763 non-null   float64\n",
      " 2   Low         2763 non-null   float64\n",
      " 3   Close**     2763 non-null   float64\n",
      " 4   Volume      2763 non-null   float64\n",
      " 5   Market Cap  2763 non-null   float64\n",
      "dtypes: float64(6)\n",
      "memory usage: 151.1 KB\n"
     ]
    }
   ],
   "source": [
    "Ethereum.info()"
   ]
  },
  {
   "cell_type": "markdown",
   "id": "d50f9fe2",
   "metadata": {},
   "source": [
    "The Datetime Index = have 2763 entries(rows), the Dates are 28/02/2023 until 07/08/2015."
   ]
  },
  {
   "cell_type": "markdown",
   "id": "5edfb2fa",
   "metadata": {},
   "source": [
    "# Sorting by Date"
   ]
  },
  {
   "cell_type": "code",
   "execution_count": 42,
   "id": "555eeb02",
   "metadata": {},
   "outputs": [],
   "source": [
    "Ethereum_df = Ethereum.sort_values(by=\"Date\", ascending=True)"
   ]
  },
  {
   "cell_type": "code",
   "execution_count": 44,
   "id": "30675f20",
   "metadata": {},
   "outputs": [
    {
     "name": "stdout",
     "output_type": "stream",
     "text": [
      "             Open*    High     Low  Close**     Volume   Market Cap\n",
      "Date                                                               \n",
      "2015-08-07  2.8300  3.5400  2.5200   2.7700   164329.0  166610555.0\n",
      "2015-08-08  2.7900  2.8000  0.7147   0.7533   674188.0   45486894.0\n",
      "2015-08-09  0.7061  0.8798  0.6292   0.7019   532170.0   42399573.0\n",
      "2015-08-10  0.7140  0.7299  0.6365   0.7084   405283.0   42818364.0\n",
      "2015-08-11  0.7081  1.1300  0.6632   1.0700  1463100.0   64569288.0\n"
     ]
    }
   ],
   "source": [
    "print(Ethereum_df.head())"
   ]
  },
  {
   "cell_type": "markdown",
   "id": "ad61cb74",
   "metadata": {},
   "source": [
    "We have cleaned and ready our DataFrame(Ethereum) for start the analysis."
   ]
  },
  {
   "cell_type": "markdown",
   "id": "72bd5980",
   "metadata": {},
   "source": [
    "# Importing data from CSV for BNB (Binance Coin)"
   ]
  },
  {
   "cell_type": "markdown",
   "id": "6fea15f3",
   "metadata": {},
   "source": [
    "Using the function read_csv() to import the data with 2 parameters, na_values for missing values and parse_dates to change the Dtype of the dates to datetime64."
   ]
  },
  {
   "cell_type": "code",
   "execution_count": 46,
   "id": "db663c15",
   "metadata": {},
   "outputs": [],
   "source": [
    "BNB = pd.read_csv('./Documents/UCD python for finance/project/data/BNB - BNB.csv', na_values='n/a', parse_dates =['Date'])"
   ]
  },
  {
   "cell_type": "code",
   "execution_count": 47,
   "id": "7a21b2c6",
   "metadata": {},
   "outputs": [
    {
     "name": "stdout",
     "output_type": "stream",
     "text": [
      "           Date    Open*     High       Low  Close**        Volume  \\\n",
      "0    2023-02-28  $304.85  $305.63   $300.57  $301.47  $337,673,265   \n",
      "1    2023-02-27  $308.99  $309.33   $300.94  $304.86  $404,806,423   \n",
      "2    2023-02-26  $302.37  $309.59   $300.97  $309.00  $312,320,211   \n",
      "3    2023-02-25  $302.10  $303.03   $297.22  $302.38  $310,503,640   \n",
      "4    2023-02-24  $308.46  $311.80   $300.06  $302.05  $479,926,281   \n",
      "...         ...      ...      ...       ...      ...           ...   \n",
      "2040 2017-07-29  $0.1048  $0.1113   $0.1011  $0.1078      $340,218   \n",
      "2041 2017-07-28  $0.1076   $0.109   $0.1015  $0.1041      $342,568   \n",
      "2042 2017-07-27  $0.1051  $0.1085   $0.1009  $0.1077      $344,499   \n",
      "2043 2017-07-26  $0.1059   $0.109  $0.09927  $0.1051      $200,395   \n",
      "2044 2017-07-25  $0.1152  $0.1158   $0.1015  $0.1059      $145,269   \n",
      "\n",
      "           Market Cap  \n",
      "0     $47,601,444,433  \n",
      "1     $48,135,374,451  \n",
      "2     $48,789,334,459  \n",
      "3     $47,745,317,304  \n",
      "4     $47,693,139,026  \n",
      "...               ...  \n",
      "2040      $10,781,100  \n",
      "2041      $10,406,700  \n",
      "2042      $10,773,700  \n",
      "2043      $10,513,800  \n",
      "2044      $10,587,000  \n",
      "\n",
      "[2045 rows x 7 columns]\n"
     ]
    }
   ],
   "source": [
    "print(BNB)"
   ]
  },
  {
   "cell_type": "markdown",
   "id": "4cfdd6e8",
   "metadata": {},
   "source": [
    "# Clean the data. Display and Inspect"
   ]
  },
  {
   "cell_type": "code",
   "execution_count": 49,
   "id": "889bca9f",
   "metadata": {},
   "outputs": [
    {
     "name": "stdout",
     "output_type": "stream",
     "text": [
      "        Date    Open*     High      Low  Close**        Volume  \\\n",
      "0 2023-02-28  $304.85  $305.63  $300.57  $301.47  $337,673,265   \n",
      "1 2023-02-27  $308.99  $309.33  $300.94  $304.86  $404,806,423   \n",
      "2 2023-02-26  $302.37  $309.59  $300.97  $309.00  $312,320,211   \n",
      "3 2023-02-25  $302.10  $303.03  $297.22  $302.38  $310,503,640   \n",
      "4 2023-02-24  $308.46  $311.80  $300.06  $302.05  $479,926,281   \n",
      "\n",
      "        Market Cap  \n",
      "0  $47,601,444,433  \n",
      "1  $48,135,374,451  \n",
      "2  $48,789,334,459  \n",
      "3  $47,745,317,304  \n",
      "4  $47,693,139,026  \n"
     ]
    }
   ],
   "source": [
    "print(BNB.head())"
   ]
  },
  {
   "cell_type": "markdown",
   "id": "b1f71a3b",
   "metadata": {},
   "source": [
    "The method info() prints information about the DataFrame, the index dtype and columns, non-null values and memory usage."
   ]
  },
  {
   "cell_type": "code",
   "execution_count": 50,
   "id": "29eaf1f6",
   "metadata": {
    "scrolled": false
   },
   "outputs": [
    {
     "name": "stdout",
     "output_type": "stream",
     "text": [
      "<class 'pandas.core.frame.DataFrame'>\n",
      "RangeIndex: 2045 entries, 0 to 2044\n",
      "Data columns (total 7 columns):\n",
      " #   Column      Non-Null Count  Dtype         \n",
      "---  ------      --------------  -----         \n",
      " 0   Date        2045 non-null   datetime64[ns]\n",
      " 1   Open*       2045 non-null   object        \n",
      " 2   High        2045 non-null   object        \n",
      " 3   Low         2045 non-null   object        \n",
      " 4   Close**     2045 non-null   object        \n",
      " 5   Volume      2045 non-null   object        \n",
      " 6   Market Cap  2045 non-null   object        \n",
      "dtypes: datetime64[ns](1), object(6)\n",
      "memory usage: 112.0+ KB\n"
     ]
    }
   ],
   "source": [
    "BNB.info()"
   ]
  },
  {
   "cell_type": "markdown",
   "id": "ad1f149c",
   "metadata": {},
   "source": [
    "We have 2045 entries and 7 columns with the Date with the correct Dtype(datetime64) and we need to change the rest of the columns Data types for to manipulate the data."
   ]
  },
  {
   "cell_type": "markdown",
   "id": "9a28c20a",
   "metadata": {},
   "source": [
    "### The DataFrame don't have any missing values, but we will check."
   ]
  },
  {
   "cell_type": "code",
   "execution_count": 53,
   "id": "b781ff93",
   "metadata": {},
   "outputs": [
    {
     "name": "stdout",
     "output_type": "stream",
     "text": [
      "The dataframe does not contain any missing values.\n"
     ]
    }
   ],
   "source": [
    "# Check for missing values\n",
    "if BNB.isnull().values.any():\n",
    "    print(\"The dataframe contains missing values.\")\n",
    "else:\n",
    "    print(\"The dataframe does not contain any missing values.\")"
   ]
  },
  {
   "cell_type": "markdown",
   "id": "6f6a955a",
   "metadata": {},
   "source": [
    "# Removing the non-numeric characters from the colums"
   ]
  },
  {
   "cell_type": "code",
   "execution_count": 56,
   "id": "eb6eedbd",
   "metadata": {},
   "outputs": [],
   "source": [
    "BNB['Open*'] = BNB['Open*'].str.replace('[^\\d\\.]', '', regex=True)\n",
    "BNB['High'] = BNB['High'].str.replace('[^\\d\\.]', '', regex=True)\n",
    "BNB['Low'] = BNB['Low'].str.replace('[^\\d\\.]', '', regex=True)\n",
    "BNB['Close**'] = BNB['Close**'].str.replace('[^\\d\\.]', '', regex=True)\n",
    "BNB['Volume'] = BNB['Volume'].str.replace('[^\\d\\.]', '', regex=True)\n",
    "BNB['Market Cap'] = BNB['Market Cap'].str.replace('[^\\d\\.]', '', regex=True)"
   ]
  },
  {
   "cell_type": "code",
   "execution_count": 57,
   "id": "0b46e140",
   "metadata": {},
   "outputs": [
    {
     "name": "stdout",
     "output_type": "stream",
     "text": [
      "        Date   Open*    High     Low Close**     Volume   Market Cap\n",
      "0 2023-02-28  304.85  305.63  300.57  301.47  337673265  47601444433\n",
      "1 2023-02-27  308.99  309.33  300.94  304.86  404806423  48135374451\n",
      "2 2023-02-26  302.37  309.59  300.97  309.00  312320211  48789334459\n",
      "3 2023-02-25  302.10  303.03  297.22  302.38  310503640  47745317304\n",
      "4 2023-02-24  308.46  311.80  300.06  302.05  479926281  47693139026\n"
     ]
    }
   ],
   "source": [
    "print(BNB.head())"
   ]
  },
  {
   "cell_type": "markdown",
   "id": "2dedd339",
   "metadata": {},
   "source": [
    "# Change the dtype from object to float64"
   ]
  },
  {
   "cell_type": "code",
   "execution_count": 58,
   "id": "46e75fa5",
   "metadata": {},
   "outputs": [],
   "source": [
    "BNB[['Open*', 'High','Low','Close**','Volume','Market Cap']] = BNB[['Open*', 'High','Low','Close**','Volume','Market Cap']].astype(float)"
   ]
  },
  {
   "cell_type": "code",
   "execution_count": 59,
   "id": "ebb14bf1",
   "metadata": {},
   "outputs": [
    {
     "name": "stdout",
     "output_type": "stream",
     "text": [
      "<class 'pandas.core.frame.DataFrame'>\n",
      "RangeIndex: 2045 entries, 0 to 2044\n",
      "Data columns (total 7 columns):\n",
      " #   Column      Non-Null Count  Dtype         \n",
      "---  ------      --------------  -----         \n",
      " 0   Date        2045 non-null   datetime64[ns]\n",
      " 1   Open*       2045 non-null   float64       \n",
      " 2   High        2045 non-null   float64       \n",
      " 3   Low         2045 non-null   float64       \n",
      " 4   Close**     2045 non-null   float64       \n",
      " 5   Volume      2045 non-null   float64       \n",
      " 6   Market Cap  2045 non-null   float64       \n",
      "dtypes: datetime64[ns](1), float64(6)\n",
      "memory usage: 112.0 KB\n"
     ]
    }
   ],
   "source": [
    "BNB.info()"
   ]
  },
  {
   "cell_type": "markdown",
   "id": "8320678f",
   "metadata": {},
   "source": [
    "As we can see, all the Dtypes are correct now, 1 datetime64 and 6 float64."
   ]
  },
  {
   "cell_type": "markdown",
   "id": "108efa6f",
   "metadata": {},
   "source": [
    "# Drop duplicates Dates in the DataFrame."
   ]
  },
  {
   "cell_type": "code",
   "execution_count": 60,
   "id": "b67d73a1",
   "metadata": {},
   "outputs": [
    {
     "name": "stdout",
     "output_type": "stream",
     "text": [
      "There are no duplicated Dates.\n"
     ]
    }
   ],
   "source": [
    "# check for duplicates\n",
    "duplicates = BNB.duplicated(subset=['Date'])\n",
    "\n",
    "# get only the duplicated rows\n",
    "duplicated_rows = BNB[duplicates]\n",
    "\n",
    "# print out the duplicated row using the 'empty' attribute\n",
    "if duplicated_rows.empty:\n",
    "    print(\"There are no duplicated Dates.\")\n",
    "else:\n",
    "    print(duplicated_rows)"
   ]
  },
  {
   "cell_type": "markdown",
   "id": "2b4e9af0",
   "metadata": {},
   "source": [
    "# Indexing the column 'Date'"
   ]
  },
  {
   "cell_type": "code",
   "execution_count": 61,
   "id": "dc4725b0",
   "metadata": {},
   "outputs": [],
   "source": [
    "BNB.set_index('Date', inplace=True)"
   ]
  },
  {
   "cell_type": "code",
   "execution_count": 62,
   "id": "0e9ba379",
   "metadata": {},
   "outputs": [
    {
     "name": "stdout",
     "output_type": "stream",
     "text": [
      "             Open*    High     Low  Close**       Volume    Market Cap\n",
      "Date                                                                  \n",
      "2023-02-28  304.85  305.63  300.57   301.47  337673265.0  4.760144e+10\n",
      "2023-02-27  308.99  309.33  300.94   304.86  404806423.0  4.813537e+10\n",
      "2023-02-26  302.37  309.59  300.97   309.00  312320211.0  4.878933e+10\n",
      "2023-02-25  302.10  303.03  297.22   302.38  310503640.0  4.774532e+10\n",
      "2023-02-24  308.46  311.80  300.06   302.05  479926281.0  4.769314e+10\n"
     ]
    }
   ],
   "source": [
    "print(BNB.head())"
   ]
  },
  {
   "cell_type": "code",
   "execution_count": 63,
   "id": "5f073533",
   "metadata": {},
   "outputs": [
    {
     "name": "stdout",
     "output_type": "stream",
     "text": [
      "<class 'pandas.core.frame.DataFrame'>\n",
      "DatetimeIndex: 2045 entries, 2023-02-28 to 2017-07-25\n",
      "Data columns (total 6 columns):\n",
      " #   Column      Non-Null Count  Dtype  \n",
      "---  ------      --------------  -----  \n",
      " 0   Open*       2045 non-null   float64\n",
      " 1   High        2045 non-null   float64\n",
      " 2   Low         2045 non-null   float64\n",
      " 3   Close**     2045 non-null   float64\n",
      " 4   Volume      2045 non-null   float64\n",
      " 5   Market Cap  2045 non-null   float64\n",
      "dtypes: float64(6)\n",
      "memory usage: 111.8 KB\n"
     ]
    }
   ],
   "source": [
    "BNB.info()"
   ]
  },
  {
   "cell_type": "markdown",
   "id": "24394a8c",
   "metadata": {},
   "source": [
    "The Datetime Index = have 2045 entries(rows), the Dates are 28/02/2023 until 25/07/2017."
   ]
  },
  {
   "cell_type": "markdown",
   "id": "13dd2ed8",
   "metadata": {},
   "source": [
    "# Sorting by Date"
   ]
  },
  {
   "cell_type": "code",
   "execution_count": 65,
   "id": "bc99a4bc",
   "metadata": {},
   "outputs": [],
   "source": [
    "BNB_df = BNB.sort_values(by=\"Date\", ascending=True)"
   ]
  },
  {
   "cell_type": "code",
   "execution_count": 66,
   "id": "b622cdcb",
   "metadata": {},
   "outputs": [
    {
     "name": "stdout",
     "output_type": "stream",
     "text": [
      "             Open*    High      Low  Close**    Volume  Market Cap\n",
      "Date                                                              \n",
      "2017-07-25  0.1152  0.1158  0.10150   0.1059  145269.0  10587000.0\n",
      "2017-07-26  0.1059  0.1090  0.09927   0.1051  200395.0  10513800.0\n",
      "2017-07-27  0.1051  0.1085  0.10090   0.1077  344499.0  10773700.0\n",
      "2017-07-28  0.1076  0.1090  0.10150   0.1041  342568.0  10406700.0\n",
      "2017-07-29  0.1048  0.1113  0.10110   0.1078  340218.0  10781100.0\n"
     ]
    }
   ],
   "source": [
    "print(BNB_df.head())"
   ]
  },
  {
   "cell_type": "markdown",
   "id": "09977e1b",
   "metadata": {},
   "source": [
    "We have cleaned and ready our DataFrame(BNB) for start the analysis."
   ]
  },
  {
   "cell_type": "markdown",
   "id": "f6670b2e",
   "metadata": {},
   "source": [
    "# Importing data from CSV for Dogecoin"
   ]
  },
  {
   "cell_type": "markdown",
   "id": "ed6266a1",
   "metadata": {},
   "source": [
    "Using the function read_csv() to import the data with 2 parameters, na_values for missing values and parse_dates to change the Dtype of the dates to datetime64."
   ]
  },
  {
   "cell_type": "code",
   "execution_count": 69,
   "id": "788e6def",
   "metadata": {},
   "outputs": [],
   "source": [
    "Dogecoin = pd.read_csv('./Documents/UCD python for finance/project/data/Dogecoin - Dogecoin.csv', na_values='n/a', parse_dates =['Date'])"
   ]
  },
  {
   "cell_type": "code",
   "execution_count": 70,
   "id": "7e5f2932",
   "metadata": {},
   "outputs": [
    {
     "name": "stdout",
     "output_type": "stream",
     "text": [
      "           Date       Open*        High         Low     Close**        Volume  \\\n",
      "0    2023-02-28    $0.08136    $0.08274     $0.0802    $0.08075  $370,709,700   \n",
      "1    2023-02-27     $0.0822     $0.0822     $0.0802    $0.08135  $267,030,813   \n",
      "2    2023-02-26    $0.08078    $0.08247    $0.08058     $0.0822  $218,231,642   \n",
      "3    2023-02-25    $0.08091    $0.08178    $0.07906    $0.08079  $316,321,963   \n",
      "4    2023-02-24    $0.08429     $0.0849    $0.07989     $0.0809  $449,138,535   \n",
      "...         ...         ...         ...         ...         ...           ...   \n",
      "3341 2014-01-05  $0.0003005  $0.0003121  $0.0002466  $0.0002707      $245,107   \n",
      "3342 2014-01-04  $0.0003046  $0.0003205   $0.000256  $0.0003008      $313,907   \n",
      "3343 2014-01-03  $0.0003533  $0.0003763  $0.0002926  $0.0003029      $303,106   \n",
      "3344 2014-01-02  $0.0004486  $0.0004486  $0.0003306  $0.0003531      $318,037   \n",
      "3345 2014-01-01  $0.0004228  $0.0004509  $0.0004228  $0.0004397      $307,917   \n",
      "\n",
      "           Market Cap  \n",
      "0     $10,713,046,353  \n",
      "1     $10,793,363,610  \n",
      "2     $10,905,805,148  \n",
      "3     $10,717,881,956  \n",
      "4     $10,733,124,752  \n",
      "...               ...  \n",
      "3341       $5,883,644  \n",
      "3342       $6,323,972  \n",
      "3343       $6,162,990  \n",
      "3344       $6,935,467  \n",
      "3345       $8,335,005  \n",
      "\n",
      "[3346 rows x 7 columns]\n"
     ]
    }
   ],
   "source": [
    "print(Dogecoin)"
   ]
  },
  {
   "cell_type": "markdown",
   "id": "35093db6",
   "metadata": {},
   "source": [
    "# Clean the data. Display and Inspect"
   ]
  },
  {
   "cell_type": "code",
   "execution_count": 71,
   "id": "26aaa56c",
   "metadata": {},
   "outputs": [
    {
     "name": "stdout",
     "output_type": "stream",
     "text": [
      "        Date     Open*      High       Low   Close**        Volume  \\\n",
      "0 2023-02-28  $0.08136  $0.08274   $0.0802  $0.08075  $370,709,700   \n",
      "1 2023-02-27   $0.0822   $0.0822   $0.0802  $0.08135  $267,030,813   \n",
      "2 2023-02-26  $0.08078  $0.08247  $0.08058   $0.0822  $218,231,642   \n",
      "3 2023-02-25  $0.08091  $0.08178  $0.07906  $0.08079  $316,321,963   \n",
      "4 2023-02-24  $0.08429   $0.0849  $0.07989   $0.0809  $449,138,535   \n",
      "\n",
      "        Market Cap  \n",
      "0  $10,713,046,353  \n",
      "1  $10,793,363,610  \n",
      "2  $10,905,805,148  \n",
      "3  $10,717,881,956  \n",
      "4  $10,733,124,752  \n"
     ]
    }
   ],
   "source": [
    "print(Dogecoin.head())"
   ]
  },
  {
   "cell_type": "code",
   "execution_count": 73,
   "id": "9b748330",
   "metadata": {},
   "outputs": [
    {
     "name": "stdout",
     "output_type": "stream",
     "text": [
      "<class 'pandas.core.frame.DataFrame'>\n",
      "RangeIndex: 3346 entries, 0 to 3345\n",
      "Data columns (total 7 columns):\n",
      " #   Column      Non-Null Count  Dtype         \n",
      "---  ------      --------------  -----         \n",
      " 0   Date        3346 non-null   datetime64[ns]\n",
      " 1   Open*       3346 non-null   object        \n",
      " 2   High        3346 non-null   object        \n",
      " 3   Low         3346 non-null   object        \n",
      " 4   Close**     3346 non-null   object        \n",
      " 5   Volume      3346 non-null   object        \n",
      " 6   Market Cap  3346 non-null   object        \n",
      "dtypes: datetime64[ns](1), object(6)\n",
      "memory usage: 183.1+ KB\n"
     ]
    }
   ],
   "source": [
    "Dogecoin.info()"
   ]
  },
  {
   "cell_type": "markdown",
   "id": "021a76a1",
   "metadata": {},
   "source": [
    "We have 3346 entries and 7 columns. The Date with the correct Dtype(datetime64) and we need to change the rest of the columns Data types."
   ]
  },
  {
   "cell_type": "markdown",
   "id": "992007b6",
   "metadata": {},
   "source": [
    "### With the info() we can see that the DataFrame don't have any missing values, but we will check."
   ]
  },
  {
   "cell_type": "code",
   "execution_count": 75,
   "id": "5dd5bef7",
   "metadata": {},
   "outputs": [
    {
     "name": "stdout",
     "output_type": "stream",
     "text": [
      "The dataframe does not contain any missing values.\n"
     ]
    }
   ],
   "source": [
    "# Check for missing values\n",
    "if Dogecoin.isnull().values.any():\n",
    "    print(\"The dataframe contains missing values.\")\n",
    "else:\n",
    "    print(\"The dataframe does not contain any missing values.\")"
   ]
  },
  {
   "cell_type": "markdown",
   "id": "65a18050",
   "metadata": {},
   "source": [
    "# Removing the non-numeric characters from the colums"
   ]
  },
  {
   "cell_type": "code",
   "execution_count": 76,
   "id": "4db42d2d",
   "metadata": {},
   "outputs": [],
   "source": [
    "Dogecoin['Open*'] = Dogecoin['Open*'].str.replace('[^\\d\\.]', '', regex=True)\n",
    "Dogecoin['High'] = Dogecoin['High'].str.replace('[^\\d\\.]', '', regex=True)\n",
    "Dogecoin['Low'] = Dogecoin['Low'].str.replace('[^\\d\\.]', '', regex=True)\n",
    "Dogecoin['Close**'] = Dogecoin['Close**'].str.replace('[^\\d\\.]', '', regex=True)\n",
    "Dogecoin['Volume'] = Dogecoin['Volume'].str.replace('[^\\d\\.]', '', regex=True)\n",
    "Dogecoin['Market Cap'] = Dogecoin['Market Cap'].str.replace('[^\\d\\.]', '', regex=True)"
   ]
  },
  {
   "cell_type": "code",
   "execution_count": 77,
   "id": "b8bbfe5d",
   "metadata": {},
   "outputs": [
    {
     "name": "stdout",
     "output_type": "stream",
     "text": [
      "        Date    Open*     High      Low  Close**     Volume   Market Cap\n",
      "0 2023-02-28  0.08136  0.08274   0.0802  0.08075  370709700  10713046353\n",
      "1 2023-02-27   0.0822   0.0822   0.0802  0.08135  267030813  10793363610\n",
      "2 2023-02-26  0.08078  0.08247  0.08058   0.0822  218231642  10905805148\n",
      "3 2023-02-25  0.08091  0.08178  0.07906  0.08079  316321963  10717881956\n",
      "4 2023-02-24  0.08429   0.0849  0.07989   0.0809  449138535  10733124752\n"
     ]
    }
   ],
   "source": [
    "print(Dogecoin.head())"
   ]
  },
  {
   "cell_type": "markdown",
   "id": "ce7468b1",
   "metadata": {},
   "source": [
    "We removed the non-numeric characters then we can change the Dtype."
   ]
  },
  {
   "cell_type": "markdown",
   "id": "fe4f9dfd",
   "metadata": {},
   "source": [
    "# Change the dtype from object to float64"
   ]
  },
  {
   "cell_type": "code",
   "execution_count": 78,
   "id": "e460d7d4",
   "metadata": {},
   "outputs": [],
   "source": [
    "Dogecoin[['Open*', 'High','Low','Close**','Volume','Market Cap']] = Dogecoin[['Open*', 'High','Low','Close**','Volume','Market Cap']].astype(float)"
   ]
  },
  {
   "cell_type": "code",
   "execution_count": 79,
   "id": "1fe9545b",
   "metadata": {},
   "outputs": [
    {
     "name": "stdout",
     "output_type": "stream",
     "text": [
      "<class 'pandas.core.frame.DataFrame'>\n",
      "RangeIndex: 3346 entries, 0 to 3345\n",
      "Data columns (total 7 columns):\n",
      " #   Column      Non-Null Count  Dtype         \n",
      "---  ------      --------------  -----         \n",
      " 0   Date        3346 non-null   datetime64[ns]\n",
      " 1   Open*       3346 non-null   float64       \n",
      " 2   High        3346 non-null   float64       \n",
      " 3   Low         3346 non-null   float64       \n",
      " 4   Close**     3346 non-null   float64       \n",
      " 5   Volume      3346 non-null   float64       \n",
      " 6   Market Cap  3346 non-null   float64       \n",
      "dtypes: datetime64[ns](1), float64(6)\n",
      "memory usage: 183.1 KB\n"
     ]
    }
   ],
   "source": [
    "Dogecoin.info()"
   ]
  },
  {
   "cell_type": "markdown",
   "id": "d383a8c8",
   "metadata": {},
   "source": [
    "As we can see, all the Dtypes are correct now, 1 datetime64 and 6 float64."
   ]
  },
  {
   "cell_type": "markdown",
   "id": "7d8596be",
   "metadata": {},
   "source": [
    "# Drop duplicates Dates in the DataFrame."
   ]
  },
  {
   "cell_type": "code",
   "execution_count": 80,
   "id": "6149e2e1",
   "metadata": {},
   "outputs": [
    {
     "name": "stdout",
     "output_type": "stream",
     "text": [
      "There are no duplicated Dates.\n"
     ]
    }
   ],
   "source": [
    "# check for duplicates\n",
    "duplicates = Dogecoin.duplicated(subset=['Date'])\n",
    "\n",
    "# get only the duplicated rows\n",
    "duplicated_rows = Dogecoin[duplicates]\n",
    "\n",
    "# print out the duplicated row using the 'empty' attribute\n",
    "if duplicated_rows.empty:\n",
    "    print(\"There are no duplicated Dates.\")\n",
    "else:\n",
    "    print(duplicated_rows)"
   ]
  },
  {
   "cell_type": "markdown",
   "id": "cc356372",
   "metadata": {},
   "source": [
    "# Indexing the column 'Date'"
   ]
  },
  {
   "cell_type": "code",
   "execution_count": 81,
   "id": "6ac72019",
   "metadata": {},
   "outputs": [],
   "source": [
    "Dogecoin.set_index('Date', inplace=True)"
   ]
  },
  {
   "cell_type": "markdown",
   "id": "cb3e3cb0",
   "metadata": {},
   "source": [
    "Use the set_index() method to set the 'Date' column as the index of the DataFrame.\n",
    "Use the inplace=True parameter to modify the DataFrame in place, no creating a new one."
   ]
  },
  {
   "cell_type": "code",
   "execution_count": 83,
   "id": "715ec7a8",
   "metadata": {},
   "outputs": [
    {
     "name": "stdout",
     "output_type": "stream",
     "text": [
      "              Open*     High      Low  Close**       Volume    Market Cap\n",
      "Date                                                                     \n",
      "2023-02-28  0.08136  0.08274  0.08020  0.08075  370709700.0  1.071305e+10\n",
      "2023-02-27  0.08220  0.08220  0.08020  0.08135  267030813.0  1.079336e+10\n",
      "2023-02-26  0.08078  0.08247  0.08058  0.08220  218231642.0  1.090581e+10\n",
      "2023-02-25  0.08091  0.08178  0.07906  0.08079  316321963.0  1.071788e+10\n",
      "2023-02-24  0.08429  0.08490  0.07989  0.08090  449138535.0  1.073312e+10\n"
     ]
    }
   ],
   "source": [
    "print(Dogecoin.head())"
   ]
  },
  {
   "cell_type": "code",
   "execution_count": 84,
   "id": "fe1bb89d",
   "metadata": {},
   "outputs": [
    {
     "name": "stdout",
     "output_type": "stream",
     "text": [
      "<class 'pandas.core.frame.DataFrame'>\n",
      "DatetimeIndex: 3346 entries, 2023-02-28 to 2014-01-01\n",
      "Data columns (total 6 columns):\n",
      " #   Column      Non-Null Count  Dtype  \n",
      "---  ------      --------------  -----  \n",
      " 0   Open*       3346 non-null   float64\n",
      " 1   High        3346 non-null   float64\n",
      " 2   Low         3346 non-null   float64\n",
      " 3   Close**     3346 non-null   float64\n",
      " 4   Volume      3346 non-null   float64\n",
      " 5   Market Cap  3346 non-null   float64\n",
      "dtypes: float64(6)\n",
      "memory usage: 183.0 KB\n"
     ]
    }
   ],
   "source": [
    "Dogecoin.info()"
   ]
  },
  {
   "cell_type": "markdown",
   "id": "3a91b8f0",
   "metadata": {},
   "source": [
    "We have the 'Date' indexed with 3346 entries, 28/02/2023 to 01/01/2014. and the rest 6 columns have the correct data type float64 that will allow us to work with this data."
   ]
  },
  {
   "cell_type": "markdown",
   "id": "5f1951b0",
   "metadata": {},
   "source": [
    "# Sorting by Date"
   ]
  },
  {
   "cell_type": "code",
   "execution_count": 87,
   "id": "ec21c6c5",
   "metadata": {},
   "outputs": [],
   "source": [
    "Dogecoin_df = Dogecoin.sort_values(by=\"Date\", ascending=True)"
   ]
  },
  {
   "cell_type": "code",
   "execution_count": 88,
   "id": "380ce910",
   "metadata": {},
   "outputs": [
    {
     "name": "stdout",
     "output_type": "stream",
     "text": [
      "               Open*      High       Low   Close**    Volume  Market Cap\n",
      "Date                                                                    \n",
      "2014-01-01  0.000423  0.000451  0.000423  0.000440  307917.0   8335005.0\n",
      "2014-01-02  0.000449  0.000449  0.000331  0.000353  318037.0   6935467.0\n",
      "2014-01-03  0.000353  0.000376  0.000293  0.000303  303106.0   6162990.0\n",
      "2014-01-04  0.000305  0.000320  0.000256  0.000301  313907.0   6323972.0\n",
      "2014-01-05  0.000300  0.000312  0.000247  0.000271  245107.0   5883644.0\n"
     ]
    }
   ],
   "source": [
    "print(Dogecoin_df.head())"
   ]
  },
  {
   "cell_type": "markdown",
   "id": "0b32fc24",
   "metadata": {},
   "source": [
    "We have cleaned and ready our DataFrame(Dogecoin) for start the analysis."
   ]
  },
  {
   "cell_type": "code",
   "execution_count": null,
   "id": "a12c2e38",
   "metadata": {},
   "outputs": [],
   "source": []
  }
 ],
 "metadata": {
  "kernelspec": {
   "display_name": "Python 3 (ipykernel)",
   "language": "python",
   "name": "python3"
  },
  "language_info": {
   "codemirror_mode": {
    "name": "ipython",
    "version": 3
   },
   "file_extension": ".py",
   "mimetype": "text/x-python",
   "name": "python",
   "nbconvert_exporter": "python",
   "pygments_lexer": "ipython3",
   "version": "3.9.13"
  }
 },
 "nbformat": 4,
 "nbformat_minor": 5
}
