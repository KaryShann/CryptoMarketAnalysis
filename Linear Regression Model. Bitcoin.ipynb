{
 "cells": [
  {
   "cell_type": "markdown",
   "id": "4dc9fdeb",
   "metadata": {},
   "source": [
    "# Prediction of Bitcoin Price one week into the future.\n",
    "## Linear Regression Model"
   ]
  },
  {
   "cell_type": "markdown",
   "id": "6c2ccf70",
   "metadata": {},
   "source": [
    "I will load the historical Bitcoin price data from a CSV file, train a linear regression model on the data and then uses the trained model to predict the price of Bitcoin one week into the future.\n",
    "\n",
    "First I updated the file for the CSV that contain the Data for Bitcoin. I got the Data from the website CoinMarketCap in the CSV format, this file contain the dataset with 3616 rows and 7 columns, Dates start in 28/04/2013 - 22/03/2023 and have values of Date, Open Price, High, Low, Close Price, Volume and Market Capitalization. \n",
    "\n",
    "Import the libraries that we will need. (pandas, numpy, and LinearRegression from scikit-learn) and loads the Bitcoin price data from the CSV file into a pandas DataFrame.\n"
   ]
  },
  {
   "cell_type": "code",
   "execution_count": 6,
   "id": "9097945b",
   "metadata": {},
   "outputs": [
    {
     "name": "stdout",
     "output_type": "stream",
     "text": [
      "<class 'pandas.core.frame.DataFrame'>\n",
      "RangeIndex: 3616 entries, 0 to 3615\n",
      "Data columns (total 7 columns):\n",
      " #   Column      Non-Null Count  Dtype  \n",
      "---  ------      --------------  -----  \n",
      " 0   Date        3616 non-null   object \n",
      " 1   Open        3616 non-null   float64\n",
      " 2   High        3616 non-null   float64\n",
      " 3   Low         3616 non-null   float64\n",
      " 4   Close       3616 non-null   float64\n",
      " 5   Volume      3616 non-null   float64\n",
      " 6   Market Cap  3616 non-null   float64\n",
      "dtypes: float64(6), object(1)\n",
      "memory usage: 197.9+ KB\n"
     ]
    },
    {
     "data": {
      "text/html": [
       "<div>\n",
       "<style scoped>\n",
       "    .dataframe tbody tr th:only-of-type {\n",
       "        vertical-align: middle;\n",
       "    }\n",
       "\n",
       "    .dataframe tbody tr th {\n",
       "        vertical-align: top;\n",
       "    }\n",
       "\n",
       "    .dataframe thead th {\n",
       "        text-align: right;\n",
       "    }\n",
       "</style>\n",
       "<table border=\"1\" class=\"dataframe\">\n",
       "  <thead>\n",
       "    <tr style=\"text-align: right;\">\n",
       "      <th></th>\n",
       "      <th>Date</th>\n",
       "      <th>Open</th>\n",
       "      <th>High</th>\n",
       "      <th>Low</th>\n",
       "      <th>Close</th>\n",
       "      <th>Volume</th>\n",
       "      <th>Market Cap</th>\n",
       "    </tr>\n",
       "  </thead>\n",
       "  <tbody>\n",
       "    <tr>\n",
       "      <th>0</th>\n",
       "      <td>mar 22, 2023</td>\n",
       "      <td>28158.72</td>\n",
       "      <td>28803.34</td>\n",
       "      <td>26760.00</td>\n",
       "      <td>27307.44</td>\n",
       "      <td>3.338202e+10</td>\n",
       "      <td>5.277206e+11</td>\n",
       "    </tr>\n",
       "    <tr>\n",
       "      <th>1</th>\n",
       "      <td>mar 21, 2023</td>\n",
       "      <td>27768.39</td>\n",
       "      <td>28439.56</td>\n",
       "      <td>27439.65</td>\n",
       "      <td>28175.82</td>\n",
       "      <td>3.610219e+10</td>\n",
       "      <td>5.444733e+11</td>\n",
       "    </tr>\n",
       "    <tr>\n",
       "      <th>2</th>\n",
       "      <td>mar 20, 2023</td>\n",
       "      <td>28041.60</td>\n",
       "      <td>28527.72</td>\n",
       "      <td>27242.88</td>\n",
       "      <td>27767.24</td>\n",
       "      <td>4.477403e+10</td>\n",
       "      <td>5.365531e+11</td>\n",
       "    </tr>\n",
       "    <tr>\n",
       "      <th>3</th>\n",
       "      <td>mar 19, 2023</td>\n",
       "      <td>26969.50</td>\n",
       "      <td>28440.56</td>\n",
       "      <td>26907.72</td>\n",
       "      <td>28038.67</td>\n",
       "      <td>3.776945e+10</td>\n",
       "      <td>5.417713e+11</td>\n",
       "    </tr>\n",
       "    <tr>\n",
       "      <th>4</th>\n",
       "      <td>mar 18, 2023</td>\n",
       "      <td>27448.12</td>\n",
       "      <td>27725.95</td>\n",
       "      <td>26636.26</td>\n",
       "      <td>26965.88</td>\n",
       "      <td>3.572304e+10</td>\n",
       "      <td>5.210184e+11</td>\n",
       "    </tr>\n",
       "    <tr>\n",
       "      <th>...</th>\n",
       "      <td>...</td>\n",
       "      <td>...</td>\n",
       "      <td>...</td>\n",
       "      <td>...</td>\n",
       "      <td>...</td>\n",
       "      <td>...</td>\n",
       "      <td>...</td>\n",
       "    </tr>\n",
       "    <tr>\n",
       "      <th>3611</th>\n",
       "      <td>may 02, 2013</td>\n",
       "      <td>116.38</td>\n",
       "      <td>125.60</td>\n",
       "      <td>92.28</td>\n",
       "      <td>105.21</td>\n",
       "      <td>0.000000e+00</td>\n",
       "      <td>1.168517e+09</td>\n",
       "    </tr>\n",
       "    <tr>\n",
       "      <th>3612</th>\n",
       "      <td>may 01, 2013</td>\n",
       "      <td>139.00</td>\n",
       "      <td>139.89</td>\n",
       "      <td>107.72</td>\n",
       "      <td>116.99</td>\n",
       "      <td>0.000000e+00</td>\n",
       "      <td>1.298955e+09</td>\n",
       "    </tr>\n",
       "    <tr>\n",
       "      <th>3613</th>\n",
       "      <td>Apr 30, 2013</td>\n",
       "      <td>144.00</td>\n",
       "      <td>146.93</td>\n",
       "      <td>134.05</td>\n",
       "      <td>139.00</td>\n",
       "      <td>0.000000e+00</td>\n",
       "      <td>1.542813e+09</td>\n",
       "    </tr>\n",
       "    <tr>\n",
       "      <th>3614</th>\n",
       "      <td>Apr 29, 2013</td>\n",
       "      <td>134.44</td>\n",
       "      <td>147.49</td>\n",
       "      <td>134.00</td>\n",
       "      <td>144.54</td>\n",
       "      <td>0.000000e+00</td>\n",
       "      <td>1.603769e+09</td>\n",
       "    </tr>\n",
       "    <tr>\n",
       "      <th>3615</th>\n",
       "      <td>Apr 28, 2013</td>\n",
       "      <td>135.30</td>\n",
       "      <td>135.98</td>\n",
       "      <td>132.10</td>\n",
       "      <td>134.21</td>\n",
       "      <td>0.000000e+00</td>\n",
       "      <td>1.488567e+09</td>\n",
       "    </tr>\n",
       "  </tbody>\n",
       "</table>\n",
       "<p>3616 rows × 7 columns</p>\n",
       "</div>"
      ],
      "text/plain": [
       "              Date      Open      High       Low     Close        Volume  \\\n",
       "0     mar 22, 2023  28158.72  28803.34  26760.00  27307.44  3.338202e+10   \n",
       "1     mar 21, 2023  27768.39  28439.56  27439.65  28175.82  3.610219e+10   \n",
       "2     mar 20, 2023  28041.60  28527.72  27242.88  27767.24  4.477403e+10   \n",
       "3     mar 19, 2023  26969.50  28440.56  26907.72  28038.67  3.776945e+10   \n",
       "4     mar 18, 2023  27448.12  27725.95  26636.26  26965.88  3.572304e+10   \n",
       "...            ...       ...       ...       ...       ...           ...   \n",
       "3611  may 02, 2013    116.38    125.60     92.28    105.21  0.000000e+00   \n",
       "3612  may 01, 2013    139.00    139.89    107.72    116.99  0.000000e+00   \n",
       "3613  Apr 30, 2013    144.00    146.93    134.05    139.00  0.000000e+00   \n",
       "3614  Apr 29, 2013    134.44    147.49    134.00    144.54  0.000000e+00   \n",
       "3615  Apr 28, 2013    135.30    135.98    132.10    134.21  0.000000e+00   \n",
       "\n",
       "        Market Cap  \n",
       "0     5.277206e+11  \n",
       "1     5.444733e+11  \n",
       "2     5.365531e+11  \n",
       "3     5.417713e+11  \n",
       "4     5.210184e+11  \n",
       "...            ...  \n",
       "3611  1.168517e+09  \n",
       "3612  1.298955e+09  \n",
       "3613  1.542813e+09  \n",
       "3614  1.603769e+09  \n",
       "3615  1.488567e+09  \n",
       "\n",
       "[3616 rows x 7 columns]"
      ]
     },
     "execution_count": 6,
     "metadata": {},
     "output_type": "execute_result"
    }
   ],
   "source": [
    "import pandas as pd\n",
    "import numpy as np\n",
    "from sklearn.linear_model import LinearRegression\n",
    "import matplotlib.pyplot as plt\n",
    "\n",
    "# Load the data from the CSV file into a pandas DataFrame\n",
    "df = pd.read_csv('./Bitcoin_updated - Bitcoin.csv')\n",
    "\n",
    "df['Open'] = df['Open'].str.replace('[^\\d\\.]', '', regex=True)\n",
    "df['High'] = df['High'].str.replace('[^\\d\\.]', '', regex=True)\n",
    "df['Low'] = df['Low'].str.replace('[^\\d\\.]', '', regex=True)\n",
    "df['Close'] = df['Close'].str.replace('[^\\d\\.]', '', regex=True)\n",
    "df['Volume'] = df['Volume'].str.replace('[^\\d\\.]', '', regex=True)\n",
    "df['Market Cap'] = df['Market Cap'].str.replace('[^\\d\\.]', '', regex=True)\n",
    "\n",
    "df[['Open', 'High','Low','Close','Volume','Market Cap']] = df[['Open', 'High','Low','Close','Volume','Market Cap']].astype(float)\n",
    "#df = df.sort_values(by=\"Date\", ascending=True)\n",
    "\n",
    "df.info()\n",
    "df"
   ]
  },
  {
   "cell_type": "markdown",
   "id": "3516b653",
   "metadata": {},
   "source": [
    "As we see that the df doesn't have any missing values, we will continue with converting the 'Date' column, to a datetime object and sort the DataFrame by date in ascending order."
   ]
  },
  {
   "cell_type": "code",
   "execution_count": 7,
   "id": "78ce64b2",
   "metadata": {},
   "outputs": [],
   "source": [
    "# Convert the date column to a datetime object\n",
    "df['Date'] = pd.to_datetime(df['Date'])\n",
    "\n",
    "# Sort the data by date in ascending order\n",
    "df = df.sort_values('Date')"
   ]
  },
  {
   "cell_type": "markdown",
   "id": "3f68fcc3",
   "metadata": {},
   "source": [
    "Create the feature matrix X and the target vector y. The feature matrix contains only the 'Close' column of df, and the target vector is created by shifting the 'Close' column up by one week using the shift method. The reshape method is used to ensure that X and y have the correct shape for use with scikit-learn's LinearRegression model.\n",
    "\n",
    "\"Linear\" refers to the fact that the model assumes a linear relationship between the independent variables (the closing price of Bitcoin) and the dependent variable (the Bitcoin price one week into the future)."
   ]
  },
  {
   "cell_type": "code",
   "execution_count": 8,
   "id": "1f80e616",
   "metadata": {},
   "outputs": [],
   "source": [
    "# Use only the closing price column for the analysis\n",
    "X = np.array(df['Close']).reshape(-1, 1)\n",
    "\n",
    "# Create the target variable by shifting the closing price column up by one week\n",
    "y = np.array(df['Close'].shift(-7)).reshape(-1, 1)"
   ]
  },
  {
   "cell_type": "markdown",
   "id": "ff832f6e",
   "metadata": {},
   "source": [
    "Splits the data into training and testing sets using an 80/20 split. train_size is calculated as 80% of the total length of X, and the data is split into X_train (the first 80% of X) and X_test (the remaining 20% of X). The same split is applied to y to create y_train and y_test."
   ]
  },
  {
   "cell_type": "code",
   "execution_count": 9,
   "id": "e76fcd90",
   "metadata": {},
   "outputs": [],
   "source": [
    "# Split the data into training and testing sets\n",
    "train_size = int(len(X) * 0.8)\n",
    "X_train, X_test = X[:train_size], X[train_size:]\n",
    "y_train, y_test = y[:train_size], y[train_size:]"
   ]
  },
  {
   "cell_type": "markdown",
   "id": "7f73f69e",
   "metadata": {},
   "source": [
    "Creates a LinearRegression object called lr and fits it to the training data using the fit method."
   ]
  },
  {
   "cell_type": "code",
   "execution_count": 10,
   "id": "08a0b11d",
   "metadata": {},
   "outputs": [
    {
     "data": {
      "text/plain": [
       "LinearRegression()"
      ]
     },
     "execution_count": 10,
     "metadata": {},
     "output_type": "execute_result"
    }
   ],
   "source": [
    "# Fit the linear regression model to the training data\n",
    "lr = LinearRegression()\n",
    "lr.fit(X_train, y_train)"
   ]
  },
  {
   "cell_type": "markdown",
   "id": "19f966eb",
   "metadata": {},
   "source": [
    "I used the trained linear regression model to make predictions on the testing data (X_test) using the predict method."
   ]
  },
  {
   "cell_type": "code",
   "execution_count": 11,
   "id": "1d7b84bf",
   "metadata": {},
   "outputs": [],
   "source": [
    "# Make predictions on the testing data\n",
    "predictions = lr.predict(X_test)"
   ]
  },
  {
   "cell_type": "markdown",
   "id": "6a29f2b5",
   "metadata": {},
   "source": [
    "Prints out the coefficients and intercept of the linear regression model."
   ]
  },
  {
   "cell_type": "code",
   "execution_count": 12,
   "id": "503d9422",
   "metadata": {},
   "outputs": [
    {
     "name": "stdout",
     "output_type": "stream",
     "text": [
      "Coefficients: [[1.03546429]]\n",
      "Intercept: [-47.97558918]\n"
     ]
    }
   ],
   "source": [
    "# Print the coefficients and intercept of the linear regression model\n",
    "print('Coefficients:', lr.coef_)\n",
    "print('Intercept:', lr.intercept_)"
   ]
  },
  {
   "cell_type": "markdown",
   "id": "c0785f27",
   "metadata": {},
   "source": [
    "Finally, I use the trained model to predict the price of Bitcoin one week into the future. It first retrieves the last known price of Bitcoin from df, then uses the predict method of the trained model to make the prediction."
   ]
  },
  {
   "cell_type": "code",
   "execution_count": 13,
   "id": "0d71f347",
   "metadata": {},
   "outputs": [
    {
     "name": "stdout",
     "output_type": "stream",
     "text": [
      "Next week prediction: 28227.903434518135\n"
     ]
    }
   ],
   "source": [
    "# Predict the closing price of Bitcoin one week into the future\n",
    "last_price = df['Close'].iloc[-1]\n",
    "next_week_prediction = lr.predict([[last_price]])[0][0]\n",
    "print('Next week prediction:', next_week_prediction)"
   ]
  },
  {
   "cell_type": "markdown",
   "id": "bd66c369",
   "metadata": {},
   "source": [
    "Now we can graphic the results."
   ]
  },
  {
   "cell_type": "code",
   "execution_count": 3,
   "id": "bd83a81e",
   "metadata": {
    "scrolled": false
   },
   "outputs": [
    {
     "data": {
      "image/png": "[encoded data removed]",
      "text/plain": [
       "<Figure size 640x480 with 1 Axes>"
      ]
     },
     "metadata": {},
     "output_type": "display_data"
    }
   ],
   "source": [
    "# Plot the predicted prices and the actual prices\n",
    "plt.plot(y_test, label='Actual')\n",
    "plt.plot(predictions, label='Predicted')\n",
    "plt.xlabel('Time (days)')\n",
    "plt.ylabel('Bitcoin Price (USD)')\n",
    "plt.title('Bitcoin Price Prediction')\n",
    "plt.legend()\n",
    "plt.show()\n"
   ]
  },
  {
   "cell_type": "markdown",
   "id": "3dd62497",
   "metadata": {},
   "source": [
    "As we can see, the Current prices and the Predicted Prices follow a linear pattern, that shows that this model have an accurate prediction of Future Prices, this is a really difficult thing to do I can say, as I try different ways to get the results the best that I could, some times my graphics and the model was giving me back prices that was wrong, but eventually I got this done. "
   ]
  },
  {
   "cell_type": "markdown",
   "id": "1f7b2038",
   "metadata": {},
   "source": [
    "One important point to be consider is that the cryptocurrency market is highly volatile, and past performance may not necessarily indicate future returns."
   ]
  },
  {
   "cell_type": "code",
   "execution_count": null,
   "id": "563a82a3",
   "metadata": {},
   "outputs": [],
   "source": []
  }
 ],
 "metadata": {
  "kernelspec": {
   "display_name": "Python 3 (ipykernel)",
   "language": "python",
   "name": "python3"
  },
  "language_info": {
   "codemirror_mode": {
    "name": "ipython",
    "version": 3
   },
   "file_extension": ".py",
   "mimetype": "text/x-python",
   "name": "python",
   "nbconvert_exporter": "python",
   "pygments_lexer": "ipython3",
   "version": "3.9.13"
  }
 },
 "nbformat": 4,
 "nbformat_minor": 5
}
